{
 "cells": [
  {
   "cell_type": "markdown",
   "id": "8d79511a-f83c-4f5b-95a1-54c3c400eb49",
   "metadata": {},
   "source": [
    "### Insertion of an  element in linked list at front"
   ]
  },
  {
   "cell_type": "code",
   "execution_count": null,
   "id": "50d8cddc-0011-4d97-874f-4a6468d35cbf",
   "metadata": {},
   "outputs": [],
   "source": [
    "class Node:\n",
    "    def __init__(self,data):\n",
    "        self.data= data\n",
    "        self.next=None\n",
    "class LinkedList:\n",
    "    def __init__(self):\n",
    "        self.head=None\n",
    "        \n",
    "        # insertion at front/ begining  of linked list\n",
    "    def front_insertion(self,new_data):\n",
    "        # Creation of new node\n",
    "        new_node= Node(new_data)\n",
    "        # Insertion at front\n",
    "        new_node.next=self.head\n",
    "        self.head=new_node\n",
    "    def print_linkedlist(self):\n",
    "        temp=self.head\n",
    "        while temp:\n",
    "            print(f'{temp.data} --> ',end=' ')\n",
    "            temp=temp.next\n"
   ]
  },
  {
   "cell_type": "code",
   "execution_count": 10,
   "id": "ff106e7f-eee3-414b-923d-a3cd1100e81e",
   "metadata": {},
   "outputs": [],
   "source": [
    "llist=LinkedList()\n",
    " \n",
    "llist.front_insertion(60)\n",
    "llist.front_insertion(50)\n",
    "llist.front_insertion(40)\n",
    "llist.front_insertion(30)\n",
    "llist.front_insertion(20)\n",
    "llist.front_insertion(10)\n"
   ]
  },
  {
   "cell_type": "code",
   "execution_count": 11,
   "id": "fe990cc9-eae9-4dc9-8b20-8872ff25c0f2",
   "metadata": {},
   "outputs": [
    {
     "name": "stdout",
     "output_type": "stream",
     "text": [
      "10 -->  20 -->  30 -->  40 -->  50 -->  60 -->  "
     ]
    }
   ],
   "source": [
    "llist.print_linkedlist()"
   ]
  },
  {
   "cell_type": "code",
   "execution_count": 12,
   "id": "243cabe5-24f0-47f8-98d7-1a449c5eec8c",
   "metadata": {},
   "outputs": [
    {
     "data": {
      "text/plain": [
       "<__main__.Node at 0x7f0697a5c640>"
      ]
     },
     "execution_count": 12,
     "metadata": {},
     "output_type": "execute_result"
    }
   ],
   "source": [
    "llist.head"
   ]
  },
  {
   "cell_type": "code",
   "execution_count": 13,
   "id": "73963e54-ff8e-4b78-ae12-38506ab0f880",
   "metadata": {},
   "outputs": [
    {
     "name": "stdout",
     "output_type": "stream",
     "text": [
      "<__main__.Node object at 0x7f0697a5c640>\n"
     ]
    }
   ],
   "source": [
    "print(llist.head)"
   ]
  },
  {
   "cell_type": "markdown",
   "id": "dbe19519-dcd6-4bf2-a376-5e87c985433f",
   "metadata": {},
   "source": [
    "### Insertion of an element in linked list at end"
   ]
  },
  {
   "cell_type": "code",
   "execution_count": 3,
   "id": "5b7e7920-a8f6-46d1-90b0-4154d107c519",
   "metadata": {},
   "outputs": [],
   "source": [
    "class Node:\n",
    "    def __init__(self,data):\n",
    "        self.data= data\n",
    "        self.next=None\n",
    "class LinkedList:\n",
    "    def __init__(self):\n",
    "        self.head=None\n",
    "        \n",
    "        # insertion at front/ begining  of linked list\n",
    "    def end_insertion(self,new_data):\n",
    "        # Creation of new node\n",
    "        new_node= Node(new_data)\n",
    "        if self.head is None:\n",
    "            self.head=new_node\n",
    "            return  \n",
    "        # Insertion at front\n",
    "        temp=self.head\n",
    "        while temp.next:\n",
    "            temp=temp.next\n",
    "        temp.next=new_node\n",
    "         \n",
    "         \n",
    "    def print_linkedlist(self):\n",
    "        temp=self.head\n",
    "        while temp:\n",
    "            print(f'{temp.data} --> ',end=' ')\n",
    "            temp=temp.next\n"
   ]
  },
  {
   "cell_type": "code",
   "execution_count": 4,
   "id": "afd23652-beb9-4aa0-bc50-8827f64a791d",
   "metadata": {},
   "outputs": [
    {
     "name": "stdout",
     "output_type": "stream",
     "text": [
      "60 -->  50 -->  40 -->  30 -->  20 -->  10 -->  "
     ]
    }
   ],
   "source": [
    "llist=LinkedList()\n",
    " \n",
    "llist.end_insertion(60)\n",
    "llist.end_insertion(50)\n",
    "llist.end_insertion(40)\n",
    "llist.end_insertion(30)\n",
    "llist.end_insertion(20)\n",
    "llist.end_insertion(10)\n",
    "llist.print_linkedlist()\n"
   ]
  },
  {
   "cell_type": "markdown",
   "id": "9ecdcafe-706e-4be8-a9d8-d723b7fa640a",
   "metadata": {},
   "source": [
    "### Insertion of an element at middle of the Linked list"
   ]
  },
  {
   "cell_type": "code",
   "execution_count": 158,
   "id": "ff258bd3-59f8-4ffc-96b1-0bf0822f1c33",
   "metadata": {},
   "outputs": [],
   "source": [
    "class Node:\n",
    "    def __init__(self,data):\n",
    "        self.data=data\n",
    "        self.head=None\n",
    "class LinkedList:\n",
    "    def __init__(self):\n",
    "        self.head=None\n",
    "    \n",
    "    # Insertion at front of the linked list\n",
    "    def front_insertion(self,new_data):\n",
    "        new_node=Node(new_data)\n",
    "        new_node.next=self.head\n",
    "        self.head=new_node\n",
    "    \n",
    "    # Insertion an element at middle of linked list\n",
    "    def middle_insertion(self,middle_data):\n",
    "        # If no element in the linked list then middle element is inserted into the linked list\n",
    "        if self.head == None:\n",
    "            self.head=Node(middle_data)\n",
    "        # If linked list have elements the find the middle element index\n",
    "        else:\n",
    "            \n",
    "            length=0\n",
    "            temp=self.head\n",
    "            # find the length of linked list\n",
    "            while temp:\n",
    "                temp=temp.next\n",
    "                length+=1\n",
    "                \n",
    "            #count= (length//2 if length%2==0 else (length\n",
    "            \"\"\"if length % 2==0:\n",
    "                count=length//2\n",
    "            else:\n",
    "                count=(length+1)//2\"\"\" \n",
    "            print(length)\n",
    "            count=length//2\n",
    "            print(count)\n",
    "            temp=self.head\n",
    "            while count >1:\n",
    "                count-=1\n",
    "                temp=temp.next\n",
    "            new_node=Node(middle_data)\n",
    "            new_node.next= temp.next\n",
    "            temp.next=new_node \n",
    "    \n",
    "            \n",
    "    def print_linkedList(self):\n",
    "        temp=self.head\n",
    "        while temp:\n",
    "            print(f'{temp.data} -->',end=' ')\n",
    "            temp=temp.next"
   ]
  },
  {
   "cell_type": "code",
   "execution_count": 159,
   "id": "cafa6cbe-7678-42bc-a792-ba5cb7ad4906",
   "metadata": {},
   "outputs": [],
   "source": [
    "List=LinkedList()"
   ]
  },
  {
   "cell_type": "code",
   "execution_count": 160,
   "id": "d4649804-bac7-45ab-b800-08fcd035bd81",
   "metadata": {},
   "outputs": [],
   "source": [
    "List.front_insertion(50)\n",
    "List.front_insertion(40)\n",
    "List.front_insertion(20)\n",
    "List.front_insertion(10)\n"
   ]
  },
  {
   "cell_type": "code",
   "execution_count": 161,
   "id": "79595ebc-8c06-46fb-816d-00552bbd8b7f",
   "metadata": {},
   "outputs": [
    {
     "name": "stdout",
     "output_type": "stream",
     "text": [
      "10 --> 20 --> 40 --> 50 --> "
     ]
    }
   ],
   "source": [
    "List.print_linkedList()"
   ]
  },
  {
   "cell_type": "code",
   "execution_count": 162,
   "id": "e7c4bd67-8334-4935-b708-1bba292a929d",
   "metadata": {},
   "outputs": [
    {
     "name": "stdout",
     "output_type": "stream",
     "text": [
      "4\n",
      "2\n"
     ]
    }
   ],
   "source": [
    "List.middle_insertion(30)"
   ]
  },
  {
   "cell_type": "code",
   "execution_count": 163,
   "id": "a5219b9c-cc83-4039-af5d-28eaa48e4c62",
   "metadata": {},
   "outputs": [
    {
     "name": "stdout",
     "output_type": "stream",
     "text": [
      "10 --> 20 --> 30 --> 40 --> 50 --> "
     ]
    }
   ],
   "source": [
    "List.print_linkedList()"
   ]
  },
  {
   "cell_type": "code",
   "execution_count": 164,
   "id": "75a10577-7d69-4d48-92bf-ab987eeeb9d7",
   "metadata": {},
   "outputs": [
    {
     "name": "stdout",
     "output_type": "stream",
     "text": [
      "5 --> 10 --> 20 --> 30 --> 40 --> 50 --> "
     ]
    }
   ],
   "source": [
    "List.front_insertion(5)\n",
    "List.print_linkedList()"
   ]
  },
  {
   "cell_type": "code",
   "execution_count": 165,
   "id": "ce598704-6ed1-426a-b374-557b8da9b27d",
   "metadata": {},
   "outputs": [
    {
     "name": "stdout",
     "output_type": "stream",
     "text": [
      "6\n",
      "3\n",
      "5 --> 10 --> 20 --> 15 --> 30 --> 40 --> 50 --> "
     ]
    }
   ],
   "source": [
    "List.middle_insertion(15)\n",
    "List.print_linkedList()"
   ]
  },
  {
   "cell_type": "code",
   "execution_count": 166,
   "id": "cda8a83d-fe29-4a6b-a96e-913a4866bf6b",
   "metadata": {},
   "outputs": [
    {
     "name": "stdout",
     "output_type": "stream",
     "text": [
      "7\n",
      "3\n",
      "5 --> 10 --> 20 --> 150 --> 15 --> 30 --> 40 --> 50 --> "
     ]
    }
   ],
   "source": [
    "List.middle_insertion(150)\n",
    "List.print_linkedList()"
   ]
  },
  {
   "cell_type": "markdown",
   "id": "41daae09-81cc-4989-b08d-bb8277263059",
   "metadata": {},
   "source": [
    "### Insertion an element in the linked list at given location"
   ]
  },
  {
   "cell_type": "code",
   "execution_count": 204,
   "id": "463fe433-8942-444e-aafa-d72d91f52785",
   "metadata": {
    "tags": []
   },
   "outputs": [],
   "source": [
    "class Node:\n",
    "    def __init__(self,data):\n",
    "        self.data=data\n",
    "        self.head=None\n",
    "class LinkedList:\n",
    "    def __init__(self):\n",
    "        self.head=None\n",
    "    \n",
    "    # Insertion at front of the linked list\n",
    "    def front_insertion(self,new_data):\n",
    "        new_node=Node(new_data)\n",
    "        new_node.next=self.head\n",
    "        self.head=new_node\n",
    "    \n",
    "    # Insertion an element at middle of linked list\n",
    "    def middle_insertion(self,middle_data,x):\n",
    "        if x==0:\n",
    "            new_node=Node(middle_data)\n",
    "            new_node.next=self.head\n",
    "            self.head=new_node\n",
    "        # If no element in the linked list then middle element is inserted into the linked list\n",
    "        elif self.head == None:\n",
    "            self.head=Node(middle_data)\n",
    "        # If linked list have elements the find the middle element index\n",
    "        \n",
    "        else:\n",
    "            \n",
    "            temp=self.head\n",
    "            while x >1:\n",
    "                x-=1\n",
    "                temp=temp.next\n",
    "            new_node=Node(middle_data)\n",
    "            new_node.next= temp.next\n",
    "            temp.next=new_node \n",
    "    \n",
    "            \n",
    "    def print_linkedList(self):\n",
    "        temp=self.head\n",
    "        while temp:\n",
    "            print(f'{temp.data} -->',end=' ')\n",
    "            temp=temp.next"
   ]
  },
  {
   "cell_type": "code",
   "execution_count": 205,
   "id": "b796c01b-dec7-41e3-b94c-b13aab89a14f",
   "metadata": {},
   "outputs": [],
   "source": [
    "List1=LinkedList()"
   ]
  },
  {
   "cell_type": "code",
   "execution_count": 206,
   "id": "ec1a6978-712d-445b-831d-675633903234",
   "metadata": {},
   "outputs": [
    {
     "name": "stdout",
     "output_type": "stream",
     "text": [
      "10 --> 20 --> 40 --> 50 --> "
     ]
    }
   ],
   "source": [
    "List1.front_insertion(50)\n",
    "List1.front_insertion(40)\n",
    "List1.front_insertion(20)\n",
    "List1.front_insertion(10)\n",
    "List1.print_linkedList()"
   ]
  },
  {
   "cell_type": "code",
   "execution_count": 207,
   "id": "7a08fc1e-ae65-4b3f-8b26-9e709a57e61b",
   "metadata": {},
   "outputs": [
    {
     "name": "stdout",
     "output_type": "stream",
     "text": [
      "30 --> 10 --> 20 --> 40 --> 50 --> "
     ]
    }
   ],
   "source": [
    "List1.middle_insertion(30,0)\n",
    "List1.print_linkedList()"
   ]
  },
  {
   "cell_type": "code",
   "execution_count": 208,
   "id": "2cefff2b-112b-4f95-bf94-afb51aacd850",
   "metadata": {},
   "outputs": [
    {
     "name": "stdout",
     "output_type": "stream",
     "text": [
      "30 --> 10 --> 20 --> 40 --> 60 --> 50 --> "
     ]
    }
   ],
   "source": [
    "List1.middle_insertion(60,4)\n",
    "List1.print_linkedList()"
   ]
  },
  {
   "cell_type": "code",
   "execution_count": 210,
   "id": "bebccfdb-1611-4d86-ab32-8e5ae2b89fe9",
   "metadata": {},
   "outputs": [
    {
     "name": "stdout",
     "output_type": "stream",
     "text": [
      "30 --> 10 --> 20 --> 40 --> 60 --> 70 --> 50 --> "
     ]
    }
   ],
   "source": [
    "List1.middle_insertion(70,5)\n",
    "List1.print_linkedList()"
   ]
  },
  {
   "cell_type": "code",
   "execution_count": null,
   "id": "787f9cbe-65a6-40c8-886e-92801397f577",
   "metadata": {},
   "outputs": [],
   "source": []
  },
  {
   "cell_type": "code",
   "execution_count": 107,
   "id": "33cdfa66-80d5-4ff6-ac6f-ab3c3a17680d",
   "metadata": {
    "tags": []
   },
   "outputs": [
    {
     "name": "stdout",
     "output_type": "stream",
     "text": [
      "Linked list before insertion: 1 2 4 5 \n",
      "Linked list after insertion: 1 2 3 4 5 "
     ]
    }
   ],
   "source": [
    "class Node:\n",
    "  \n",
    "    # constructor to create a new node\n",
    "    def __init__(self, data):\n",
    "        self.data = data\n",
    "        self.next = None \n",
    "def insertAtMid(head, x):\n",
    "  \n",
    "    if(head == None): #if the list is empty\n",
    "        head = Node(x)\n",
    "    else:\n",
    "        newNode = Node(x)\n",
    "  \n",
    "        ptr = head\n",
    "        length = 0\n",
    "     \n",
    "        while(ptr != None):\n",
    "            ptr = ptr.next\n",
    "            length += 1\n",
    " \n",
    "        if(length % 2 == 0):\n",
    "            count = length / 2 \n",
    "        else:\n",
    "            (length + 1) / 2\n",
    "  \n",
    "        ptr = head\n",
    "  \n",
    "        # move ptr to the node after which\n",
    "        # the new node has to inserted\n",
    "        while(count > 1):\n",
    "            count -= 1\n",
    "            ptr = ptr.next\n",
    "  \n",
    "        # insert the 'newNode' and adjust\n",
    "        # links accordingly\n",
    "        newNode.next = ptr.next\n",
    "        ptr.next = newNode\n",
    "  \n",
    "# function to display the linked list\n",
    "def display(head):\n",
    "    temp = head\n",
    "    while(temp != None):\n",
    "        print(str(temp.data), end = \" \")\n",
    "        temp = temp.next\n",
    "  \n",
    "# Driver Code\n",
    "  \n",
    "# Creating the linked list 1.2.4.5\n",
    "head = Node(1)\n",
    "head.next = Node(2)\n",
    "head.next.next = Node(4)\n",
    "head.next.next.next = Node(5)\n",
    "  \n",
    "print(\"Linked list before insertion: \", end = \"\")\n",
    "display(head)\n",
    "  \n",
    "# inserting 3 in the middle of the linked list.\n",
    "x = 3\n",
    "insertAtMid(head, x)\n",
    "  \n",
    "print(\"\\nLinked list after insertion: \" , end = \"\")\n",
    "display(head)"
   ]
  },
  {
   "cell_type": "markdown",
   "id": "231649e0-fbb7-45c6-afaf-8b423805144a",
   "metadata": {
    "tags": []
   },
   "source": [
    "### Insertion an element in the linked list at end of the linked list"
   ]
  },
  {
   "cell_type": "code",
   "execution_count": 7,
   "id": "6526b55d-60b8-4e1f-9994-6964ebca64fc",
   "metadata": {},
   "outputs": [],
   "source": [
    "class Node:\n",
    "    def __init__(self,data):\n",
    "        self.data= data\n",
    "        self.next=None\n",
    "class LinkedList:\n",
    "    def __init__(self):\n",
    "        self.head=None\n",
    "        \n",
    "        # insertion at end/ last of linked list\n",
    "    def end_insertion(self,new_data):\n",
    "        # Creation of new node\n",
    "        new_node= Node(new_data)\n",
    "        # Insertion at front\n",
    "        if self.head is None:\n",
    "            self.head=new_node\n",
    "            return\n",
    "        \n",
    "        temp=self.head\n",
    "        while temp.next:\n",
    "            temp=temp.next\n",
    "        temp.next=new_node\n",
    "        \n",
    "    def reverseList(self):\n",
    "        prev = None\n",
    "        next_ptr = None\n",
    "        curr = self.head\n",
    "        \n",
    "        while curr:\n",
    "            next_ptr = curr.next\n",
    "            curr.next = prev\n",
    "            prev = curr\n",
    "            curr = next_ptr\n",
    "        ## linkage of head node to the last node is required\n",
    "        self.head = prev\n",
    "    \n",
    "         \n",
    "    def print_linkedlist(self):\n",
    "        temp=self.head\n",
    "        while temp:\n",
    "            print(f'{temp.data} --> ',end=' ')\n",
    "            temp=temp.next"
   ]
  },
  {
   "cell_type": "code",
   "execution_count": 8,
   "id": "a3055fd9-0f15-49c5-8e30-9bb82669006b",
   "metadata": {},
   "outputs": [],
   "source": [
    "List=LinkedList()\n",
    "List.end_insertion(50)\n",
    "List.end_insertion(40)\n",
    "List.end_insertion(20)\n",
    "List.end_insertion(10)"
   ]
  },
  {
   "cell_type": "code",
   "execution_count": 9,
   "id": "986f3a6e-f749-4e9e-a6d7-7c301749a89b",
   "metadata": {},
   "outputs": [
    {
     "name": "stdout",
     "output_type": "stream",
     "text": [
      "50 -->  40 -->  20 -->  10 -->  "
     ]
    }
   ],
   "source": [
    "List.print_linkedlist() "
   ]
  },
  {
   "cell_type": "code",
   "execution_count": 10,
   "id": "8914a440-9802-4916-9b0e-d9626b8e4999",
   "metadata": {},
   "outputs": [],
   "source": [
    "List.reverseList()\n"
   ]
  },
  {
   "cell_type": "code",
   "execution_count": 11,
   "id": "15cfd743-ef27-4b57-95f5-ebf3af3c192c",
   "metadata": {},
   "outputs": [
    {
     "name": "stdout",
     "output_type": "stream",
     "text": [
      "10 -->  20 -->  40 -->  50 -->  "
     ]
    }
   ],
   "source": [
    "List.print_linkedlist() "
   ]
  },
  {
   "cell_type": "markdown",
   "id": "70074559-bec7-4921-adb7-8b9ccda98fe1",
   "metadata": {},
   "source": [
    "### Insertion an element in the linked list after any node in the linked list"
   ]
  },
  {
   "cell_type": "code",
   "execution_count": 5,
   "id": "8b7dc9df-2ef2-4602-9958-a04b0ba1d778",
   "metadata": {},
   "outputs": [],
   "source": [
    "class Node:\n",
    "    def __init__(self,data):\n",
    "        self.data= data\n",
    "        self.next=None\n",
    "class LinkedList:\n",
    "    def __init__(self):\n",
    "        self.head=None\n",
    "        \n",
    "        # insertion at front/ begining  of linked list\n",
    "    def front_insertion(self,new_data):\n",
    "        # Creation of new node\n",
    "        new_node= Node(new_data)\n",
    "        # Insertion at front\n",
    "        new_node.next=self.head\n",
    "        self.head=new_node\n",
    "        \n",
    "    def insertion_after_node(self,prev_node,new_data):\n",
    "        if prev_node is None:\n",
    "            print(\"Given node is avilable in the linked list\")\n",
    "        new_node=Node(new_data)\n",
    "        new_node.next=prev_node.next\n",
    "        prev_node.next= new_node\n",
    "            \n",
    "            \n",
    "    def print_linkedlist(self):\n",
    "        temp=self.head\n",
    "        while temp:\n",
    "            print(f'{temp.data} --> ',end=' ')\n",
    "            temp=temp.next"
   ]
  },
  {
   "cell_type": "code",
   "execution_count": 6,
   "id": "7dcd48bc-0486-4d3d-8243-c22f82581cc2",
   "metadata": {},
   "outputs": [
    {
     "name": "stdout",
     "output_type": "stream",
     "text": [
      "10 -->  20 -->  40 -->  50 -->  "
     ]
    }
   ],
   "source": [
    "List=LinkedList()\n",
    "List.front_insertion(50)\n",
    "List.front_insertion(40)\n",
    "List.front_insertion(20)\n",
    "List.front_insertion(10)\n",
    "List.print_linkedlist()"
   ]
  },
  {
   "cell_type": "code",
   "execution_count": 7,
   "id": "13215abc-7a5b-4cdf-bf2c-417cb6782075",
   "metadata": {},
   "outputs": [
    {
     "name": "stdout",
     "output_type": "stream",
     "text": [
      "10 -->  20 -->  40 -->  55 -->  50 -->  "
     ]
    }
   ],
   "source": [
    "List.insertion_after_node(List.head.next.next,55)\n",
    "List.print_linkedlist()"
   ]
  },
  {
   "cell_type": "code",
   "execution_count": null,
   "id": "03ffdb04-e9c2-40c8-a06b-6b18931fdae5",
   "metadata": {},
   "outputs": [],
   "source": []
  },
  {
   "cell_type": "markdown",
   "id": "916d7359-e423-45fe-9c06-9bc5a22e7569",
   "metadata": {},
   "source": [
    "### Deletion in linked list"
   ]
  },
  {
   "cell_type": "code",
   "execution_count": 20,
   "id": "f963b46c-dc24-4368-b8db-8468df37ec9e",
   "metadata": {},
   "outputs": [
    {
     "name": "stdout",
     "output_type": "stream",
     "text": [
      "1  2  3  4  5  \n",
      "1  2  4  5  "
     ]
    }
   ],
   "source": [
    "class Node:\n",
    "    def __init__(self,data):\n",
    "        self.data=data\n",
    "        self.next=None\n",
    "def deletion(head,position):\n",
    "    # Check the linked list is empty or not\n",
    "    if head is None:\n",
    "        return \"linked list empty \"\n",
    "    count=0\n",
    "    temp=head\n",
    "    while count < position-1:\n",
    "        temp=temp.next\n",
    "        count+=1\n",
    "        #if temp is None: \n",
    "         #   return \n",
    "    next_ptr=temp.next.next\n",
    "    temp.next=None\n",
    "    temp.next=next_ptr\n",
    "def display_linkedlist(head):\n",
    "    temp=head\n",
    "    while temp:\n",
    "        print(f'{temp.data} ',end=' ')\n",
    "        temp=temp.next\n",
    "head=Node(1)\n",
    "head.next=Node(2)\n",
    "head.next.next=Node(3)\n",
    "head.next.next.next=Node(4)\n",
    "head.next.next.next.next=Node(5)\n",
    "display_linkedlist(head)\n",
    "deletion(head,2)\n",
    "print()\n",
    "display_linkedlist(head)"
   ]
  },
  {
   "cell_type": "markdown",
   "id": "7b953a60-6612-404e-8e42-699e701f27c0",
   "metadata": {},
   "source": [
    "### search an element in linked list\n",
    "- Linear search - O(N)"
   ]
  },
  {
   "cell_type": "code",
   "execution_count": 2,
   "id": "8dda790e-55d5-4700-bbe8-8389071c7d01",
   "metadata": {},
   "outputs": [
    {
     "name": "stdout",
     "output_type": "stream",
     "text": [
      "2  4  12  20  32  "
     ]
    },
    {
     "data": {
      "text/plain": [
       "True"
      ]
     },
     "execution_count": 2,
     "metadata": {},
     "output_type": "execute_result"
    }
   ],
   "source": [
    "class Node:\n",
    "    def __init__(self,data):\n",
    "        self.data=data\n",
    "        self.next=None\n",
    "def search_element(head,element):\n",
    "    # Check the linked list is empty or not\n",
    "    if head is None:\n",
    "        return False\n",
    "   \n",
    "    temp=head\n",
    "    while temp:\n",
    "        if temp.data == element:\n",
    "            return True\n",
    "        temp=temp.next\n",
    "    return False\n",
    "     \n",
    "def display_linkedlist(head):\n",
    "    temp=head\n",
    "    while temp:\n",
    "        print(f'{temp.data} ',end=' ')\n",
    "        temp=temp.next\n",
    "head=Node(2)\n",
    "head.next=Node(4)\n",
    "head.next.next=Node(12)\n",
    "head.next.next.next=Node(20)\n",
    "head.next.next.next.next=Node(32)\n",
    "display_linkedlist(head)\n",
    "search_element(head,20)\n",
    "#print()\n",
    "#display_linkedlist(head)"
   ]
  },
  {
   "cell_type": "code",
   "execution_count": 3,
   "id": "fffa3971-f586-4543-8826-ab08045b1be2",
   "metadata": {},
   "outputs": [
    {
     "name": "stdout",
     "output_type": "stream",
     "text": [
      "2  4  12  20  32  "
     ]
    },
    {
     "data": {
      "text/plain": [
       "False"
      ]
     },
     "execution_count": 3,
     "metadata": {},
     "output_type": "execute_result"
    }
   ],
   "source": [
    "display_linkedlist(head)\n",
    "search_element(head,25)"
   ]
  },
  {
   "cell_type": "markdown",
   "id": "f88d24d5-18c3-48ee-ace5-2d0ec444b248",
   "metadata": {},
   "source": [
    "### Reversal of the linked list"
   ]
  },
  {
   "cell_type": "code",
   "execution_count": 26,
   "id": "244447ec-86e3-40c7-a6c1-ce01d0face48",
   "metadata": {},
   "outputs": [
    {
     "name": "stdout",
     "output_type": "stream",
     "text": [
      "First Linked List\n",
      "10  20  40  70  100  \n",
      "Second Linked List\n",
      "8  12  17  27  49  \n",
      "Merge Lists\n",
      "8  10  12  17  20  27  40  49  70  100  "
     ]
    }
   ],
   "source": [
    "class Node:\n",
    "    def __init__(self, data):\n",
    "        self.data = data\n",
    "        self.next = None\n",
    "\n",
    "class LinkedList:\n",
    "    def __init__(self):\n",
    "        self.head = None\n",
    "    \n",
    "    ## insert at the front/beginning of the linked list\n",
    "    def insertAtEnd(self, new_data):\n",
    "        ## creation of the new node\n",
    "        new_node = Node(new_data)\n",
    "        \n",
    "        ## linked list is empty\n",
    "        if self.head is None:\n",
    "            self.head = new_node\n",
    "            return\n",
    "        \n",
    "        ## insertion at the end\n",
    "        temp = self.head\n",
    "        while temp.next:\n",
    "            temp = temp.next\n",
    "        \n",
    "        temp.next = new_node\n",
    "    \n",
    "    ## reversal of the linked list\n",
    "    def merge_two_sorted_linked_lists(self,head1,head2):\n",
    "        temp=None\n",
    "        if head1 is None:\n",
    "            return head2\n",
    "        if head2 is None:\n",
    "            return head1\n",
    "        if head1.data < head2.data:\n",
    "            temp=head1\n",
    "            temp.next=merge_two_sorted_linked_lists(head1.next,head2)\n",
    "        else:\n",
    "            temp=head2\n",
    "            temp.next=merge_two_sorted_linked_lists(head1,head2.next)\n",
    " \n",
    "    \n",
    "    ## print the linked list\n",
    "    def printList(self):\n",
    "        temp = self.head\n",
    "        while temp:\n",
    "            print(str(temp.data)+\" \",end=\" \")\n",
    "            temp = temp.next\n",
    "   \n",
    "    \n",
    "def mergeLists(head1, head2):\n",
    "    temp = None\n",
    "    ## llist1 is empty\n",
    "    if head1 is None:\n",
    "        return head2\n",
    "    \n",
    "    ## llist2 is empty\n",
    "    if head2 is None:\n",
    "        return head1\n",
    "    \n",
    "    if head1.data <= head2.data:\n",
    "        temp = head1\n",
    "        ## recursive function calling happened\n",
    "        temp.next = mergeLists(head1.next, head2)\n",
    "    else:\n",
    "        ## recursive function calling happened\n",
    "        temp = head2\n",
    "        temp.next = mergeLists(head1, head2.next)\n",
    "    return temp\n",
    "        \n",
    "    \n",
    "## Driver code\n",
    "llist1 = LinkedList()\n",
    "## function calling\n",
    "llist1.insertAtEnd(10)\n",
    "llist1.insertAtEnd(20)\n",
    "llist1.insertAtEnd(40)\n",
    "llist1.insertAtEnd(70)\n",
    "llist1.insertAtEnd(100)\n",
    "#llist1.insertAtEnd(16)\n",
    "print(\"First Linked List\")\n",
    "llist1.printList()\n",
    "print()\n",
    "\n",
    "llist2 = LinkedList()\n",
    "## function calling\n",
    "llist2.insertAtEnd(8)\n",
    "llist2.insertAtEnd(12)\n",
    "llist2.insertAtEnd(17)\n",
    "llist2.insertAtEnd(27)\n",
    "llist2.insertAtEnd(49)\n",
    "print(\"Second Linked List\")\n",
    "llist2.printList()\n",
    "print()\n",
    "\n",
    "llist3 = LinkedList()\n",
    "llist3.head = mergeLists(llist1.head, llist2.head)\n",
    "print(\"Merge Lists\")\n",
    "llist3.printList()"
   ]
  },
  {
   "cell_type": "markdown",
   "id": "f1095e2d-a62d-4f01-8a7f-772783a02cd2",
   "metadata": {},
   "source": [
    "### Count the number of nodes in the linked list"
   ]
  },
  {
   "cell_type": "code",
   "execution_count": 21,
   "id": "18c08ed2-c367-420d-9a36-abf608d92c23",
   "metadata": {},
   "outputs": [
    {
     "name": "stdout",
     "output_type": "stream",
     "text": [
      "2  4  12  20  32  50  "
     ]
    },
    {
     "data": {
      "text/plain": [
       "True"
      ]
     },
     "execution_count": 21,
     "metadata": {},
     "output_type": "execute_result"
    }
   ],
   "source": [
    "class Node:\n",
    "    def __init__(self,data):\n",
    "        self.data=data\n",
    "        self.next=None\n",
    "def search_element(head,element):\n",
    "    # Check the linked list is empty or not\n",
    "    if head is None:\n",
    "        return False\n",
    "   \n",
    "    temp=head\n",
    "    while temp:\n",
    "        if temp.data == element:\n",
    "            return True\n",
    "        temp=temp.next\n",
    "    return False\n",
    "def count_nodes(head):\n",
    "    count=0\n",
    "    temp=head\n",
    "    while temp:\n",
    "        count+=1\n",
    "        temp=temp.next\n",
    "    return count\n",
    " \n",
    "def display_linkedlist(head):\n",
    "    temp=head\n",
    "    while temp:\n",
    "        print(f'{temp.data} ',end=' ')\n",
    "        temp=temp.next\n",
    "head=Node(2)\n",
    "head.next=Node(4)\n",
    "head.next.next=Node(12)\n",
    "head.next.next.next=Node(20)\n",
    "head.next.next.next.next=Node(32)\n",
    "head.next.next.next.next.next=Node(50)\n",
    "display_linkedlist(head)\n",
    "search_element(head,20)"
   ]
  },
  {
   "cell_type": "code",
   "execution_count": null,
   "id": "db833a80-21a2-4261-bb9c-d74e4772bb8f",
   "metadata": {},
   "outputs": [
    {
     "data": {
      "text/plain": [
       "6"
      ]
     },
     "execution_count": 22,
     "metadata": {},
     "output_type": "execute_result"
    }
   ],
   "source": [
    "count_nodes(head)"
   ]
  },
  {
   "cell_type": "markdown",
   "id": "7f21e020-93fe-4cb9-bfd2-f86adedcf347",
   "metadata": {},
   "source": [
    "### Find the cycle dection in the linked list\n",
    "- Floyd's cycle detection algorithm\n",
    "- Hare - Tortoise (Fast and slow pointers to detect the cycle)"
   ]
  },
  {
   "cell_type": "code",
   "execution_count": 3,
   "id": "ede6cb1d-985d-4db3-9fc9-8295b25b4dc4",
   "metadata": {},
   "outputs": [
    {
     "data": {
      "text/plain": [
       "'Cycle is found'"
      ]
     },
     "execution_count": 3,
     "metadata": {},
     "output_type": "execute_result"
    }
   ],
   "source": [
    "class Node:\n",
    "    def __init__(self,data):\n",
    "        self.data=data\n",
    "        self.next=None\n",
    "def cycle_detection(head):\n",
    "    temp=head\n",
    "    hare=temp\n",
    "    tortoise=temp\n",
    "    while tortoise and hare and hare.next:\n",
    "        hare=hare.next.next\n",
    "        tortoise=tortoise.next\n",
    "        if hare == tortoise:\n",
    "            return 'Cycle is found'\n",
    "         \n",
    "    return 'Cycle not found'\n",
    "def display_linkedlist(head):\n",
    "    temp=head\n",
    "    while temp:\n",
    "        print(f'{temp.data} ',end=' ')\n",
    "        temp=temp.next\n",
    "head=Node(2)\n",
    "head.next=Node(4)\n",
    "head.next.next=Node(12)\n",
    "head.next.next.next=Node(20)\n",
    "head.next.next.next.next=Node(51)\n",
    "head.next.next.next.next.next=head.next\n",
    "#display_linkedlist(head)\n",
    "cycle_detection(head)"
   ]
  },
  {
   "cell_type": "markdown",
   "id": "ce559933-dae8-4af6-bcf8-77788c6ffdb0",
   "metadata": {},
   "source": [
    "### Merge the two sorted linked lists\n"
   ]
  },
  {
   "cell_type": "code",
   "execution_count": 14,
   "id": "ab46aba3-352d-4dc7-b10e-64d4519ff7c7",
   "metadata": {},
   "outputs": [
    {
     "name": "stdout",
     "output_type": "stream",
     "text": [
      "10  20  40  70  100  \n",
      "8  12  17  27  49  "
     ]
    }
   ],
   "source": [
    "class Node:\n",
    "    def __init__(self,data):\n",
    "        self.data=data\n",
    "        self.next=None\n",
    "def merge_two_sorted_linked_lists(head1,head2):\n",
    "    temp=None\n",
    "    if head1 is None:\n",
    "        return head2\n",
    "    if head2 is None:\n",
    "        return head1\n",
    "    if head1.data < head2.data:\n",
    "        temp=head1\n",
    "        temp.next=merge_two_sorted_linked_lists(head1.next,head2)\n",
    "    else:\n",
    "        temp=head2\n",
    "        temp.next=merge_two_sorted_linked_lists(head1,head2.next)\n",
    "def display_linkedlist(head):\n",
    "    temp=head\n",
    "    while temp:\n",
    "        print(f'{temp.data} ',end=' ')\n",
    "        temp=temp.next\n",
    "head1=Node(10)\n",
    "head1.next=Node(20)\n",
    "head1.next.next=Node(40)\n",
    "head1.next.next.next=Node(70)\n",
    "head1.next.next.next.next=Node(100)\n",
    "display_linkedlist(head1)\n",
    "print()\n",
    "head2=Node(8)\n",
    "head2.next=Node(12)\n",
    "head2.next.next=Node(17)\n",
    "head2.next.next.next=Node(27)\n",
    "head2.next.next.next.next=Node(49)\n",
    "display_linkedlist(head2)\n",
    "\n",
    "#display_linkedlist(head)\n",
    "head3=merge_two_sorted_linked_lists(head1,head2)\n",
    "display_linkedlist(head3)"
   ]
  },
  {
   "cell_type": "code",
   "execution_count": null,
   "id": "4583c12e-782e-45a2-b727-53c0a16c388a",
   "metadata": {},
   "outputs": [],
   "source": []
  }
 ],
 "metadata": {
  "kernelspec": {
   "display_name": "Python 3 (ipykernel)",
   "language": "python",
   "name": "python3"
  },
  "language_info": {
   "codemirror_mode": {
    "name": "ipython",
    "version": 3
   },
   "file_extension": ".py",
   "mimetype": "text/x-python",
   "name": "python",
   "nbconvert_exporter": "python",
   "pygments_lexer": "ipython3",
   "version": "3.10.6"
  }
 },
 "nbformat": 4,
 "nbformat_minor": 5
}
