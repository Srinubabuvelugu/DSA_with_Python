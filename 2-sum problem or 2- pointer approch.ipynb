{
 "cells": [
  {
   "cell_type": "markdown",
   "id": "ffcd9d91-3990-4522-853b-1f319b9f8205",
   "metadata": {},
   "source": [
    "### Two sum problem or two pointer approch\n",
    "- Time complexity - O(N)\n",
    "- An array is in sorted order\n"
   ]
  },
  {
   "cell_type": "code",
   "execution_count": 5,
   "id": "496d5675-557d-4dd6-9de6-a1e7af08532b",
   "metadata": {},
   "outputs": [
    {
     "data": {
      "text/plain": [
       "(-1, -1)"
      ]
     },
     "execution_count": 5,
     "metadata": {},
     "output_type": "execute_result"
    }
   ],
   "source": [
    "\n",
    "\n",
    "def Two_pointer(arr, target):\n",
    "    l=0\n",
    "    r= len(arr)-1\n",
    "    for i in range(len(arr)):\n",
    "        if arr[l]+arr[r] == target:\n",
    "            return l,r\n",
    "        elif arr[l]+ arr[r] > target:\n",
    "            r-=1\n",
    "        else:\n",
    "            l+=1\n",
    "    return -1,-1\n",
    "Two_pointer(arr,target)\n",
    "    "
   ]
  },
  {
   "cell_type": "code",
   "execution_count": 6,
   "id": "de5d9e39-7cef-446f-9936-0840266cc445",
   "metadata": {},
   "outputs": [
    {
     "data": {
      "text/plain": [
       "(-1, -1)"
      ]
     },
     "execution_count": 6,
     "metadata": {},
     "output_type": "execute_result"
    }
   ],
   "source": [
    "arr=[20,40,50,75,120,145,200]\n",
    "target=9\n",
    "Two_pointer(arr,target)"
   ]
  },
  {
   "cell_type": "code",
   "execution_count": 8,
   "id": "2c67aac8-ee4c-4868-9353-8b8a30c0c382",
   "metadata": {},
   "outputs": [
    {
     "data": {
      "text/plain": [
       "(1, 2)"
      ]
     },
     "execution_count": 8,
     "metadata": {},
     "output_type": "execute_result"
    }
   ],
   "source": [
    "arr=[20,40,50,75,120,145,200]\n",
    "target=90\n",
    "Two_pointer(arr,target)"
   ]
  },
  {
   "cell_type": "code",
   "execution_count": null,
   "id": "f8b412a7-0df1-4e2e-b29c-b5530f04028e",
   "metadata": {},
   "outputs": [],
   "source": []
  }
 ],
 "metadata": {
  "kernelspec": {
   "display_name": "Python 3 (ipykernel)",
   "language": "python",
   "name": "python3"
  },
  "language_info": {
   "codemirror_mode": {
    "name": "ipython",
    "version": 3
   },
   "file_extension": ".py",
   "mimetype": "text/x-python",
   "name": "python",
   "nbconvert_exporter": "python",
   "pygments_lexer": "ipython3",
   "version": "3.10.6"
  }
 },
 "nbformat": 4,
 "nbformat_minor": 5
}
