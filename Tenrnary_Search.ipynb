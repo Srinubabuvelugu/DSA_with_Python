{
 "cells": [
  {
   "cell_type": "markdown",
   "id": "c594795a-10c4-47db-a1f0-25277a4ab278",
   "metadata": {},
   "source": [
    "## Ternary Search\n",
    "- Sorted array"
   ]
  },
  {
   "cell_type": "code",
   "execution_count": 3,
   "id": "b3408c2b-c943-4ecc-a1c7-33f237f71dd9",
   "metadata": {},
   "outputs": [],
   "source": [
    "def Ternary_Search(lst,target):\n",
    "    l,r=0,len(lst)-1\n",
    "    while l <= r:\n",
    "        mid1= l+(r-l)//3\n",
    "        mid2= r-(r-l)//3\n",
    "        if lst[mid1] == target:\n",
    "            return mid1\n",
    "        elif lst[mid2] == target:\n",
    "            return mid2\n",
    "        elif lst[mid1] > target:\n",
    "            r=mid1-1\n",
    "        elif lst[mid2] < target:\n",
    "            l = mid2+1\n",
    "        else:\n",
    "            l= mid1+1\n",
    "            r=mid2-1\n",
    "    return -1\n",
    "            "
   ]
  },
  {
   "cell_type": "code",
   "execution_count": 4,
   "id": "6a991e57-d833-49af-bfba-24839f26d1e1",
   "metadata": {},
   "outputs": [
    {
     "data": {
      "text/plain": [
       "-1"
      ]
     },
     "execution_count": 4,
     "metadata": {},
     "output_type": "execute_result"
    }
   ],
   "source": [
    "l=[1, 2, 3, 4, 5, 6, 7, 8, 9, 10]\n",
    "target=20\n",
    "Ternary_Search(l,target)"
   ]
  },
  {
   "cell_type": "code",
   "execution_count": 5,
   "id": "51a05a4d-6d31-40ac-8d89-a2720857d75b",
   "metadata": {},
   "outputs": [
    {
     "data": {
      "text/plain": [
       "9"
      ]
     },
     "execution_count": 5,
     "metadata": {},
     "output_type": "execute_result"
    }
   ],
   "source": [
    "l=[1, 2, 3, 4, 5, 6, 7, 8, 9, 10]\n",
    "target=10\n",
    "Ternary_Search(l,target)"
   ]
  },
  {
   "cell_type": "code",
   "execution_count": 6,
   "id": "ce0a5ac9-abf4-485b-9b95-a9bffc21f6bc",
   "metadata": {},
   "outputs": [
    {
     "data": {
      "text/plain": [
       "3"
      ]
     },
     "execution_count": 6,
     "metadata": {},
     "output_type": "execute_result"
    }
   ],
   "source": [
    "l=[12, 25, 48, 52, 67, 79, 88, 93]\n",
    "target=52\n",
    "Ternary_Search(l,target)"
   ]
  },
  {
   "cell_type": "markdown",
   "id": "f34a6e2b-54c6-4c61-afb6-fce28b435007",
   "metadata": {},
   "source": [
    "## Ternary Search by using Recusion"
   ]
  },
  {
   "cell_type": "code",
   "execution_count": 15,
   "id": "3d5599bc-cb6b-4974-a3a1-78f6f955d92c",
   "metadata": {},
   "outputs": [],
   "source": [
    "def Ternary_Search_recursion(lst,l,r,target):\n",
    "     \n",
    "    while l <= r:\n",
    "        mid1= l+(r-l)//3\n",
    "        mid2= r-(r-l)//3\n",
    "        if lst[mid1] == target:\n",
    "            return mid1\n",
    "        elif lst[mid2] == target:\n",
    "            return mid2\n",
    "        elif lst[mid1] > target:\n",
    "            return Ternary_Search_recursion(lst,l,mid1-1,target)\n",
    "            \n",
    "        elif lst[mid2] < target:\n",
    "            return Ternary_Search_recursion(lst,mid2+1,r,target)\n",
    "             \n",
    "        else:\n",
    "            return Ternary_Search_recursion(lst,mid1+1,mid2-1,target)\n",
    "    return -1"
   ]
  },
  {
   "cell_type": "code",
   "execution_count": 16,
   "id": "7d830c55-d108-4a7c-a339-e7723b0b60cb",
   "metadata": {},
   "outputs": [
    {
     "data": {
      "text/plain": [
       "-1"
      ]
     },
     "execution_count": 16,
     "metadata": {},
     "output_type": "execute_result"
    }
   ],
   "source": [
    "l=[1, 2, 3, 4, 5, 6, 7, 8, 9, 10]\n",
    "target=20\n",
    "Ternary_Search_recursion(l,0,len(l)-1,target)"
   ]
  },
  {
   "cell_type": "code",
   "execution_count": 19,
   "id": "bb3cfb4a-4412-4396-a9ff-0d10156abd9f",
   "metadata": {},
   "outputs": [
    {
     "data": {
      "text/plain": [
       "1"
      ]
     },
     "execution_count": 19,
     "metadata": {},
     "output_type": "execute_result"
    }
   ],
   "source": [
    "l=[1, 2, 3, 4, 5, 6, 7, 8, 9, 10]\n",
    "target=2\n",
    "Ternary_Search_recursion(l,0,len(l)-1,target)"
   ]
  },
  {
   "cell_type": "code",
   "execution_count": 17,
   "id": "49929118-2cdd-49c4-a698-2fcaa0a375d6",
   "metadata": {},
   "outputs": [
    {
     "data": {
      "text/plain": [
       "9"
      ]
     },
     "execution_count": 17,
     "metadata": {},
     "output_type": "execute_result"
    }
   ],
   "source": [
    "l=[1, 2, 3, 4, 5, 6, 7, 8, 9, 10]\n",
    "target=10\n",
    "Ternary_Search_recursion(l,0,len(l)-1,target)"
   ]
  },
  {
   "cell_type": "code",
   "execution_count": 18,
   "id": "de142393-0fe7-4b63-a485-8bb7170ff2ce",
   "metadata": {},
   "outputs": [
    {
     "data": {
      "text/plain": [
       "3"
      ]
     },
     "execution_count": 18,
     "metadata": {},
     "output_type": "execute_result"
    }
   ],
   "source": [
    "l=[12, 25, 48, 52, 67, 79, 88, 93]\n",
    "target=52\n",
    "Ternary_Search_recursion(l,0,len(l)-1,target)"
   ]
  },
  {
   "cell_type": "code",
   "execution_count": null,
   "id": "0a86c8ca-9575-4e38-8c28-2060d40c6145",
   "metadata": {},
   "outputs": [],
   "source": []
  }
 ],
 "metadata": {
  "kernelspec": {
   "display_name": "Python 3 (ipykernel)",
   "language": "python",
   "name": "python3"
  },
  "language_info": {
   "codemirror_mode": {
    "name": "ipython",
    "version": 3
   },
   "file_extension": ".py",
   "mimetype": "text/x-python",
   "name": "python",
   "nbconvert_exporter": "python",
   "pygments_lexer": "ipython3",
   "version": "3.10.6"
  }
 },
 "nbformat": 4,
 "nbformat_minor": 5
}
