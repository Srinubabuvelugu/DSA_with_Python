{
 "cells": [
  {
   "cell_type": "markdown",
   "id": "83160b8f-93f0-4a3c-8093-f3ca89da33bc",
   "metadata": {},
   "source": [
    "### Fibonacci_Series"
   ]
  },
  {
   "cell_type": "code",
   "execution_count": 3,
   "id": "504c178c-0bf4-4141-abf2-84ec55f9beb6",
   "metadata": {},
   "outputs": [
    {
     "name": "stdout",
     "output_type": "stream",
     "text": [
      "0 1 1 2 3 5 8 13 21 34 "
     ]
    }
   ],
   "source": [
    "def fibonacci_series(n):\n",
    "    if n==0:\n",
    "        return 0\n",
    "    elif n==1:\n",
    "        return 1\n",
    "    else:\n",
    "        return fibonacci_series(n-1) + fibonacci_series(n-2)\n",
    "n=10\n",
    "for i in range(n):\n",
    "    print(fibonacci_series(i),end=' ')"
   ]
  },
  {
   "cell_type": "code",
   "execution_count": 5,
   "id": "6dc1d5e0-6c0c-4f55-bf60-d7a3a6b4f847",
   "metadata": {},
   "outputs": [
    {
     "data": {
      "text/plain": [
       "6765"
      ]
     },
     "execution_count": 5,
     "metadata": {},
     "output_type": "execute_result"
    }
   ],
   "source": [
    "fibonacci_series(20)"
   ]
  },
  {
   "cell_type": "markdown",
   "id": "525e312b-a050-4397-b4bd-052e94ab727e",
   "metadata": {},
   "source": [
    "### Count the number of ways to reach upstaies\n",
    "- 1 step at a time or 2 steps at a time\n",
    "\n",
    "\n",
    "- n=1--->1way  - (1)\n",
    "- n=2--->2 ways  - (1,1) , (2)\n",
    "- n=3--->3 ways  - (1,1,1) , (2,1) , (1,2)\n",
    "- n=4--->5 ways  - (1,1,1,1) , (2,2) , (1,1,2) , (1,2,1) , (2,1,1)\n",
    "- n=5--->8 ways\n",
    "- ...     ...\n",
    "- ...     ...\n",
    "- ...     ...\n",
    "- n=n---> fibonacci(n-1) + fibonacci(n-2)"
   ]
  },
  {
   "cell_type": "code",
   "execution_count": 7,
   "id": "e1988802-a29e-4211-b008-976c4b4fffc3",
   "metadata": {},
   "outputs": [
    {
     "data": {
      "text/plain": [
       "89"
      ]
     },
     "execution_count": 7,
     "metadata": {},
     "output_type": "execute_result"
    }
   ],
   "source": [
    "def fibonacci_series(n):\n",
    "    if n==1:\n",
    "        return 1\n",
    "    elif n==2:\n",
    "        return 2\n",
    "    else:\n",
    "        return fibonacci_series(n-1) + fibonacci_series(n-2)\n",
    "fibonacci_series(10)"
   ]
  },
  {
   "cell_type": "code",
   "execution_count": null,
   "id": "2c0f4ff6-a5a4-432d-a5bf-90f912995097",
   "metadata": {},
   "outputs": [],
   "source": []
  }
 ],
 "metadata": {
  "kernelspec": {
   "display_name": "Python 3 (ipykernel)",
   "language": "python",
   "name": "python3"
  },
  "language_info": {
   "codemirror_mode": {
    "name": "ipython",
    "version": 3
   },
   "file_extension": ".py",
   "mimetype": "text/x-python",
   "name": "python",
   "nbconvert_exporter": "python",
   "pygments_lexer": "ipython3",
   "version": "3.10.6"
  }
 },
 "nbformat": 4,
 "nbformat_minor": 5
}
