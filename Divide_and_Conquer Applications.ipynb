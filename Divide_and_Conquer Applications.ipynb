{
 "cells": [
  {
   "cell_type": "markdown",
   "id": "49faaedb-29e7-4b7b-a73c-518606a96ef5",
   "metadata": {},
   "source": [
    "### Find Maxima and Minima in an array by using Divide and Conqure\n",
    "- Time complexity is O(N)"
   ]
  },
  {
   "cell_type": "code",
   "execution_count": 3,
   "id": "858f0175-9e2c-4306-8811-232841fbdba0",
   "metadata": {},
   "outputs": [
    {
     "data": {
      "text/plain": [
       "(75, 37)"
      ]
     },
     "execution_count": 3,
     "metadata": {},
     "output_type": "execute_result"
    }
   ],
   "source": [
    "def find_maxima_minima(arr,l,r):\n",
    "    # SMALLA PROBLEM\n",
    "    if l==r:\n",
    "        max_ele=arr[l]\n",
    "        min_ele=arr[l]\n",
    "    elif l == r-1:\n",
    "        if arr[l] < arr[r]:\n",
    "            max_ele=arr[r]\n",
    "            min_ele=arr[l]\n",
    "        else:\n",
    "            max_ele=arr[l]\n",
    "            min_ele=arr[r]\n",
    "    # BIG PROBLEM\n",
    "    else:\n",
    "        # DIVIDE PART\n",
    "        mid = l+(r-l)//2\n",
    "        # CONQUER PART\n",
    "        max_l,min_l=find_maxima_minima(arr,l,mid)\n",
    "        max_r,min_r=find_maxima_minima(arr,mid+1,r)\n",
    "        # COMBINE PART\n",
    "      \n",
    "        max_ele=( max_r if max_l < max_r else max_l)\n",
    "        min_ele= (max_r if min_r < min_l else min_r)\n",
    "    return max_ele,min_ele\n",
    "arr=[70,50,45,10,12,15,75,29,37,57]\n",
    "l=0\n",
    "r=len(arr)-1\n",
    "find_maxima_minima(arr,l,r)"
   ]
  },
  {
   "cell_type": "markdown",
   "id": "61a61220-4d23-4e7c-adb4-dc7274834741",
   "metadata": {},
   "source": [
    "### Findi the power of an element\n",
    "- a,n inputs\n",
    "- output = a^n"
   ]
  },
  {
   "cell_type": "code",
   "execution_count": 14,
   "id": "8431de0e-6af7-4a0d-99ab-b844dba890cd",
   "metadata": {},
   "outputs": [],
   "source": [
    "def find_power(a,n):\n",
    "    # Small Problem\n",
    "    if n == 0:\n",
    "        return 1\n",
    "    elif n==1:\n",
    "        return a\n",
    "    elif n<0:\n",
    "        a=1/a\n",
    "        n=abs(n)\n",
    "        return find_power(a,n) \n",
    "    \n",
    "    # Big Problem\n",
    "    else:\n",
    "        mid=n//2\n",
    "        result = find_power(a,mid)\n",
    "        if n % 2 ==0:\n",
    "            return result * result\n",
    "        else:\n",
    "            return 2 * result * result\n",
    " \n",
    "\n",
    " "
   ]
  },
  {
   "cell_type": "code",
   "execution_count": 15,
   "id": "be6908a6-aba8-4d89-9755-0bea2d72b5d8",
   "metadata": {},
   "outputs": [
    {
     "data": {
      "text/plain": [
       "32"
      ]
     },
     "execution_count": 15,
     "metadata": {},
     "output_type": "execute_result"
    }
   ],
   "source": [
    "find_power(2,5)"
   ]
  },
  {
   "cell_type": "code",
   "execution_count": 16,
   "id": "b1b3845c-c0b9-4f2a-96bf-b0c454d1a376",
   "metadata": {},
   "outputs": [
    {
     "data": {
      "text/plain": [
       "1024"
      ]
     },
     "execution_count": 16,
     "metadata": {},
     "output_type": "execute_result"
    }
   ],
   "source": [
    "find_power(2,10)"
   ]
  },
  {
   "cell_type": "code",
   "execution_count": 17,
   "id": "c7fe0e85-51e8-44c3-9689-169bcd6a37a9",
   "metadata": {},
   "outputs": [
    {
     "data": {
      "text/plain": [
       "0.25"
      ]
     },
     "execution_count": 17,
     "metadata": {},
     "output_type": "execute_result"
    }
   ],
   "source": [
    "find_power(2,-2)"
   ]
  },
  {
   "cell_type": "markdown",
   "id": "b95b2767-8bbb-47da-8ed2-a12cb61a9355",
   "metadata": {},
   "source": [
    "### Application of Divide and conquer - K th smallest element in an array by using Quick Sort"
   ]
  },
  {
   "cell_type": "code",
   "execution_count": 1,
   "id": "441af857-cde9-4991-84cd-c7ac7d9f3246",
   "metadata": {},
   "outputs": [
    {
     "data": {
      "text/plain": [
       "34"
      ]
     },
     "execution_count": 1,
     "metadata": {},
     "output_type": "execute_result"
    }
   ],
   "source": [
    "def partition(arr,p,q):\n",
    "    \n",
    "    i=p\n",
    "    pivot=arr[p]\n",
    "   \n",
    "    for j in range(i+1,len(arr)):\n",
    "        if arr[j] < pivot:\n",
    "            i+=1\n",
    "            arr[j],arr[i] = arr[i],arr[j]\n",
    "    arr[p],arr[i] = arr[i],arr[p]\n",
    "    return i+1\n",
    "def selection_procedure(arr,p,q,k):\n",
    "    if len(arr) == 1:\n",
    "        return arr[p]\n",
    "    if p < q:\n",
    "        m=partition(arr,p,q)\n",
    "        if m == k:\n",
    "            return arr[m-1]\n",
    "        elif m < k:\n",
    "            return selection_procedure(arr,m,q,k)\n",
    "        else:\n",
    "            return selection_procedure(arr,p,m-2,k)\n",
    "arr=[70,50,27,99,85,47,123,34,147]\n",
    "p=0\n",
    "q=len(arr)-1\n",
    "k=2\n",
    "selection_procedure(arr,p,q,k)"
   ]
  },
  {
   "cell_type": "markdown",
   "id": "75d87e2b-829c-40f0-ac57-c859b1cbb1bd",
   "metadata": {},
   "source": [
    "### Randomized Quick sort\n",
    "- To select the random element as a pivot element"
   ]
  },
  {
   "cell_type": "code",
   "execution_count": 3,
   "id": "a0307f41-d5cf-4804-863f-558c7b22b02e",
   "metadata": {},
   "outputs": [
    {
     "data": {
      "text/plain": [
       "[27, 34, 47, 50, 70, 85, 99, 123, 147]"
      ]
     },
     "execution_count": 3,
     "metadata": {},
     "output_type": "execute_result"
    }
   ],
   "source": [
    "import random\n",
    "def random_partition(arr,p,q):\n",
    "    random_pivot= random.randrange(p,q)\n",
    "    #print(\"random pivot element:\" , arr[random_pivot])\n",
    "    arr[random_pivot],arr[p] = arr[p] , arr[random_pivot]\n",
    "    return partition(arr,p,q) \n",
    "\n",
    "def partition(arr,p,q):\n",
    "    \n",
    "    i=p\n",
    "    pivot=arr[p]\n",
    "   \n",
    "    for j in range(i+1,len(arr)):\n",
    "        if arr[j] < pivot:\n",
    "            i+=1\n",
    "            arr[j],arr[i] = arr[i],arr[j]\n",
    "    arr[p],arr[i] = arr[i],arr[p]\n",
    "    return i\n",
    "def quicksort(arr,p,q):\n",
    "    if p < q:\n",
    "        mid= random_partition(arr,p,q)\n",
    "        quicksort(arr,p,mid-1)\n",
    "        quicksort(arr,mid+1,q)\n",
    "    return arr\n",
    "arr=[70,50,27,99,85,47,123,34,147]\n",
    "p=0\n",
    "q=len(arr)-1\n",
    "quicksort(arr,p,q)"
   ]
  },
  {
   "cell_type": "code",
   "execution_count": null,
   "id": "ac853fa8-5634-4fe6-9458-aff8cf787188",
   "metadata": {},
   "outputs": [],
   "source": []
  }
 ],
 "metadata": {
  "kernelspec": {
   "display_name": "Python 3 (ipykernel)",
   "language": "python",
   "name": "python3"
  },
  "language_info": {
   "codemirror_mode": {
    "name": "ipython",
    "version": 3
   },
   "file_extension": ".py",
   "mimetype": "text/x-python",
   "name": "python",
   "nbconvert_exporter": "python",
   "pygments_lexer": "ipython3",
   "version": "3.10.6"
  }
 },
 "nbformat": 4,
 "nbformat_minor": 5
}
