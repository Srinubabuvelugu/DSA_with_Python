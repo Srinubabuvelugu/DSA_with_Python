{
 "cells": [
  {
   "cell_type": "markdown",
   "id": "6338a64e-b87e-447b-92ba-0dc76b076d18",
   "metadata": {},
   "source": [
    "### Top k fraquent elements using heap"
   ]
  },
  {
   "cell_type": "code",
   "execution_count": 6,
   "id": "13dec4a2-b531-49bb-a580-57fb06e77d66",
   "metadata": {},
   "outputs": [
    {
     "data": {
      "text/plain": [
       "[1, 2, 3]"
      ]
     },
     "execution_count": 6,
     "metadata": {},
     "output_type": "execute_result"
    }
   ],
   "source": [
    "from collections import Counter \n",
    "import heapq\n",
    "def top_k_frequent_ele(arr,k):\n",
    "    count=Counter(arr)\n",
    "    return heapq.nlargest(k,count.keys(),key=count.get)\n",
    "l=[1, 1, 1, 1, 2, 2, 3, 3, 4, 5]\n",
    "k=3\n",
    "top_k_frequent_ele(l,k)"
   ]
  },
  {
   "cell_type": "code",
   "execution_count": 6,
   "id": "28181760-e76a-4e24-a203-e2ce41930b48",
   "metadata": {},
   "outputs": [
    {
     "name": "stdout",
     "output_type": "stream",
     "text": [
      "2 numbers with most occurrences are:\n",
      "2 3 "
     ]
    }
   ],
   "source": [
    "def pr_N_mostFrequentNumber(arr, N, K):\n",
    " \n",
    "    mp = {}\n",
    "    for i in range(N):\n",
    "        if arr[i] in mp:\n",
    "            mp[arr[i]] += 1\n",
    "        else:\n",
    "            mp[arr[i]] = 1\n",
    "    a = [0] * (len(mp))\n",
    "    j = 0\n",
    "    for i in mp:\n",
    "        a[j] = [i, mp[i]]\n",
    "        j += 1\n",
    "    a = sorted(a, key=lambda x: x[0],\n",
    "               reverse=True)\n",
    "    a = sorted(a, key=lambda x: x[1],\n",
    "               reverse=True)\n",
    " \n",
    "    \n",
    "    print(K, \"numbers with most occurrences are:\")\n",
    "    for i in range(K):\n",
    "        print(a[i][0], end=\" \")\n",
    "arr=[1,2,3,3,2,1,2,2]\n",
    "K=2\n",
    "N=len(arr)\n",
    "pr_N_mostFrequentNumber(arr,N,K)"
   ]
  },
  {
   "cell_type": "markdown",
   "id": "b8fe8cd1-0a76-45c3-970f-c24f869258ff",
   "metadata": {},
   "source": [
    "## To Build Minheap\n",
    "## Heap sort"
   ]
  },
  {
   "cell_type": "code",
   "execution_count": 10,
   "id": "6414ba9f-064b-40bd-93e0-3d95721b0148",
   "metadata": {},
   "outputs": [
    {
     "name": "stdout",
     "output_type": "stream",
     "text": [
      "1 4 3 5 6 17 9 10 8 15 13 "
     ]
    }
   ],
   "source": [
    "def build_minheap(arr,n):\n",
    "    start_index = n//2 -1\n",
    "    for i in range(start_index,-1,-1):\n",
    "        heapify(arr,n,i)\n",
    "def heapify(arr,n,i):\n",
    "    left = 2*i +1\n",
    "    right = 2 * i + 2\n",
    "    largest=i\n",
    "    if left < n and arr[left] < arr[largest]:\n",
    "        largest = left\n",
    "    if right < n and arr[right] < arr[largest]:\n",
    "        largest = right\n",
    "    if largest != i:\n",
    "        arr[i],arr[largest] = arr[largest],arr[i]\n",
    "        heapify(arr,n,largest)\n",
    "arr = [1,10,9,8,15,17,3,5,4,6,13]\n",
    "n=len(arr)\n",
    "build_minheap(arr,n)\n",
    "for i in range(n):\n",
    "    print(arr[i],end= ' ')\n"
   ]
  },
  {
   "cell_type": "markdown",
   "id": "91bf3446-7aa3-4f3a-81a5-bd53730f259d",
   "metadata": {},
   "source": [
    "## Build max_heap"
   ]
  },
  {
   "cell_type": "code",
   "execution_count": 2,
   "id": "c812d426-b5e7-4693-b46c-e7e5771aecd5",
   "metadata": {},
   "outputs": [
    {
     "name": "stdout",
     "output_type": "stream",
     "text": [
      "17 15 9 8 13 1 3 5 4 6 10 "
     ]
    }
   ],
   "source": [
    "def build_maxheap(arr,n):\n",
    "    start_index = n//2 -1\n",
    "    for i in range(start_index,-1,-1):\n",
    "        heapify(arr,n,i)\n",
    "def heapify(arr,n,i):\n",
    "    left = 2*i +1\n",
    "    right = 2 * i + 2\n",
    "    largest=i\n",
    "    if left < n and arr[left] > arr[largest]:\n",
    "        largest = left\n",
    "    if right < n and arr[right] > arr[largest]:\n",
    "        largest = right\n",
    "    if largest != i:\n",
    "        arr[i],arr[largest] = arr[largest],arr[i]\n",
    "        heapify(arr,n,largest)\n",
    "arr = [1,10,9,8,15,17,3,5,4,6,13]\n",
    "n=len(arr)\n",
    "build_maxheap(arr,n)\n",
    "for i in range(n):\n",
    "    print(arr[i],end= ' ')"
   ]
  },
  {
   "cell_type": "code",
   "execution_count": 3,
   "id": "a33c6d04-8ad9-445d-bc7f-8a39600519b0",
   "metadata": {},
   "outputs": [
    {
     "name": "stdout",
     "output_type": "stream",
     "text": [
      "11 6 5 3 1 2 2 2 "
     ]
    }
   ],
   "source": [
    "arr = [11,2,2,3,1,2,5,6]\n",
    "n=len(arr)\n",
    "build_maxheap(arr,n)\n",
    "for i in range(n):\n",
    "    print(arr[i],end= ' ')"
   ]
  },
  {
   "cell_type": "markdown",
   "id": "fb381ef4-ebd4-49b1-a86f-fdd1f97aad53",
   "metadata": {},
   "source": [
    "### Top k closest ponts to origin"
   ]
  },
  {
   "cell_type": "code",
   "execution_count": 19,
   "id": "75737c8e-2fab-4401-8770-9d60b2c7351c",
   "metadata": {},
   "outputs": [
    {
     "data": {
      "text/plain": [
       "[[3, 3], [-2, 4]]"
      ]
     },
     "execution_count": 19,
     "metadata": {},
     "output_type": "execute_result"
    }
   ],
   "source": [
    "import heapq\n",
    "points=[[3,3],[-2,4],[5,-1]]\n",
    "n=len(points)\n",
    "k=2\n",
    " \n",
    "    \n",
    "def dis(x,y):\n",
    "    return (x**2 + y**2)**0.5\n",
    "def closest_points(points):\n",
    "    \n",
    "    minheap=list()\n",
    "    for x,y in points:\n",
    "        heapq.heappush(minheap,[dis(x,y),[x,y]])\n",
    "    lst=list()\n",
    "    for i in range(k):\n",
    "        lst.append(heapq.heappop(minheap)[1])\n",
    "    return lst\n",
    "closest_points(points)"
   ]
  },
  {
   "cell_type": "code",
   "execution_count": null,
   "id": "4e75b93d-1ea9-4700-9931-7e3de419b19e",
   "metadata": {},
   "outputs": [],
   "source": []
  }
 ],
 "metadata": {
  "kernelspec": {
   "display_name": "Python 3 (ipykernel)",
   "language": "python",
   "name": "python3"
  },
  "language_info": {
   "codemirror_mode": {
    "name": "ipython",
    "version": 3
   },
   "file_extension": ".py",
   "mimetype": "text/x-python",
   "name": "python",
   "nbconvert_exporter": "python",
   "pygments_lexer": "ipython3",
   "version": "3.10.6"
  }
 },
 "nbformat": 4,
 "nbformat_minor": 5
}
