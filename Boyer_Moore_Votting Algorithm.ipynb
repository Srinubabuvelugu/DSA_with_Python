{
 "cells": [
  {
   "cell_type": "code",
   "execution_count": 3,
   "id": "cfe4f72b-93e3-427f-b111-7e03cfdc100e",
   "metadata": {},
   "outputs": [
    {
     "name": "stdout",
     "output_type": "stream",
     "text": [
      "1\n"
     ]
    }
   ],
   "source": [
    "l=[2, 2, 1, 1, 1, 2, 2,1]\n",
    "candidate=l[0]\n",
    "count=1\n",
    "for i in range(1,len(l)):\n",
    "    if l[i] == candidate:\n",
    "        count+=1\n",
    "    else:\n",
    "        count-=1\n",
    "    if count == 0:\n",
    "        candidate = l[i]\n",
    "        count+=1\n",
    "if count > 0:\n",
    "    print(candidate)"
   ]
  },
  {
   "cell_type": "code",
   "execution_count": 4,
   "id": "4d6ca89d-9b32-487e-a0e9-115971518f58",
   "metadata": {},
   "outputs": [
    {
     "name": "stdout",
     "output_type": "stream",
     "text": [
      "2\n"
     ]
    }
   ],
   "source": [
    "l=[1,2,3,1,2]\n",
    "candidate=l[0]\n",
    "count=1\n",
    "for i in range(1,len(l)):\n",
    "    if l[i] == candidate:\n",
    "        count+=1\n",
    "    else:\n",
    "        count-=1\n",
    "    if count == 0:\n",
    "        candidate = l[i]\n",
    "        count+=1\n",
    "if count > 0:\n",
    "    print(candidate)"
   ]
  },
  {
   "cell_type": "code",
   "execution_count": 4,
   "id": "cf13ab6d-d195-405c-931b-8f84cada622d",
   "metadata": {},
   "outputs": [
    {
     "name": "stdout",
     "output_type": "stream",
     "text": [
      "2\n"
     ]
    }
   ],
   "source": [
    "l=[1,2,3,1,2]\n",
    "candidate=l[0]\n",
    "count=1\n",
    "for i in range(1,len(l)):\n",
    "    if l[i] == candidate:\n",
    "        count+=1\n",
    "    else:\n",
    "        count-=1\n",
    "    if count == 0:\n",
    "        candidate = l[i]\n",
    "        count+=1\n",
    "if count > 0:\n",
    "    print(candidate)"
   ]
  },
  {
   "cell_type": "code",
   "execution_count": null,
   "id": "27a4921a-3226-4bf3-9a85-38763a38ac05",
   "metadata": {},
   "outputs": [],
   "source": []
  }
 ],
 "metadata": {
  "kernelspec": {
   "display_name": "Python 3 (ipykernel)",
   "language": "python",
   "name": "python3"
  },
  "language_info": {
   "codemirror_mode": {
    "name": "ipython",
    "version": 3
   },
   "file_extension": ".py",
   "mimetype": "text/x-python",
   "name": "python",
   "nbconvert_exporter": "python",
   "pygments_lexer": "ipython3",
   "version": "3.10.6"
  }
 },
 "nbformat": 4,
 "nbformat_minor": 5
}
