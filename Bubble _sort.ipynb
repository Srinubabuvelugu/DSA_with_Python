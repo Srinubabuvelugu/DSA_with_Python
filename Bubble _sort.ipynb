{
 "cells": [
  {
   "cell_type": "markdown",
   "id": "cad03394-31ef-4b42-851f-e620a4501de6",
   "metadata": {},
   "source": [
    "## Bubble sort\n",
    "- sorted in increasing order\n",
    "- Time complexity - O(n^2)"
   ]
  },
  {
   "cell_type": "code",
   "execution_count": 28,
   "id": "223af695-5913-42b8-ac07-b52b0b44ebfe",
   "metadata": {},
   "outputs": [
    {
     "name": "stdout",
     "output_type": "stream",
     "text": [
      "[5, 15, 20, 30, 50, 70, 90]\n"
     ]
    }
   ],
   "source": [
    "\n",
    "lst=[70, 20, 50, 30, 90, 5, 15]\n",
    "for i in range(len(lst)):\n",
    "    \n",
    "    for j in range(len(lst)-i-1):\n",
    "        if lst[j] > lst[j+1]:\n",
    "            lst[j],lst[j+1]=lst[j+1],lst[j]\n",
    "            \n",
    "             \n",
    "print(lst)"
   ]
  },
  {
   "cell_type": "markdown",
   "id": "4d310e0d-ac7c-4aa4-b426-afe908c54655",
   "metadata": {},
   "source": [
    "- sorted in reverse order"
   ]
  },
  {
   "cell_type": "code",
   "execution_count": 31,
   "id": "2e59c0e7-acb1-47a8-a7a5-945cad7d0bab",
   "metadata": {},
   "outputs": [
    {
     "name": "stdout",
     "output_type": "stream",
     "text": [
      "[90, 70, 50, 30, 20, 15, 5]\n"
     ]
    }
   ],
   "source": [
    "\n",
    "lst=[70, 20, 50, 30, 90, 5, 15]\n",
    "for i in range(len(lst)):\n",
    "    \n",
    "    for j in range(len(lst)-i-1):\n",
    "        if lst[j] < lst[j+1]:\n",
    "            lst[j],lst[j+1]=lst[j+1],lst[j]\n",
    "            \n",
    "             \n",
    "print(lst)"
   ]
  },
  {
   "cell_type": "code",
   "execution_count": null,
   "id": "f9f5ad99-4e07-429c-bf52-db551bd172ea",
   "metadata": {},
   "outputs": [],
   "source": []
  }
 ],
 "metadata": {
  "kernelspec": {
   "display_name": "Python 3 (ipykernel)",
   "language": "python",
   "name": "python3"
  },
  "language_info": {
   "codemirror_mode": {
    "name": "ipython",
    "version": 3
   },
   "file_extension": ".py",
   "mimetype": "text/x-python",
   "name": "python",
   "nbconvert_exporter": "python",
   "pygments_lexer": "ipython3",
   "version": "3.10.6"
  }
 },
 "nbformat": 4,
 "nbformat_minor": 5
}
