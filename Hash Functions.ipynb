{
 "cells": [
  {
   "cell_type": "markdown",
   "id": "8eb853a4-78a8-49db-9476-a6130ef620e0",
   "metadata": {},
   "source": [
    "### hash function of digit holding method"
   ]
  },
  {
   "cell_type": "code",
   "execution_count": 17,
   "id": "bde5b50e-9ca4-4e44-9735-ce6eb67472ed",
   "metadata": {},
   "outputs": [],
   "source": [
    "class hash_value:\n",
    "    def __init__(self,key):\n",
    "        self.key=key\n",
    "        self.max=10\n",
    "    def get_hash(self):\n",
    "        #self.key=key\n",
    "        h=0\n",
    "        for i in self.key:\n",
    "            h+=ord(i)\n",
    "        print(h)\n",
    "        return h % self.max\n",
    "    "
   ]
  },
  {
   "cell_type": "code",
   "execution_count": 18,
   "id": "a2994169-85dd-4b65-acbd-97b1c4c015fe",
   "metadata": {},
   "outputs": [
    {
     "name": "stdout",
     "output_type": "stream",
     "text": [
      "581\n"
     ]
    },
    {
     "data": {
      "text/plain": [
       "1"
      ]
     },
     "execution_count": 18,
     "metadata": {},
     "output_type": "execute_result"
    }
   ],
   "source": [
    "h=hash_value('19FE1A04H2')\n",
    "h.get_hash()"
   ]
  },
  {
   "cell_type": "code",
   "execution_count": 86,
   "id": "938d9e32-cf42-47d5-8db2-429abc42c256",
   "metadata": {},
   "outputs": [],
   "source": [
    "class hashtable:\n",
    "    def __init__(self):\n",
    "        self.MAX=10\n",
    "        #self.key=key\n",
    "        #self.val=val\n",
    "        self.arr=[ None for i in range(self.MAX)]\n",
    "    def get_hash(self,key):\n",
    "        #self.key=key\n",
    "        h=0\n",
    "        for i in key:\n",
    "            h+=ord(i)\n",
    "        #print(h)\n",
    "        return h % self.MAX\n",
    "    def getitem(self,index):\n",
    "        h=self.get_hash(index)\n",
    "        return self.arr[h]\n",
    "    def setitem(self,key,val):\n",
    "        h=self.get_hash(key)\n",
    "        self.arr[h] = val\n",
    "    def delite(self,key):\n",
    "        h=self.get_hash(key)\n",
    "        self.arr[h]=None\n",
    "    "
   ]
  },
  {
   "cell_type": "code",
   "execution_count": 87,
   "id": "bed09807-61dd-4b80-9012-fa0403a70b60",
   "metadata": {},
   "outputs": [],
   "source": [
    "h=hashtable()"
   ]
  },
  {
   "cell_type": "code",
   "execution_count": 88,
   "id": "f900139d-9d40-4c79-954e-35c979946de0",
   "metadata": {},
   "outputs": [],
   "source": [
    "h.setitem('19FE1A04H2',55)"
   ]
  },
  {
   "cell_type": "code",
   "execution_count": 89,
   "id": "0b959627-70e3-4289-b27a-f832431f116b",
   "metadata": {},
   "outputs": [],
   "source": [
    "h.setitem('19FE1A04H4',95)\n",
    "h.setitem('19FE1A04H3',85)\n",
    "h.setitem('19FE1A04H1',75)"
   ]
  },
  {
   "cell_type": "code",
   "execution_count": 90,
   "id": "c347ce16-1463-46bb-8c62-cec8a9aa8818",
   "metadata": {},
   "outputs": [
    {
     "data": {
      "text/plain": [
       "[75, 55, 85, 95, None, None, None, None, None, None]"
      ]
     },
     "execution_count": 90,
     "metadata": {},
     "output_type": "execute_result"
    }
   ],
   "source": [
    "h.arr"
   ]
  },
  {
   "cell_type": "code",
   "execution_count": 91,
   "id": "e71b449b-597a-48b3-97e9-d80ee8910f85",
   "metadata": {},
   "outputs": [
    {
     "data": {
      "text/plain": [
       "55"
      ]
     },
     "execution_count": 91,
     "metadata": {},
     "output_type": "execute_result"
    }
   ],
   "source": [
    "h.getitem('19FE1A04H2')"
   ]
  },
  {
   "cell_type": "code",
   "execution_count": 92,
   "id": "cbd99b67-5936-4eea-b26f-43dec73c7866",
   "metadata": {},
   "outputs": [],
   "source": [
    "h.delite('19FE1A04H1')"
   ]
  },
  {
   "cell_type": "code",
   "execution_count": 93,
   "id": "62677621-a41c-4ec3-aa98-c260eae46651",
   "metadata": {},
   "outputs": [
    {
     "data": {
      "text/plain": [
       "[None, 55, 85, 95, None, None, None, None, None, None]"
      ]
     },
     "execution_count": 93,
     "metadata": {},
     "output_type": "execute_result"
    }
   ],
   "source": [
    "h.arr"
   ]
  },
  {
   "cell_type": "code",
   "execution_count": 94,
   "id": "7f2de38f-c82f-49c0-956a-82fdeff4ca6d",
   "metadata": {},
   "outputs": [],
   "source": [
    "h.setitem('19FE1A05H2',65)"
   ]
  },
  {
   "cell_type": "code",
   "execution_count": 95,
   "id": "d6dd9ad4-df6a-457a-9846-3094298421a2",
   "metadata": {},
   "outputs": [
    {
     "data": {
      "text/plain": [
       "2"
      ]
     },
     "execution_count": 95,
     "metadata": {},
     "output_type": "execute_result"
    }
   ],
   "source": [
    "h.get_hash('19FE1A05H2')"
   ]
  },
  {
   "cell_type": "code",
   "execution_count": 96,
   "id": "551c43eb-f685-45ce-b189-8ba286feb61d",
   "metadata": {},
   "outputs": [
    {
     "data": {
      "text/plain": [
       "[None, 55, 65, 95, None, None, None, None, None, None]"
      ]
     },
     "execution_count": 96,
     "metadata": {},
     "output_type": "execute_result"
    }
   ],
   "source": [
    "h.arr"
   ]
  },
  {
   "cell_type": "markdown",
   "id": "1b0909ae-daa2-4d85-be3b-707e95bd9c3d",
   "metadata": {},
   "source": [
    "### collision accers in between 19FE1A04H3 and 19FE1A05H2"
   ]
  },
  {
   "cell_type": "code",
   "execution_count": 97,
   "id": "ac4e319a-a79d-47af-9020-8804393fde76",
   "metadata": {},
   "outputs": [],
   "source": [
    "h.setitem('19FE1A05H2',65)"
   ]
  },
  {
   "cell_type": "code",
   "execution_count": 98,
   "id": "91db7933-deae-453e-97a6-1d7c5f5b4f71",
   "metadata": {},
   "outputs": [
    {
     "data": {
      "text/plain": [
       "65"
      ]
     },
     "execution_count": 98,
     "metadata": {},
     "output_type": "execute_result"
    }
   ],
   "source": [
    "h.getitem('19FE1A04H3') "
   ]
  },
  {
   "cell_type": "code",
   "execution_count": 19,
   "id": "21d75ce7-9b67-4ad8-a8de-ff3d8c2a41e2",
   "metadata": {},
   "outputs": [
    {
     "data": {
      "text/plain": [
       "['__call__',\n",
       " '__class__',\n",
       " '__delattr__',\n",
       " '__dir__',\n",
       " '__doc__',\n",
       " '__eq__',\n",
       " '__format__',\n",
       " '__ge__',\n",
       " '__getattribute__',\n",
       " '__gt__',\n",
       " '__hash__',\n",
       " '__init__',\n",
       " '__init_subclass__',\n",
       " '__le__',\n",
       " '__lt__',\n",
       " '__module__',\n",
       " '__name__',\n",
       " '__ne__',\n",
       " '__new__',\n",
       " '__qualname__',\n",
       " '__reduce__',\n",
       " '__reduce_ex__',\n",
       " '__repr__',\n",
       " '__self__',\n",
       " '__setattr__',\n",
       " '__sizeof__',\n",
       " '__str__',\n",
       " '__subclasshook__',\n",
       " '__text_signature__']"
      ]
     },
     "execution_count": 19,
     "metadata": {},
     "output_type": "execute_result"
    }
   ],
   "source": [
    "dir(hash)"
   ]
  },
  {
   "cell_type": "markdown",
   "id": "5523d65f-5dc7-4ea5-b675-484c338af243",
   "metadata": {},
   "source": [
    "### Collison resolution Techiniqes \n",
    "1. Open Adderessig <br>\n",
    "        1.1 Linear Probing<br>\n",
    "        1.2 Quadradic Probing and Secondary clustering<br>\n",
    "        1.3 Double Hasing<br>\n",
    "2. chaning (Linked List)"
   ]
  },
  {
   "cell_type": "code",
   "execution_count": null,
   "id": "cc2bb933-da66-4d01-8cd0-2d6fbfcb59bf",
   "metadata": {},
   "outputs": [],
   "source": [
    "class linear_probing:\n",
    "    def __init__(self):\n",
    "        self.MAX=10\n",
    "        #self.key=key\n",
    "        #self.val=val\n",
    "        self.arr=[ None for i in range(self.MAX)]\n",
    "    def get_hash(self,key):\n",
    "        #self.key=key\n",
    "        h=0\n",
    "        for i in key:\n",
    "            h+=ord(i)\n",
    "        #print(h)\n",
    "        return h % self.MAX\n",
    "    def getitem(self,index):\n",
    "        h=self.get_hash(index)\n",
    "        return self.arr[h]\n",
    "    def setitem(self,key,val):\n",
    "        h=self.get_hash(key)\n",
    "        self.arr[h] = val\n",
    "    def delite(self,key):\n",
    "        h=self.get_hash(key)\n",
    "        self.arr[h]=None\n",
    "    \n",
    "        "
   ]
  },
  {
   "cell_type": "code",
   "execution_count": 68,
   "id": "a85ac42e-a81a-43c6-9010-766be8d8636e",
   "metadata": {},
   "outputs": [],
   "source": [
    "class linear_probing:\n",
    "    def __init__(self):\n",
    "        self.max=10\n",
    "        self.arr=[None for i in range(self.max)]\n",
    "    def get_hash(self,value,i):\n",
    "        \n",
    "        lp=((value % self.max)+i) % self.max\n",
    "        if self.arr[lp] == None:\n",
    "            return lp\n",
    "        else:\n",
    "            return self.get_hash(value,i+1)\n",
    "    def get_hash1(self,value,i):\n",
    "        \n",
    "        lp=((value % self.max)+i) % self.max\n",
    "        return lp\n",
    "    def getitem(self,value):\n",
    "        h=self.get_hash1(value,0)\n",
    "        if self.arr[h] == '$':\n",
    "            return ' Initially value is aviliable ,but it was deleted'\n",
    "        else:\n",
    "            return self.arr[h]\n",
    "    def setitem(self,value):\n",
    "        h=self.get_hash(value,0)\n",
    "        self.arr[h] = value\n",
    "    def deleteitem(self,value):\n",
    "        h=self.get_hash1(value,0)\n",
    "        if self.arr[h] == value:\n",
    "            self.arr[h]='$'\n",
    "    \n",
    "        \n",
    "        "
   ]
  },
  {
   "cell_type": "code",
   "execution_count": 69,
   "id": "0feca729-94cd-43a4-b0df-a2f5e48715a0",
   "metadata": {},
   "outputs": [],
   "source": [
    "lp=linear_probing()"
   ]
  },
  {
   "cell_type": "code",
   "execution_count": 70,
   "id": "0a1c1597-8628-4622-9ad2-f6f6ffd16fe5",
   "metadata": {},
   "outputs": [
    {
     "data": {
      "text/plain": [
       "[None, None, None, None, None, None, None, None, None, None]"
      ]
     },
     "execution_count": 70,
     "metadata": {},
     "output_type": "execute_result"
    }
   ],
   "source": [
    "lp.arr"
   ]
  },
  {
   "cell_type": "code",
   "execution_count": null,
   "id": "660c3dd7-adb8-4fde-bbc7-3a9aff0989c9",
   "metadata": {},
   "outputs": [],
   "source": [
    " "
   ]
  },
  {
   "cell_type": "code",
   "execution_count": 71,
   "id": "7a010de8-e91a-4510-8519-34bbf9d38dcc",
   "metadata": {},
   "outputs": [],
   "source": [
    "l=[50,75,99,20,35,88,45,23,55,67]\n",
    "for value in l:\n",
    "    lp.setitem(value)"
   ]
  },
  {
   "cell_type": "code",
   "execution_count": 72,
   "id": "92ef6ae6-3f37-4be6-bed6-c15d7fdeb2a9",
   "metadata": {},
   "outputs": [
    {
     "data": {
      "text/plain": [
       "[50, 20, 55, 23, 67, 75, 35, 45, 88, 99]"
      ]
     },
     "execution_count": 72,
     "metadata": {},
     "output_type": "execute_result"
    }
   ],
   "source": [
    "lp.arr"
   ]
  },
  {
   "cell_type": "code",
   "execution_count": 73,
   "id": "d46c2dfc-e536-46de-b343-2550939ca1de",
   "metadata": {},
   "outputs": [],
   "source": [
    "lp.deleteitem(2)"
   ]
  },
  {
   "cell_type": "code",
   "execution_count": 74,
   "id": "15f4beb2-0486-4b7c-877a-f26444a73781",
   "metadata": {},
   "outputs": [
    {
     "data": {
      "text/plain": [
       "[50, 20, 55, 23, 67, 75, 35, 45, 88, 99]"
      ]
     },
     "execution_count": 74,
     "metadata": {},
     "output_type": "execute_result"
    }
   ],
   "source": [
    "lp.arr"
   ]
  },
  {
   "cell_type": "code",
   "execution_count": 75,
   "id": "95367824-9c19-4e84-813e-9f9112ce4f02",
   "metadata": {},
   "outputs": [],
   "source": [
    "lp.deleteitem(50)"
   ]
  },
  {
   "cell_type": "code",
   "execution_count": 76,
   "id": "bea1c303-8a63-404c-959f-243227b8d48f",
   "metadata": {},
   "outputs": [
    {
     "data": {
      "text/plain": [
       "['$', 20, 55, 23, 67, 75, 35, 45, 88, 99]"
      ]
     },
     "execution_count": 76,
     "metadata": {},
     "output_type": "execute_result"
    }
   ],
   "source": [
    "lp.arr"
   ]
  },
  {
   "cell_type": "code",
   "execution_count": 77,
   "id": "b34bc667-6a98-4302-a5ba-302ab2502ef5",
   "metadata": {},
   "outputs": [
    {
     "data": {
      "text/plain": [
       "' Initially value is aviliable ,but it was deleted'"
      ]
     },
     "execution_count": 77,
     "metadata": {},
     "output_type": "execute_result"
    }
   ],
   "source": [
    "lp.getitem(50)"
   ]
  },
  {
   "cell_type": "code",
   "execution_count": 78,
   "id": "ec3f4483-42c5-45c3-a73f-cef6c9687fa0",
   "metadata": {},
   "outputs": [
    {
     "data": {
      "text/plain": [
       "55"
      ]
     },
     "execution_count": 78,
     "metadata": {},
     "output_type": "execute_result"
    }
   ],
   "source": [
    "lp.getitem(2)"
   ]
  },
  {
   "cell_type": "code",
   "execution_count": null,
   "id": "fc3f7b0f-6be8-4f6f-8e02-0a7dbd1c12cd",
   "metadata": {},
   "outputs": [],
   "source": []
  },
  {
   "cell_type": "code",
   "execution_count": null,
   "id": "9d47354b-023a-4437-aaac-48475f64aba6",
   "metadata": {},
   "outputs": [],
   "source": []
  },
  {
   "cell_type": "markdown",
   "id": "39bbd2a4-860f-4cf6-81e8-23b8ba241ef9",
   "metadata": {},
   "source": [
    "### 1.2 Quadradic Probing and secondary clustring"
   ]
  },
  {
   "cell_type": "code",
   "execution_count": 91,
   "id": "107844a2-544d-4da1-81d3-6f52bb317f41",
   "metadata": {},
   "outputs": [],
   "source": [
    "class Quadradic_probing:\n",
    "    def __init__(self):\n",
    "        self.max=10\n",
    "        self.arr=[None for i in range(self.max)]\n",
    "    # intially to create a hash values \n",
    "    def get_hash(self,value,i,l):\n",
    "        c1,c2=1,1\n",
    "       \n",
    "        lp=((value % self.max)+c1*i+c2*(i**2)) % self.max\n",
    "        l.append(lp)\n",
    "        if l.count(lp) > 2:\n",
    "            return \n",
    "        if self.arr[lp] == None :\n",
    "            return lp\n",
    "        else:\n",
    "            return self.get_hash(value,i+1,l)\n",
    "        \n",
    "    # Toge the hash value \n",
    "    def get_hash1(self,value,i):\n",
    "        lp=((value % self.max)+i) % self.max\n",
    "        if self.arr[lp] == None:\n",
    "    \n",
    "    # To get the item value \n",
    "    def getitem(self,value):\n",
    "        h=self.get_hash1(value,0)\n",
    "        if self.arr[h] == '$':\n",
    "            return ' Initially value is aviliable ,but it was deleted'\n",
    "        else:\n",
    "            return self.arr[h]\n",
    "        \n",
    "    # To set the all values in the hash table\n",
    "    def setitem(self,value):\n",
    "        l=[]\n",
    "        h=self.get_hash(value,0,l)\n",
    "        if h!=None:\n",
    "            self.arr[h] = value\n",
    "            \n",
    "    # To delete the value\n",
    "    def deleteitem(self,value):\n",
    "        h=self.get_hash1(value,0)\n",
    "        if self.arr[h] == value:\n",
    "            self.arr[h]='$'"
   ]
  },
  {
   "cell_type": "code",
   "execution_count": 92,
   "id": "bae00a79-ac86-402e-9689-473dd671a496",
   "metadata": {},
   "outputs": [],
   "source": [
    "qp=Quadradic_probing()"
   ]
  },
  {
   "cell_type": "code",
   "execution_count": 93,
   "id": "0a98f24e-daf9-40c5-802b-704bb3d0a894",
   "metadata": {},
   "outputs": [
    {
     "data": {
      "text/plain": [
       "[None, None, None, None, None, None, None, None, None, None]"
      ]
     },
     "execution_count": 108,
     "metadata": {},
     "output_type": "execute_result"
    }
   ],
   "source": [
    "qp.arr"
   ]
  },
  {
   "cell_type": "code",
   "execution_count": 94,
   "id": "3c9019ec-01a2-4586-838a-3e498aa201b4",
   "metadata": {},
   "outputs": [],
   "source": [
    "l=[50,75,99,20,35,88,45,23,55,67]\n",
    "for value in l:\n",
    "    qp.setitem(value)"
   ]
  },
  {
   "cell_type": "code",
   "execution_count": 95,
   "id": "a52448a8-ffae-4483-91aa-45153c13a99b",
   "metadata": {},
   "outputs": [
    {
     "data": {
      "text/plain": [
       "[50, 45, 20, 23, None, 75, None, 35, 88, 99]"
      ]
     },
     "execution_count": 110,
     "metadata": {},
     "output_type": "execute_result"
    }
   ],
   "source": [
    "qp.arr"
   ]
  },
  {
   "cell_type": "code",
   "execution_count": 96,
   "id": "92b4e6c5-ed52-4bf2-a181-0850fdfb88b1",
   "metadata": {},
   "outputs": [
    {
     "ename": "TypeError",
     "evalue": "Quadradic_probing.get_hash1() takes 3 positional arguments but 4 were given",
     "output_type": "error",
     "traceback": [
      "\u001b[0;31m---------------------------------------------------------------------------\u001b[0m",
      "\u001b[0;31mTypeError\u001b[0m                                 Traceback (most recent call last)",
      "Cell \u001b[0;32mIn [111], line 1\u001b[0m\n\u001b[0;32m----> 1\u001b[0m \u001b[43mqp\u001b[49m\u001b[38;5;241;43m.\u001b[39;49m\u001b[43mdeleteitem\u001b[49m\u001b[43m(\u001b[49m\u001b[38;5;241;43m45\u001b[39;49m\u001b[43m)\u001b[49m\n",
      "Cell \u001b[0;32mIn [106], line 49\u001b[0m, in \u001b[0;36mQuadradic_probing.deleteitem\u001b[0;34m(self, value)\u001b[0m\n\u001b[1;32m     47\u001b[0m \u001b[38;5;28;01mdef\u001b[39;00m \u001b[38;5;21mdeleteitem\u001b[39m(\u001b[38;5;28mself\u001b[39m,value):\n\u001b[1;32m     48\u001b[0m     l\u001b[38;5;241m=\u001b[39m[]\n\u001b[0;32m---> 49\u001b[0m     h\u001b[38;5;241m=\u001b[39m\u001b[38;5;28;43mself\u001b[39;49m\u001b[38;5;241;43m.\u001b[39;49m\u001b[43mget_hash1\u001b[49m\u001b[43m(\u001b[49m\u001b[43mvalue\u001b[49m\u001b[43m,\u001b[49m\u001b[38;5;241;43m0\u001b[39;49m\u001b[43m,\u001b[49m\u001b[43ml\u001b[49m\u001b[43m)\u001b[49m\n\u001b[1;32m     50\u001b[0m     \u001b[38;5;28;01mif\u001b[39;00m h\u001b[38;5;241m==\u001b[39m\u001b[38;5;28;01mNone\u001b[39;00m:\n\u001b[1;32m     51\u001b[0m         \u001b[38;5;28;01mreturn\u001b[39;00m \n",
      "\u001b[0;31mTypeError\u001b[0m: Quadradic_probing.get_hash1() takes 3 positional arguments but 4 were given"
     ]
    }
   ],
   "source": [
    "qp.deleteitem(45)"
   ]
  },
  {
   "cell_type": "code",
   "execution_count": 97,
   "id": "03cec134-1820-4866-810f-b1640a05b2a8",
   "metadata": {},
   "outputs": [
    {
     "data": {
      "text/plain": [
       "[50, 45, 20, 23, None, 75, None, 35, 88, 99]"
      ]
     },
     "execution_count": 97,
     "metadata": {},
     "output_type": "execute_result"
    }
   ],
   "source": [
    "qp.arr"
   ]
  },
  {
   "cell_type": "code",
   "execution_count": 98,
   "id": "4d9ffcec-4982-4020-ab98-a4097fb205f7",
   "metadata": {},
   "outputs": [],
   "source": [
    "qp.deleteitem(50)"
   ]
  },
  {
   "cell_type": "code",
   "execution_count": 99,
   "id": "4028d178-9e43-4440-801c-9a4a8c02c6ae",
   "metadata": {},
   "outputs": [
    {
     "data": {
      "text/plain": [
       "['$', 45, 20, 23, None, 75, None, 35, 88, 99]"
      ]
     },
     "execution_count": 99,
     "metadata": {},
     "output_type": "execute_result"
    }
   ],
   "source": [
    "qp.arr"
   ]
  },
  {
   "cell_type": "code",
   "execution_count": 100,
   "id": "c59c35e3-77dc-4bcf-9c9d-f5f40f867d67",
   "metadata": {},
   "outputs": [
    {
     "data": {
      "text/plain": [
       "['$', 45, 20, '$', None, 75, None, 35, 88, 99]"
      ]
     },
     "execution_count": 100,
     "metadata": {},
     "output_type": "execute_result"
    }
   ],
   "source": [
    "qp.deleteitem(23)\n",
    "qp.arr"
   ]
  },
  {
   "cell_type": "code",
   "execution_count": 103,
   "id": "8b077a6e-6205-4ab6-8597-45eb82551395",
   "metadata": {},
   "outputs": [
    {
     "data": {
      "text/plain": [
       "['$', 45, 20, '$', None, 75, None, 35, '$', 99]"
      ]
     },
     "execution_count": 103,
     "metadata": {},
     "output_type": "execute_result"
    }
   ],
   "source": [
    "qp.deleteitem(88)\n",
    "qp.arr"
   ]
  },
  {
   "cell_type": "code",
   "execution_count": null,
   "id": "ebb7b865-1350-4068-a4b1-615e6df26d6e",
   "metadata": {},
   "outputs": [],
   "source": []
  }
 ],
 "metadata": {
  "kernelspec": {
   "display_name": "Python 3 (ipykernel)",
   "language": "python",
   "name": "python3"
  },
  "language_info": {
   "codemirror_mode": {
    "name": "ipython",
    "version": 3
   },
   "file_extension": ".py",
   "mimetype": "text/x-python",
   "name": "python",
   "nbconvert_exporter": "python",
   "pygments_lexer": "ipython3",
   "version": "3.10.6"
  }
 },
 "nbformat": 4,
 "nbformat_minor": 5
}
