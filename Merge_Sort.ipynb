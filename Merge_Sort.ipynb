{
 "cells": [
  {
   "cell_type": "markdown",
   "id": "5d66b5dc-90c4-4054-87e9-e88d590f67ca",
   "metadata": {},
   "source": [
    "## Merge Sort\n",
    "- Time Complexity is O(NlogN)\n",
    "- merge procedure time complexity - O(N)"
   ]
  },
  {
   "cell_type": "code",
   "execution_count": 2,
   "id": "bc629780-e2d0-404c-8ca5-2e513d6ed23c",
   "metadata": {},
   "outputs": [],
   "source": [
    "def merge_sort(arr,l,r):\n",
    "   \n",
    "    # small problem\n",
    "    if l==r :\n",
    "        return arr[l]\n",
    "    # Big Problem\n",
    "    if l< r:\n",
    "        # Divide part\n",
    "        mid=l+(r-l)//2\n",
    "        # Conquer part\n",
    "        merge_sort(arr,l,mid)\n",
    "        merge_sort(arr,mid+1,r)\n",
    "        # combine part\n",
    "        merge_procedure(arr,l,mid,r)\n",
    "    return arr\n",
    "\n",
    "\n",
    "def merge_procedure(arr,l,mid,r):\n",
    "    n1=mid-l+1 # number of elements in  left sub array\n",
    "    n2=r-mid # number of elements in right sub array\n",
    "    left_sub_array=[0]*n1\n",
    "    right_sub_array=[0]*n2\n",
    "    # copy the elements from the array to subarrays\n",
    "    for i in range(n1):\n",
    "        left_sub_array[i]=arr[l+i]\n",
    "    for j in range(n2):\n",
    "        right_sub_array[j]=arr[mid+1+j]\n",
    "    p=0\n",
    "    q=0\n",
    "    k=l\n",
    "    while p<n1 and q<n2:\n",
    "        if left_sub_array[p] < right_sub_array[q]:\n",
    "            arr[k]=left_sub_array[p]\n",
    "            p+=1\n",
    "        else:\n",
    "            arr[k]= right_sub_array[q]\n",
    "            q+=1\n",
    "        k+=1\n",
    "    while p<n1:\n",
    "        arr[k]=left_sub_array[p]\n",
    "        p+=1\n",
    "        k+=1\n",
    "    while q<n2:\n",
    "        arr[k]=right_sub_array[q]\n",
    "        q+=1\n",
    "        k+=1\n",
    "        \n",
    "    \n",
    "     \n",
    "            \n",
    "        \n",
    "        "
   ]
  },
  {
   "cell_type": "code",
   "execution_count": 3,
   "id": "e5e75246-7fd8-4a84-805a-cb3e12056357",
   "metadata": {},
   "outputs": [
    {
     "data": {
      "text/plain": [
       "[5, 29, 45, 47, 50, 52, 70, 79]"
      ]
     },
     "execution_count": 3,
     "metadata": {},
     "output_type": "execute_result"
    }
   ],
   "source": [
    "arr=[50,70,45,5,79,47,29,52]\n",
    "l=0\n",
    "r=len(arr)-1\n",
    "merge_sort(arr,l,r)"
   ]
  },
  {
   "cell_type": "code",
   "execution_count": 40,
   "id": "e1de73b6-3cc6-4502-b93d-8efe67831533",
   "metadata": {},
   "outputs": [],
   "source": [
    "def merge_procedure(arr,l,mid,r):\n",
    "    #n=mid-l+1 # number of elements in  left sub array\n",
    "    #m=r-mid+1 # number of elements in right sub array\n",
    "    new_arr=list()[:len(arr)+1]\n",
    "    m=mid+1\n",
    "    j=0\n",
    "    while l <= mid and m <= r:\n",
    "        \n",
    "        if arr[l] < arr[m]:\n",
    "            new_arr[j]= arr[l]\n",
    "            l+=1\n",
    "            j+=1\n",
    "        else:\n",
    "            new_arr[j]=arr[m]\n",
    "            m =m+1\n",
    "            j+=1\n",
    "            \n",
    "    while l<=mid:\n",
    "        new_arr[j+i]=arr[i]\n",
    "        l+=1\n",
    "    while m<=r:\n",
    "        new_arr[j+k]=arr[k]\n",
    "        m+=1\n",
    "    return new_arr    "
   ]
  },
  {
   "cell_type": "code",
   "execution_count": 41,
   "id": "f869bf22-ca4d-4ccf-a730-3f1f8d37695d",
   "metadata": {},
   "outputs": [
    {
     "ename": "IndexError",
     "evalue": "list assignment index out of range",
     "output_type": "error",
     "traceback": [
      "\u001b[0;31m---------------------------------------------------------------------------\u001b[0m",
      "\u001b[0;31mIndexError\u001b[0m                                Traceback (most recent call last)",
      "Cell \u001b[0;32mIn [41], line 5\u001b[0m\n\u001b[1;32m      3\u001b[0m r\u001b[38;5;241m=\u001b[39m\u001b[38;5;28mlen\u001b[39m(arr)\u001b[38;5;241m-\u001b[39m\u001b[38;5;241m1\u001b[39m\n\u001b[1;32m      4\u001b[0m mid\u001b[38;5;241m=\u001b[39ml\u001b[38;5;241m+\u001b[39m(r\u001b[38;5;241m-\u001b[39ml)\u001b[38;5;241m/\u001b[39m\u001b[38;5;241m/\u001b[39m\u001b[38;5;241m2\u001b[39m\n\u001b[0;32m----> 5\u001b[0m \u001b[43mmerge_procedure\u001b[49m\u001b[43m(\u001b[49m\u001b[43marr\u001b[49m\u001b[43m,\u001b[49m\u001b[43ml\u001b[49m\u001b[43m,\u001b[49m\u001b[43mmid\u001b[49m\u001b[43m,\u001b[49m\u001b[43mr\u001b[49m\u001b[43m)\u001b[49m\n",
      "Cell \u001b[0;32mIn [40], line 14\u001b[0m, in \u001b[0;36mmerge_procedure\u001b[0;34m(arr, l, mid, r)\u001b[0m\n\u001b[1;32m     12\u001b[0m     j\u001b[38;5;241m+\u001b[39m\u001b[38;5;241m=\u001b[39m\u001b[38;5;241m1\u001b[39m\n\u001b[1;32m     13\u001b[0m \u001b[38;5;28;01melse\u001b[39;00m:\n\u001b[0;32m---> 14\u001b[0m     \u001b[43mnew_arr\u001b[49m\u001b[43m[\u001b[49m\u001b[43mj\u001b[49m\u001b[43m]\u001b[49m\u001b[38;5;241m=\u001b[39marr[m]\n\u001b[1;32m     15\u001b[0m     m \u001b[38;5;241m=\u001b[39mm\u001b[38;5;241m+\u001b[39m\u001b[38;5;241m1\u001b[39m\n\u001b[1;32m     16\u001b[0m     j\u001b[38;5;241m+\u001b[39m\u001b[38;5;241m=\u001b[39m\u001b[38;5;241m1\u001b[39m\n",
      "\u001b[0;31mIndexError\u001b[0m: list assignment index out of range"
     ]
    }
   ],
   "source": [
    "arr=[10,20,30,40,1,2,3,4]\n",
    "l=0\n",
    "r=len(arr)-1\n",
    "mid=l+(r-l)//2\n",
    "merge_procedure(arr,l,mid,r)"
   ]
  },
  {
   "cell_type": "code",
   "execution_count": null,
   "id": "632403ce-9540-4122-b834-5706f8b9d6f4",
   "metadata": {},
   "outputs": [],
   "source": []
  }
 ],
 "metadata": {
  "kernelspec": {
   "display_name": "Python 3 (ipykernel)",
   "language": "python",
   "name": "python3"
  },
  "language_info": {
   "codemirror_mode": {
    "name": "ipython",
    "version": 3
   },
   "file_extension": ".py",
   "mimetype": "text/x-python",
   "name": "python",
   "nbconvert_exporter": "python",
   "pygments_lexer": "ipython3",
   "version": "3.10.6"
  }
 },
 "nbformat": 4,
 "nbformat_minor": 5
}
