{
 "cells": [
  {
   "cell_type": "markdown",
   "id": "0bfb0bac-2b83-40e9-9c43-c922daed69bf",
   "metadata": {},
   "source": [
    "## Sort_Colors\n",
    "- Time complexity O(N)\n",
    "- space complexity O(1)\n",
    "- Two pointer apperoch"
   ]
  },
  {
   "cell_type": "code",
   "execution_count": 7,
   "id": "97cfb416-0fcf-45e5-856c-c5cf7a435255",
   "metadata": {},
   "outputs": [],
   "source": [
    "def sort_colors(nums):\n",
    "    p0=0\n",
    "    p2=len(nums)-1\n",
    "    current=0\n",
    "    while current <= p2:\n",
    "        if nums[current] == 0:\n",
    "            nums[current],nums[p0] = nums[p0],nums[current]\n",
    "            current+=1\n",
    "            p0+=1\n",
    "            \n",
    "        elif nums[current] == 2:\n",
    "            nums[current],nums[p2] = nums[p2],nums[current]\n",
    "            p2-=1\n",
    "        else:\n",
    "            current+=1\n",
    "    return nums"
   ]
  },
  {
   "cell_type": "code",
   "execution_count": 8,
   "id": "3f505b7a-46a3-40ff-90c6-dd19943688b6",
   "metadata": {},
   "outputs": [
    {
     "data": {
      "text/plain": [
       "[0, 0, 1, 1, 2, 2]"
      ]
     },
     "execution_count": 8,
     "metadata": {},
     "output_type": "execute_result"
    }
   ],
   "source": [
    "sort_colors([1,2,0,1,2,0])"
   ]
  },
  {
   "cell_type": "code",
   "execution_count": 9,
   "id": "fe838e92-6b4e-4d89-8a6f-112191b502fa",
   "metadata": {},
   "outputs": [
    {
     "data": {
      "text/plain": [
       "[0, 0, 1, 1, 1, 1, 1, 2, 2, 2]"
      ]
     },
     "execution_count": 9,
     "metadata": {},
     "output_type": "execute_result"
    }
   ],
   "source": [
    "sort_colors([1,2,0,1,2,1,1,1,2,0])"
   ]
  },
  {
   "cell_type": "code",
   "execution_count": null,
   "id": "24203457-3a45-40ad-9a54-649ee68db68e",
   "metadata": {},
   "outputs": [],
   "source": []
  }
 ],
 "metadata": {
  "kernelspec": {
   "display_name": "Python 3 (ipykernel)",
   "language": "python",
   "name": "python3"
  },
  "language_info": {
   "codemirror_mode": {
    "name": "ipython",
    "version": 3
   },
   "file_extension": ".py",
   "mimetype": "text/x-python",
   "name": "python",
   "nbconvert_exporter": "python",
   "pygments_lexer": "ipython3",
   "version": "3.10.6"
  }
 },
 "nbformat": 4,
 "nbformat_minor": 5
}
