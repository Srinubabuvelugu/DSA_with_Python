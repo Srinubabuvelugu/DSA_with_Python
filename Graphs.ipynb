{
 "cells": [
  {
   "cell_type": "markdown",
   "id": "5e64d49e-68b9-451b-9567-044230d2cd5e",
   "metadata": {},
   "source": [
    "### Graph Traversal Algorithms\n",
    "1. Depth Search First(DSF) Traversal\n",
    "2. Breadth First Search(BSF) Traversal"
   ]
  },
  {
   "cell_type": "code",
   "execution_count": 1,
   "id": "6b31d44e-01b6-43c7-8b37-2688307287b9",
   "metadata": {},
   "outputs": [
    {
     "name": "stdout",
     "output_type": "stream",
     "text": [
      "Following is Depth First Traversal (starting from vertex 2)\n",
      "2 0 1 3 "
     ]
    }
   ],
   "source": [
    "## Depth search traversal\n",
    "from collections import defaultdict\n",
    "# adjacency list representation\n",
    "class Graph:\n",
    "    def __init__(self):\n",
    "        # Default dictionary to store graph\n",
    "        self.graph = defaultdict(list)\n",
    "    # Function to add an edge to graph\n",
    "    def addEdge(self, u, v):\n",
    "        self.graph[u].append(v)\n",
    "    # A function used by DFS\n",
    "    def DFSUtil(self, v, visited):\n",
    " \n",
    "        # Mark the current node as visited\n",
    "        # and print it\n",
    "        visited.add(v)\n",
    "        print(v, end=' ')\n",
    " \n",
    "        # Recur for all the vertices\n",
    "        # adjacent to this vertex\n",
    "        for neighbour in self.graph[v]:\n",
    "            if neighbour not in visited:\n",
    "                self.DFSUtil(neighbour, visited)\n",
    " \n",
    "     \n",
    "    # The function to do DFS traversal. It uses\n",
    "    # recursive DFSUtil()\n",
    "    def DFS(self, v):\n",
    " \n",
    "        # Create a set to store visited vertices\n",
    "        visited = set()\n",
    " \n",
    "        # Call the recursive helper function\n",
    "        # to print DFS traversal\n",
    "        self.DFSUtil(v, visited)\n",
    "# Driver's code\n",
    "g = Graph()\n",
    "g.addEdge(0, 1)\n",
    "g.addEdge(0, 2)\n",
    "g.addEdge(1, 2)\n",
    "g.addEdge(2, 0)\n",
    "g.addEdge(2, 3)\n",
    "g.addEdge(3, 3)\n",
    " \n",
    "print(\"Following is Depth First Traversal (starting from vertex 2)\")\n",
    "     \n",
    "    # Function call\n",
    "g.DFS(2)"
   ]
  },
  {
   "cell_type": "code",
   "execution_count": 2,
   "id": "031e7005-56c4-4d57-9b59-a74c45bf6b90",
   "metadata": {},
   "outputs": [],
   "source": [
    "from collections import defaultdict\n",
    "class graph:\n",
    "    def __init__(self):\n",
    "        self.graph = defaultdict(list)\n",
    "    ## Add edge between nodes\n",
    "    def addEdge(self,u,v):\n",
    "        self.graph[u].append(v)\n",
    "    \n",
    "    def dfs(self,v,visit):\n",
    "        visit.add(v)\n",
    "        print(v,end=' ')\n",
    "        for i in self.graph[v]:\n",
    "            if i not in visit:\n",
    "                self.dfs(i,visit)\n",
    "\n",
    "            \n",
    "\n",
    "            \n",
    "        "
   ]
  },
  {
   "cell_type": "code",
   "execution_count": 3,
   "id": "eb65215e-f11b-431d-8772-3444c7d894ac",
   "metadata": {},
   "outputs": [
    {
     "name": "stdout",
     "output_type": "stream",
     "text": [
      "2 0 1 3 4 "
     ]
    }
   ],
   "source": [
    "g=graph()\n",
    "g.addEdge(0, 1)\n",
    "g.addEdge(0, 2)\n",
    "g.addEdge(1, 2)\n",
    "g.addEdge(2, 0)\n",
    "g.addEdge(2, 3)\n",
    "g.addEdge(3, 4)\n",
    "g.dfs(2,set())"
   ]
  },
  {
   "cell_type": "code",
   "execution_count": 6,
   "id": "dc019e74-7ee6-4a85-a64c-ab665261bc8b",
   "metadata": {},
   "outputs": [],
   "source": [
    "#g=graph()\n",
    "g.addEdge(0,1)\n",
    "g.addEdge(0,2)\n",
    "g.addEdge(0,3)\n",
    "g.addEdge(1,4)\n",
    "g.addEdge(1,5)"
   ]
  },
  {
   "cell_type": "code",
   "execution_count": 7,
   "id": "7bc3df32-b55d-4a07-bea7-080bdf2ee7da",
   "metadata": {},
   "outputs": [
    {
     "name": "stdout",
     "output_type": "stream",
     "text": [
      "2 0 1 4 5 3 "
     ]
    }
   ],
   "source": [
    "g.dfs(2,set())"
   ]
  },
  {
   "cell_type": "code",
   "execution_count": 8,
   "id": "0e904fbd-8320-41a0-b362-0bf3ca45ca75",
   "metadata": {},
   "outputs": [
    {
     "data": {
      "text/plain": [
       "defaultdict(list,\n",
       "            {0: [1, 2, 1, 2, 3],\n",
       "             1: [2, 4, 5],\n",
       "             2: [0, 3],\n",
       "             3: [4],\n",
       "             4: [],\n",
       "             5: []})"
      ]
     },
     "execution_count": 8,
     "metadata": {},
     "output_type": "execute_result"
    }
   ],
   "source": [
    "g.graph"
   ]
  },
  {
   "cell_type": "markdown",
   "id": "03fd2327-3a30-4721-946b-f5fc3f22f2ef",
   "metadata": {},
   "source": [
    "## Breadth First Search (BFS) Traversal Algo\n",
    "- By using the BSF to find whether graph is disconnected or Not"
   ]
  },
  {
   "cell_type": "code",
   "execution_count": 71,
   "id": "77b4287f-9a82-44b8-9ddf-0d6862d18a15",
   "metadata": {},
   "outputs": [
    {
     "name": "stdout",
     "output_type": "stream",
     "text": [
      "A B C D E F G "
     ]
    }
   ],
   "source": [
    "from collections import deque\n",
    "queue=deque()\n",
    " \n",
    "    \n",
    "def BFS_traversal(dic,node,visit):\n",
    "    visit.add(node)\n",
    "    queue.appendleft(node)\n",
    "    while queue:\n",
    "        node=queue.pop()\n",
    "        print(node,end=' ')\n",
    "        for adjacentnode in dic[node]:\n",
    "            if adjacentnode not in visit:\n",
    "                visit.add(adjacentnode)\n",
    "                queue.appendleft(adjacentnode)\n",
    "dic={\n",
    "    'A':['B','C','D'],\n",
    "    'B':['E'],\n",
    "    'C':['E','F'],\n",
    "    'D':['F'],\n",
    "    'E':['G'],\n",
    "    'F':['G'],\n",
    "    'G':[]\n",
    "}\n",
    "visit=set()\n",
    "BFS_traversal(dic,'A',visit)"
   ]
  },
  {
   "cell_type": "markdown",
   "id": "339b270f-ee0a-4398-ab8f-0d5d869d2330",
   "metadata": {},
   "source": [
    "### DFS Traversal "
   ]
  },
  {
   "cell_type": "code",
   "execution_count": 2,
   "id": "2588ea39-c48f-46c3-94e6-fde811b763ff",
   "metadata": {},
   "outputs": [
    {
     "name": "stdout",
     "output_type": "stream",
     "text": [
      "5 3 2 4 8 7 "
     ]
    }
   ],
   "source": [
    "## Function defination\n",
    "\n",
    "def DFS_traversal(graph,node,visit):\n",
    "    if  node not in visit:\n",
    "        print(node ,end=' ')\n",
    "        visit.add(node)\n",
    "        for adjacent in graph[node]:\n",
    "            if adjacent not in visit:\n",
    "                ## Recursion call - Now Stack function calling\n",
    "                DFS_traversal(graph,adjacent,visit)\n",
    "\n",
    "\n",
    "\n",
    "#Driver code\n",
    "visit=set()\n",
    "graph={\n",
    "    '5':['3','7'],\n",
    "    '3':['2','4'],\n",
    "    '2':[],\n",
    "    '4':['8'],\n",
    "    '7':['8'],\n",
    "    '8':[]\n",
    "}\n",
    "## Function calling\n",
    "DFS_traversal(graph,'5',visit)\n"
   ]
  },
  {
   "cell_type": "code",
   "execution_count": null,
   "id": "c97d921f-63d6-4736-a25b-b91760c7bbc7",
   "metadata": {},
   "outputs": [],
   "source": []
  }
 ],
 "metadata": {
  "kernelspec": {
   "display_name": "Python 3 (ipykernel)",
   "language": "python",
   "name": "python3"
  },
  "language_info": {
   "codemirror_mode": {
    "name": "ipython",
    "version": 3
   },
   "file_extension": ".py",
   "mimetype": "text/x-python",
   "name": "python",
   "nbconvert_exporter": "python",
   "pygments_lexer": "ipython3",
   "version": "3.10.6"
  }
 },
 "nbformat": 4,
 "nbformat_minor": 5
}
