{
 "cells": [
  {
   "cell_type": "code",
   "execution_count": 1,
   "id": "5e735fa2-7e7b-4a08-ad07-84f9bccd7840",
   "metadata": {},
   "outputs": [],
   "source": [
    "def binary_search(lst,x):\n",
    "    l,r=0,len(lst)-1\n",
    "    while l <= r:\n",
    "        mid=l+(r-l)//2\n",
    "        if lst[mid] == x:\n",
    "            return mid\n",
    "        elif lst[mid] < x:\n",
    "            l=mid+1\n",
    "        else:\n",
    "            r=mid-1\n",
    "        \n",
    "    return -1\n",
    "    "
   ]
  },
  {
   "cell_type": "code",
   "execution_count": 2,
   "id": "03d3d4cd-24af-4a15-be0a-bce68caff383",
   "metadata": {},
   "outputs": [
    {
     "data": {
      "text/plain": [
       "-1"
      ]
     },
     "execution_count": 2,
     "metadata": {},
     "output_type": "execute_result"
    }
   ],
   "source": [
    "binary_search([2,3,4,5,6,7,8,9,10,12,13,15],50)"
   ]
  },
  {
   "cell_type": "markdown",
   "id": "67e58e8f-e899-4721-8c0b-da6bd0e9f71d",
   "metadata": {},
   "source": [
    "## Binary Search in recursion"
   ]
  },
  {
   "cell_type": "code",
   "execution_count": 8,
   "id": "756efa03-51ea-4c25-8ae8-85714c844f31",
   "metadata": {},
   "outputs": [],
   "source": [
    "def binary_Search(arr,l,r,x):\n",
    "    mid=l+(r-l)//2\n",
    "    if l <= r:\n",
    "        if arr[mid] == x:\n",
    "            return mid\n",
    "        elif arr[mid] < x:\n",
    "            return binary_Search(arr,mid+1,r,x)\n",
    "        else:  \n",
    "            return binary_Search(arr,l,mid-1,x)\n",
    "    else:\n",
    "        return -1"
   ]
  },
  {
   "cell_type": "code",
   "execution_count": 9,
   "id": "f16e7958-ea79-4e27-98b6-0c826ec1dfe4",
   "metadata": {},
   "outputs": [
    {
     "data": {
      "text/plain": [
       "10"
      ]
     },
     "execution_count": 9,
     "metadata": {},
     "output_type": "execute_result"
    }
   ],
   "source": [
    "lst=[2,4,5,7,8,9,12,15,18,22,99]\n",
    "x=99\n",
    "binary_Search(lst,0,len(lst)-1,x)"
   ]
  },
  {
   "cell_type": "code",
   "execution_count": 10,
   "id": "4d92b7e5-bafa-4c3c-93e0-c6d76cdc7849",
   "metadata": {},
   "outputs": [
    {
     "data": {
      "text/plain": [
       "-1"
      ]
     },
     "execution_count": 10,
     "metadata": {},
     "output_type": "execute_result"
    }
   ],
   "source": [
    "lst=[2,4,5,7,8,9,12,15,18,22,99]\n",
    "x=100\n",
    "binary_Search(lst,0,len(lst)-1,x)"
   ]
  },
  {
   "cell_type": "code",
   "execution_count": 11,
   "id": "707b421a-df27-4671-9a54-d400011dc7c7",
   "metadata": {
    "jp-MarkdownHeadingCollapsed": true,
    "tags": []
   },
   "outputs": [
    {
     "name": "stdout",
     "output_type": "stream",
     "text": [
      "Element is not present in array\n"
     ]
    }
   ],
   "source": [
    "def binary_search(arr, x):\n",
    "    low = 0\n",
    "    high = len(arr) - 1\n",
    "    mid = 0\n",
    " \n",
    "    while low <= high:\n",
    " \n",
    "        mid = (high + low) // 2\n",
    "        if arr[mid] < x:\n",
    "            low = mid + 1\n",
    "        elif arr[mid] > x:\n",
    "            high = mid - 1\n",
    "        else:\n",
    "            return mid\n",
    "    return -1\n",
    " \n",
    " \n",
    "# Test array\n",
    "arr = [ 2, 3, 4, 10, 40 ]\n",
    "x = 50\n",
    " \n",
    "# Function call\n",
    "result = binary_search(arr, x)\n",
    " \n",
    "if result != -1:\n",
    "    print(\"Element is present at index\", str(result))\n",
    "else:\n",
    "    print(\"Element is not present in array\")"
   ]
  },
  {
   "cell_type": "markdown",
   "id": "023992ac-7b1c-4637-a110-d27ceb9323f3",
   "metadata": {},
   "source": [
    "## Binary search in 2D matrix\n",
    "- Row wise sorted from left to right\n",
    "- First integer of each row > last element in the previous row"
   ]
  },
  {
   "cell_type": "code",
   "execution_count": 32,
   "id": "525dd810-311f-4474-8d93-e799a83c2c8a",
   "metadata": {},
   "outputs": [
    {
     "data": {
      "text/plain": [
       "-1"
      ]
     },
     "execution_count": 32,
     "metadata": {},
     "output_type": "execute_result"
    }
   ],
   "source": [
    "matrix=[[1, 3, 5, 7], [10, 11, 16, 20], [23, 30, 34, 60]]\n",
    "target=100\n",
    "def Binary_search_in_2D_matrix(matrix,target):\n",
    "    # no. of rows\n",
    "    m=len(matrix)\n",
    "    # No. Columns\n",
    "    n= len(matrix[0])\n",
    "    left,right = 0, m*n-1\n",
    "    while left <= right:\n",
    "        mid= left + (right - left)//2\n",
    "        row= mid // n\n",
    "        col= mid % n\n",
    "        if matrix[row][col] == target:\n",
    "            return row,col\n",
    "        elif matrix[row][col] > target :\n",
    "            right= mid-1\n",
    "        else:\n",
    "            left=mid+1\n",
    "    \n",
    "    return -1\n",
    "Binary_search_in_2D_matrix(matrix,target)  "
   ]
  },
  {
   "cell_type": "code",
   "execution_count": 33,
   "id": "b5dc871a-d5ff-4af5-9cf2-af9c8e95374b",
   "metadata": {},
   "outputs": [
    {
     "name": "stdout",
     "output_type": "stream",
     "text": [
      "-1\n"
     ]
    }
   ],
   "source": [
    "print(Binary_search_in_2D_matrix(matrix,50))"
   ]
  },
  {
   "cell_type": "code",
   "execution_count": 34,
   "id": "d25007c8-f47d-411f-989d-ef996dde1adb",
   "metadata": {},
   "outputs": [
    {
     "data": {
      "text/plain": [
       "(1, 1)"
      ]
     },
     "execution_count": 34,
     "metadata": {},
     "output_type": "execute_result"
    }
   ],
   "source": [
    "Binary_search_in_2D_matrix(matrix,11)"
   ]
  },
  {
   "cell_type": "code",
   "execution_count": null,
   "id": "8ddf6520-0b02-44fd-8bbf-766578be663b",
   "metadata": {},
   "outputs": [],
   "source": []
  }
 ],
 "metadata": {
  "kernelspec": {
   "display_name": "Python 3 (ipykernel)",
   "language": "python",
   "name": "python3"
  },
  "language_info": {
   "codemirror_mode": {
    "name": "ipython",
    "version": 3
   },
   "file_extension": ".py",
   "mimetype": "text/x-python",
   "name": "python",
   "nbconvert_exporter": "python",
   "pygments_lexer": "ipython3",
   "version": "3.10.6"
  }
 },
 "nbformat": 4,
 "nbformat_minor": 5
}
