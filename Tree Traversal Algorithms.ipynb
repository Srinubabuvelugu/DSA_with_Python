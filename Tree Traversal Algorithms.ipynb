{
 "cells": [
  {
   "cell_type": "markdown",
   "id": "e794cfbb-fa3e-41b6-8e26-a03edc57c37e",
   "metadata": {},
   "source": [
    "### Inorder traversal algorithm"
   ]
  },
  {
   "cell_type": "code",
   "execution_count": 4,
   "id": "0c1909e6-332a-46ba-83ab-bc26e53d3e62",
   "metadata": {},
   "outputs": [
    {
     "name": "stdout",
     "output_type": "stream",
     "text": [
      "--> 4 --> 2 --> 5 --> 1 --> 3 "
     ]
    }
   ],
   "source": [
    "class Node:\n",
    "    def __init__(self,data):\n",
    "        self.data=data\n",
    "        self.left=None\n",
    "        self.right=None\n",
    "        \n",
    "# Function defination\n",
    "\n",
    "def inorder_tree(root):\n",
    "    if root:\n",
    "        inorder_tree(root.left)\n",
    "        print(f\"--> {root.data}\",end=' ')\n",
    "        inorder_tree(root.right)\n",
    "root=Node(1)\n",
    "root.left=Node(2)\n",
    "root.right= Node(3)\n",
    "root.left.left=Node(4)\n",
    "root.left.right=Node(5)\n",
    "inorder_tree(root)\n"
   ]
  },
  {
   "cell_type": "markdown",
   "id": "ccc8d839-07fc-4685-aa84-ae094acdcfa6",
   "metadata": {},
   "source": [
    "### Preorder Traversal Algotrithm"
   ]
  },
  {
   "cell_type": "code",
   "execution_count": 6,
   "id": "dfa64c6a-3003-4703-a35b-c0813a0bbee0",
   "metadata": {},
   "outputs": [
    {
     "name": "stdout",
     "output_type": "stream",
     "text": [
      "--> 1 --> 2 --> 4 --> 5 --> 3 "
     ]
    }
   ],
   "source": [
    "class Node:\n",
    "    def __init__(self,data):\n",
    "        self.data=data\n",
    "        self.left=None\n",
    "        self.right=None\n",
    "        \n",
    "# Function defination\n",
    "\n",
    "def preorder_tree(root):\n",
    "    if root:\n",
    "        print(f\"--> {root.data}\",end=' ')\n",
    "        preorder_tree(root.left)\n",
    "        preorder_tree(root.right)\n",
    "root=Node(1)\n",
    "root.left=Node(2)\n",
    "root.right= Node(3)\n",
    "root.left.left=Node(4)\n",
    "root.left.right=Node(5)\n",
    "preorder_tree(root)"
   ]
  },
  {
   "cell_type": "markdown",
   "id": "effbb936-3dc2-4d21-b335-23c03a5e9acc",
   "metadata": {},
   "source": [
    "### Postorder Traversal Algorithm"
   ]
  },
  {
   "cell_type": "code",
   "execution_count": 7,
   "id": "1d551a61-52a8-45df-ab0e-080e788c3508",
   "metadata": {},
   "outputs": [
    {
     "name": "stdout",
     "output_type": "stream",
     "text": [
      "--> 4 --> 5 --> 2 --> 3 --> 1 "
     ]
    }
   ],
   "source": [
    "class Node:\n",
    "    def __init__(self,data):\n",
    "        self.data=data\n",
    "        self.left=None\n",
    "        self.right=None\n",
    "        \n",
    "# Function defination\n",
    "\n",
    "def postorder_tree(root):\n",
    "    if root:\n",
    "        postorder_tree(root.left)\n",
    "        postorder_tree(root.right)\n",
    "        print(f\"--> {root.data}\",end=' ')\n",
    "        \n",
    "root=Node(1)\n",
    "root.left=Node(2)\n",
    "root.right= Node(3)\n",
    "root.left.left=Node(4)\n",
    "root.left.right=Node(5)\n",
    "postorder_tree(root)"
   ]
  },
  {
   "cell_type": "code",
   "execution_count": null,
   "id": "47a5c3a7-ef93-4764-a004-8251d6a76834",
   "metadata": {},
   "outputs": [],
   "source": []
  }
 ],
 "metadata": {
  "kernelspec": {
   "display_name": "Python 3 (ipykernel)",
   "language": "python",
   "name": "python3"
  },
  "language_info": {
   "codemirror_mode": {
    "name": "ipython",
    "version": 3
   },
   "file_extension": ".py",
   "mimetype": "text/x-python",
   "name": "python",
   "nbconvert_exporter": "python",
   "pygments_lexer": "ipython3",
   "version": "3.10.6"
  }
 },
 "nbformat": 4,
 "nbformat_minor": 5
}
