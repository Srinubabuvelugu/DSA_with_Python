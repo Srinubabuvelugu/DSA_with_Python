{
 "cells": [
  {
   "cell_type": "markdown",
   "id": "54863b6e-693a-43ed-a503-f51c7c326f9a",
   "metadata": {},
   "source": [
    "### Insertion in binary search tree and Check the valid BST or not\n",
    "- BST is valid when, the inorder traversl tree returns the sorting order(Ascending order)\n"
   ]
  },
  {
   "cell_type": "code",
   "execution_count": 7,
   "id": "0a57b6e0-b294-4221-a894-5c7231dcb35d",
   "metadata": {},
   "outputs": [
    {
     "name": "stdout",
     "output_type": "stream",
     "text": [
      "40  50  80  90  100  110  120  150  "
     ]
    }
   ],
   "source": [
    "## create class Node\n",
    "class Node:\n",
    "    def __init__(self,data):\n",
    "        self.data=data\n",
    "        self.left=None\n",
    "        self.right=None\n",
    "def insertion_BST(root,key):\n",
    "    if root is None:\n",
    "        return Node(key)\n",
    "    else:\n",
    "        if root.data == key:\n",
    "            return root\n",
    "        elif root.data < key:\n",
    "            root.right=insertion_BST(root.right,key)\n",
    "        else:\n",
    "            root.left=insertion_BST(root.left,key)\n",
    "    return root\n",
    "\n",
    "def inorder(root):\n",
    "    if root:\n",
    "        inorder(root.left)\n",
    "        print(f'{root.data} ',end=' ')\n",
    "        inorder(root.right)\n",
    "        \n",
    "# Driver method\n",
    "root=Node(100)\n",
    "root=insertion_BST(root,80)\n",
    "root=insertion_BST(root,120)\n",
    "root=insertion_BST(root,50)\n",
    "root=insertion_BST(root,90)\n",
    "root=insertion_BST(root,110)\n",
    "root=insertion_BST(root,150)\n",
    "root=insertion_BST(root,150)\n",
    "root=insertion_BST(root,40)\n",
    "inorder(root)"
   ]
  },
  {
   "cell_type": "markdown",
   "id": "c54d47f5-a93b-46ae-ac5b-1dfe462ade45",
   "metadata": {},
   "source": [
    "### Minimum and Maximum values in BST "
   ]
  },
  {
   "cell_type": "code",
   "execution_count": 36,
   "id": "2f580d10-16dd-4ba9-97c0-a489f63e8372",
   "metadata": {},
   "outputs": [
    {
     "name": "stdout",
     "output_type": "stream",
     "text": [
      "40  50  80  90  100  110  120  150  \n",
      "minimum root is:\n",
      "40\n",
      "Maximum root is :\n",
      "150\n"
     ]
    }
   ],
   "source": [
    "class Node:\n",
    "    def __init__(self,data):\n",
    "        self.data=data\n",
    "        self.left=None\n",
    "        self.right=None\n",
    "def insertion_BST(root,value):\n",
    "    if root is None:\n",
    "        return Node(value)\n",
    "    else:\n",
    "        if root.data == value:\n",
    "            return root\n",
    "        elif root.data < value:\n",
    "            root.right=insertion_BST(root.right,value)\n",
    "        else:\n",
    "            root.left=insertion_BST(root.left,value)\n",
    "    return root\n",
    "\n",
    "## Maximum value in BST\n",
    "def min_root(root):\n",
    "    temp1=root\n",
    "    while temp1.left:\n",
    "        temp1=temp1.left\n",
    "    return temp1.data\n",
    "\n",
    "## Minnimum value in BST\n",
    "def max_root(root):\n",
    "    temp=root\n",
    "    while temp.right:\n",
    "        temp=temp.right\n",
    "    return temp.data\n",
    "def inorder(root):\n",
    "    if root:\n",
    "        inorder(root.left)\n",
    "        print(f'{root.data} ',end=' ')\n",
    "        inorder(root.right)\n",
    "        \n",
    "# Driver method\n",
    "root=Node(100)\n",
    "root=insertion_BST(root,80)\n",
    "root=insertion_BST(root,120)\n",
    "root=insertion_BST(root,50)\n",
    "root=insertion_BST(root,90)\n",
    "root=insertion_BST(root,110)\n",
    "root=insertion_BST(root,150)\n",
    "root=insertion_BST(root,150)\n",
    "root=insertion_BST(root,40)\n",
    "inorder(root)\n",
    "print()\n",
    "print('minimum root is:')\n",
    "print(min_root(root))\n",
    "print('Maximum root is :')\n",
    "print(max_root(root))\n",
    "                            "
   ]
  },
  {
   "cell_type": "markdown",
   "id": "2baa4089-3edb-4799-9c5c-18c562ffc7c3",
   "metadata": {},
   "source": [
    "### Total number of unique possiable BST's  \n",
    "- n is total number of nodes in BST"
   ]
  },
  {
   "cell_type": "code",
   "execution_count": 40,
   "id": "5e78e15f-8825-419b-9006-7335cd6e9472",
   "metadata": {},
   "outputs": [],
   "source": [
    "## Here n represents the number of node in the BST\n",
    "def find_catalan_number(n):\n",
    "    \n",
    "    ## Base case condition\n",
    "    if n ==0 or n==1:\n",
    "        return 1\n",
    "    n1,n2,sum_value=0,0,0\n",
    "    for i in range(1,n+1):\n",
    "        n1=find_catalan_number(i-1)\n",
    "        n2=find_catalan_number(n-i)\n",
    "        sum_value+=n1*n2\n",
    "    return sum_value"
   ]
  },
  {
   "cell_type": "code",
   "execution_count": 41,
   "id": "780c81fd-b807-4156-b4b5-5a83a8f23fd6",
   "metadata": {},
   "outputs": [
    {
     "data": {
      "text/plain": [
       "5"
      ]
     },
     "execution_count": 41,
     "metadata": {},
     "output_type": "execute_result"
    }
   ],
   "source": [
    "find_catalan_number(3)"
   ]
  },
  {
   "cell_type": "code",
   "execution_count": 42,
   "id": "4cca1de1-31e7-4954-886d-8e61e228075e",
   "metadata": {},
   "outputs": [
    {
     "data": {
      "text/plain": [
       "42"
      ]
     },
     "execution_count": 42,
     "metadata": {},
     "output_type": "execute_result"
    }
   ],
   "source": [
    "find_catalan_number(5)"
   ]
  },
  {
   "cell_type": "markdown",
   "id": "a437ea5a-7290-4829-b625-87967fde746e",
   "metadata": {},
   "source": [
    "### Deletion in BST"
   ]
  },
  {
   "cell_type": "code",
   "execution_count": 54,
   "id": "65efe292-44b3-469d-8834-3c0c6e6747bd",
   "metadata": {},
   "outputs": [
    {
     "name": "stdout",
     "output_type": "stream",
     "text": [
      "40  50  80  90  100  110  120  150  \n",
      "The data 80 was present in the BST\n"
     ]
    }
   ],
   "source": [
    "class Node:\n",
    "    def __init__(self,data):\n",
    "        self.data=data\n",
    "        self.left=None\n",
    "        self.right=None\n",
    "def insertion_BST(root,key):\n",
    "    if root is None:\n",
    "        return Node(key)\n",
    "    else:\n",
    "        if root.data == key:\n",
    "            return root\n",
    "        elif root.data < key:\n",
    "            root.right=insertion_BST(root.right,key)\n",
    "        else:\n",
    "            root.left=insertion_BST(root.left,key)\n",
    "    return root\n",
    "def searching(root,value):\n",
    "    if root is None:\n",
    "        return False\n",
    "    elif root.data== value:\n",
    "        return root.data\n",
    "    elif value < root.data:\n",
    "        return searching(root.left,value)\n",
    "    else:\n",
    "        return searching(root.right,value)\n",
    "        \n",
    "    return False\n",
    "\n",
    "def inorder(root):\n",
    "    if root:\n",
    "        inorder(root.left)\n",
    "        print(f'{root.data} ',end=' ')\n",
    "        inorder(root.right)\n",
    "        \n",
    "# Driver method\n",
    "root=Node(100)\n",
    "root=insertion_BST(root,80)\n",
    "root=insertion_BST(root,120)\n",
    "root=insertion_BST(root,50)\n",
    "root=insertion_BST(root,90)\n",
    "root=insertion_BST(root,110)\n",
    "root=insertion_BST(root,150)\n",
    "root=insertion_BST(root,150)\n",
    "root=insertion_BST(root,40)\n",
    "inorder(root)\n",
    "print()\n",
    "value=80\n",
    "result=searching(root,value)\n",
    "if result:\n",
    "    print(f'The data {value} was present in the BST')\n",
    "else:\n",
    "    print(f'The data {value} was  Not present in the BST')\n",
    "    "
   ]
  },
  {
   "cell_type": "markdown",
   "id": "4aca4288-99e1-4cee-9db3-866d32496690",
   "metadata": {},
   "source": [
    "### Deletion in BST"
   ]
  },
  {
   "cell_type": "code",
   "execution_count": 6,
   "id": "131a864d-6b7f-410b-8ee8-4c02b254325e",
   "metadata": {},
   "outputs": [
    {
     "name": "stdout",
     "output_type": "stream",
     "text": [
      "40  50  80  90  100  110  120  150  \n",
      "40  50  80  90  100  110  120  \n",
      "40  80  90  100  110  120  \n",
      "40  90  100  110  120  "
     ]
    }
   ],
   "source": [
    "class Node:\n",
    "    def __init__(self,data):\n",
    "        self.data=data\n",
    "        self.left=None\n",
    "        self.right=None\n",
    "def insertion_BST(root,key):\n",
    "    if root is None:\n",
    "        return Node(key)\n",
    "    else:\n",
    "        if root.data == key:\n",
    "            return root\n",
    "        elif root.data < key:\n",
    "            root.right=insertion_BST(root.right,key)\n",
    "        else:\n",
    "            root.left=insertion_BST(root.left,key)\n",
    "    return root\n",
    "\n",
    "## minimaum value node in BST\n",
    "def min_node(root): #->'minimum value in BST'\n",
    "    temp=root\n",
    "    while temp.right:\n",
    "        temp=temp.right\n",
    "    return temp.data\n",
    "\n",
    "## Deletion \n",
    "def deletion(root,value):\n",
    "    if root is None:\n",
    "        return root\n",
    "    elif value > root.data:\n",
    "        root.right=deletion(root.right,value)\n",
    "    elif value < root.data:\n",
    "        root.left=deletion(root.left,value)\n",
    "    else:\n",
    "        ## deletion if node has No child node or single child node\n",
    "        if root.left is None:\n",
    "            temp=root.right\n",
    "            root=None\n",
    "            return temp\n",
    "        elif root.right is None:\n",
    "            temp=root.left\n",
    "            root=None\n",
    "            return temp\n",
    "        ## deletion if node has two childs\n",
    "        temp=min_node(root.right)\n",
    "        root.data = temp\n",
    "        root.right=deletion(root.right,temp)\n",
    "    return root \n",
    "def inorder(root):\n",
    "    if root:\n",
    "        inorder(root.left)\n",
    "        print(f'{root.data} ',end=' ')\n",
    "        inorder(root.right)\n",
    "        \n",
    "# Driver method\n",
    "root=Node(100)\n",
    "root=insertion_BST(root,80)\n",
    "root=insertion_BST(root,120)\n",
    "root=insertion_BST(root,50)\n",
    "root=insertion_BST(root,90)\n",
    "root=insertion_BST(root,110)\n",
    "root=insertion_BST(root,150)\n",
    "root=insertion_BST(root,150)\n",
    "root=insertion_BST(root,40)\n",
    "inorder(root)\n",
    "print()\n",
    "deletion(root,150)\n",
    "inorder(root)\n",
    "print()\n",
    "deletion(root,50)\n",
    "inorder(root)\n",
    "print()\n",
    "deletion(root,80)\n",
    "inorder(root)\n"
   ]
  },
  {
   "cell_type": "code",
   "execution_count": null,
   "id": "5dd8856f-f447-4415-b63a-3ef28441ce18",
   "metadata": {},
   "outputs": [],
   "source": []
  }
 ],
 "metadata": {
  "kernelspec": {
   "display_name": "Python 3 (ipykernel)",
   "language": "python",
   "name": "python3"
  },
  "language_info": {
   "codemirror_mode": {
    "name": "ipython",
    "version": 3
   },
   "file_extension": ".py",
   "mimetype": "text/x-python",
   "name": "python",
   "nbconvert_exporter": "python",
   "pygments_lexer": "ipython3",
   "version": "3.10.6"
  }
 },
 "nbformat": 4,
 "nbformat_minor": 5
}
