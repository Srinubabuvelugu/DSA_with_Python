{
 "cells": [
  {
   "cell_type": "markdown",
   "id": "d8019410-3c26-4fec-885e-5a79abc6f1da",
   "metadata": {},
   "source": [
    "## Greedy Algorithm Applications"
   ]
  },
  {
   "cell_type": "markdown",
   "id": "f70fae74-fc58-47ab-9f64-fbfabd31bd03",
   "metadata": {},
   "source": [
    "### Fractional Knapsack\n",
    "- find maximum profit with the weight(M)"
   ]
  },
  {
   "cell_type": "code",
   "execution_count": null,
   "id": "bb53454d-8e00-4556-9bc1-160de23ead3f",
   "metadata": {},
   "outputs": [],
   "source": []
  },
  {
   "cell_type": "code",
   "execution_count": 17,
   "id": "37499925-f8a4-44fb-b10e-11a7d55b60d1",
   "metadata": {},
   "outputs": [],
   "source": [
    "l=[12,23,34]\n",
    "\n",
    "l1=[10,20,30]\n",
    "l=list(zip(l,l1))"
   ]
  },
  {
   "cell_type": "code",
   "execution_count": 18,
   "id": "bcf1bda8-8ac6-47f9-9bfd-5b421e718b13",
   "metadata": {},
   "outputs": [
    {
     "data": {
      "text/plain": [
       "[(12, 10), (23, 20), (34, 30)]"
      ]
     },
     "execution_count": 18,
     "metadata": {},
     "output_type": "execute_result"
    }
   ],
   "source": [
    "l"
   ]
  },
  {
   "cell_type": "code",
   "execution_count": 5,
   "id": "6b4eb6c5-b21c-4c98-b64d-7963512a453b",
   "metadata": {},
   "outputs": [
    {
     "data": {
      "text/plain": [
       "[(0, (12, 10)), (1, (23, 20)), (2, (34, 30))]"
      ]
     },
     "execution_count": 5,
     "metadata": {},
     "output_type": "execute_result"
    }
   ],
   "source": [
    "obj=enumerate(l)\n",
    "list(obj)"
   ]
  },
  {
   "cell_type": "code",
   "execution_count": 12,
   "id": "41d3ca80-ca28-42e0-9ea4-a1f12da5c6dc",
   "metadata": {},
   "outputs": [
    {
     "data": {
      "text/plain": [
       "[(0, 5.0),\n",
       " (1, 7.5),\n",
       " (2, 8.333333333333334),\n",
       " (3, 12.5),\n",
       " (4, 6.428571428571429),\n",
       " (5, 10.0),\n",
       " (6, 10.0)]"
      ]
     },
     "execution_count": 12,
     "metadata": {},
     "output_type": "execute_result"
    }
   ],
   "source": [
    "weights=[5,10,12,4,7,9,3]\n",
    "profits=[25,75,100,50,45,90,30]\n",
    "pw=list()\n",
    "for i in range(len(weights)):\n",
    "    pw.append(profits[i]/weights[i])\n",
    "    \n",
    "pw=list(enumerate(pw))\n",
    "pw[1].\n",
    "pw\n",
    "\n",
    "    "
   ]
  },
  {
   "cell_type": "code",
   "execution_count": 37,
   "id": "436a5daa-7bb0-4b59-852f-7d4c35f3f3d8",
   "metadata": {},
   "outputs": [
    {
     "name": "stdout",
     "output_type": "stream",
     "text": [
      "50 4 12.5\n",
      "90 9 10.0\n",
      "30 3 10.0\n",
      "100 12 8.333333333333334\n",
      "75 10 7.5\n",
      "45 7 6.428571428571429\n",
      "25 5 5.0\n",
      "Maximum Profit using greedy algorithm is 337.5\n"
     ]
    }
   ],
   "source": [
    "## Fractional knapsack\n",
    "class Item:\n",
    "    def __init__(self, profit, weight):\n",
    "        self.profit = profit\n",
    "        self.weight = weight\n",
    "def fractionalKnapsack(arr, M):\n",
    "    ## sort(descending) on the basis of profit/weight\n",
    "    arr.sort(key = lambda x:(x.profit/x.weight), reverse=True)\n",
    "    for item in arr:\n",
    "        print(item.profit, item.weight, item.profit/item.weight)\n",
    "    maxProfit = 0.0\n",
    "    ## decrementing the capacity and increment of the maxProfit\n",
    "    for item in arr:\n",
    "        if item.weight <= M:\n",
    "            M -= item.weight\n",
    "            maxProfit += item.profit\n",
    "        else:\n",
    "            maxProfit += item.profit * M/item.weight\n",
    "            break\n",
    "    return maxProfit\n",
    "arr = [Item(25, 5), Item(75, 10), Item(100, 12), Item(50, 4), Item(45, 7), Item(90, 9), Item(30, 3)]\n",
    "M=37\n",
    "maxProfit = fractionalKnapsack(arr, M)\n",
    "print(\"Maximum Profit using greedy algorithm is\", maxProfit)"
   ]
  },
  {
   "cell_type": "code",
   "execution_count": 27,
   "id": "5a97346e-19ea-4a33-8da7-7936c9e337f7",
   "metadata": {},
   "outputs": [
    {
     "name": "stdout",
     "output_type": "stream",
     "text": [
      "50 4 12.5\n",
      "90 9 10.0\n",
      "30 3 10.0\n",
      "100 12 8.333333333333334\n",
      "75 10 7.5\n",
      "45 7 6.428571428571429\n",
      "25 5 5.0\n",
      "Maximum Profit using greedy algorithm is 337.5\n"
     ]
    }
   ],
   "source": [
    "class Item:\n",
    "    def __init__(self, profit, weight):\n",
    "        self.profit = profit\n",
    "        self.weight = weight\n",
    "        \n",
    "## fractionalKnapsack method definition\n",
    "def fractionalKnapsack(arr, M):\n",
    "    ## sort(descending) on the basis of profit/weight\n",
    "    arr.sort(key = lambda x:(x.profit/x.weight), reverse=True)\n",
    "    for item in arr:\n",
    "        print(item.profit, item.weight, item.profit/item.weight)\n",
    "    maxProfit = 0.0\n",
    "    ## decrementing the capacity and increment of the maxProfit\n",
    "    for item in arr:\n",
    "        if item.weight <= M:\n",
    "            M -= item.weight\n",
    "            maxProfit += item.profit\n",
    "        else:\n",
    "            maxProfit += item.profit * M/item.weight\n",
    "            break\n",
    "    return maxProfit\n",
    "            \n",
    "## Driver code\n",
    "M = 37\n",
    "arr = [Item(25, 5), Item(75, 10), Item(100, 12), Item(50, 4), Item(45, 7), Item(90, 9), Item(30, 3)]\n",
    "\n",
    "## function call\n",
    "maxProfit = fractionalKnapsack(arr, M)\n",
    "print(\"Maximum Profit using greedy algorithm is\", maxProfit)"
   ]
  },
  {
   "cell_type": "markdown",
   "id": "826b6e3f-462e-49eb-98dd-372c1cc20489",
   "metadata": {},
   "source": [
    "### Minimum Spanning Tree - Kruskal's Algorithm"
   ]
  },
  {
   "cell_type": "code",
   "execution_count": 66,
   "id": "68861697-e364-4815-928c-9ac678617bb8",
   "metadata": {},
   "outputs": [
    {
     "name": "stdout",
     "output_type": "stream",
     "text": [
      "Edges in the constructed MST\n",
      "2 -- 3 == 4\n",
      "0 -- 3 == 5\n",
      "0 -- 1 == 10\n",
      "Minimum Spanning Tree 19\n"
     ]
    }
   ],
   "source": [
    "# Python program for Kruskal's algorithm to find\n",
    "# Minimum Spanning Tree of a given connected,\n",
    "# undirected and weighted graph\n",
    " \n",
    " \n",
    "# Class to represent a graph\n",
    "class Graph:\n",
    " \n",
    "    def __init__(self, vertices):\n",
    "        self.V = vertices\n",
    "        self.graph = []\n",
    " \n",
    "    # Function to add an edge to graph\n",
    "    def addEdge(self, u, v, w):\n",
    "        self.graph.append([u, v, w])\n",
    " \n",
    "    # A utility function to find set of an element i\n",
    "    # (truly uses path compression technique)\n",
    "    def find(self, parent, i):\n",
    "        if parent[i] != i:\n",
    " \n",
    "            # Reassignment of node's parent\n",
    "            # to root node as\n",
    "            # path compression requires\n",
    "            parent[i] = self.find(parent, parent[i])\n",
    "        return parent[i]\n",
    " \n",
    "    # A function that does union of two sets of x and y\n",
    "    # (uses union by rank)\n",
    "    def union(self, parent, rank, x, y):\n",
    " \n",
    "        # Attach smaller rank tree under root of\n",
    "        # high rank tree (Union by Rank)\n",
    "        if rank[x] < rank[y]:\n",
    "            parent[x] = y\n",
    "        elif rank[x] > rank[y]:\n",
    "            parent[y] = x\n",
    " \n",
    "        # If ranks are same, then make one as root\n",
    "        # and increment its rank by one\n",
    "        else:\n",
    "            parent[y] = x\n",
    "            rank[x] += 1\n",
    " \n",
    "    # The main function to construct MST\n",
    "    # using Kruskal's algorithm\n",
    "    def KruskalMST(self):\n",
    " \n",
    "        # This will store the resultant MST\n",
    "        result = []\n",
    " \n",
    "        # An index variable, used for sorted edges\n",
    "        i = 0\n",
    " \n",
    "        # An index variable, used for result[]\n",
    "        e = 0\n",
    " \n",
    "        # Sort all the edges in\n",
    "        # non-decreasing order of their\n",
    "        # weight\n",
    "        self.graph = sorted(self.graph,\n",
    "                            key=lambda item: item[2])\n",
    " \n",
    "        parent = []\n",
    "        rank = []\n",
    " \n",
    "        # Create V subsets with single elements\n",
    "        for node in range(self.V):\n",
    "            parent.append(node)\n",
    "            rank.append(0)\n",
    " \n",
    "        # Number of edges to be taken is less than to V-1\n",
    "        while e < self.V - 1:\n",
    " \n",
    "            # Pick the smallest edge and increment\n",
    "            # the index for next iteration\n",
    "            u, v, w = self.graph[i]\n",
    "            i = i + 1\n",
    "            x = self.find(parent, u)\n",
    "            y = self.find(parent, v)\n",
    " \n",
    "            # If including this edge doesn't\n",
    "            # cause cycle, then include it in result\n",
    "            # and increment the index of result\n",
    "            # for next edge\n",
    "            if x != y:\n",
    "                e = e + 1\n",
    "                result.append([u, v, w])\n",
    "                self.union(parent, rank, x, y)\n",
    "            # Else discard the edge\n",
    " \n",
    "        minimumCost = 0\n",
    "        print(\"Edges in the constructed MST\")\n",
    "        for u, v, weight in result:\n",
    "            minimumCost += weight\n",
    "            print(\"%d -- %d == %d\" % (u, v, weight))\n",
    "        print(\"Minimum Spanning Tree\", minimumCost)\n",
    " \n",
    " \n",
    "# Driver code\n",
    "if __name__ == '__main__':\n",
    "    g = Graph(4)\n",
    "    g.addEdge(0, 1, 10)\n",
    "    g.addEdge(0, 2, 6)\n",
    "    g.addEdge(0, 3, 5)\n",
    "    g.addEdge(1, 3, 15)\n",
    "    g.addEdge(2, 3, 4)\n",
    " \n",
    "    # Function call\n",
    "    g.KruskalMST()\n",
    " \n",
    "# This code is contributed by Neelam Yadav\n",
    "# Improved by James Graça-Jones"
   ]
  },
  {
   "cell_type": "code",
   "execution_count": 76,
   "id": "95e7df06-6e37-4808-a3a1-711c8277c264",
   "metadata": {},
   "outputs": [],
   "source": [
    "## \n",
    "class Graph:\n",
    "    def __init__(self,vertices):\n",
    "        self.vertices=vertices\n",
    "        self.graph=[]\n",
    "    \n",
    "    ## Add edges to graph\n",
    "    def addEdge(self,s,d,w):\n",
    "        self.graph.append([s,d,w])\n",
    "    ## find subtrees\n",
    "    def find_subtree(self,parent,i):\n",
    "        if parent[i] != i:\n",
    "            parent[i] = self.find_subtree(parent, parent[i]) \n",
    "        return parent[i]\n",
    "    \n",
    "    ## connect_subtrees\n",
    "    def connect_subtrees(self,parent,rank,x,y):\n",
    "        if rank[x] < rank[y]:\n",
    "            parent[x]=y\n",
    "        elif rank[x] > rank[y]:\n",
    "            parent[y]=x\n",
    "        else:\n",
    "            parent[y]=x\n",
    "            rank[x]+=1\n",
    "    \n",
    "    ## Kruskal's Algoritham\n",
    "    def kruskals(self):\n",
    "        result=[]\n",
    "        # initilization of edges\n",
    "        i,e=0,0\n",
    "        ## sorting the edges increasing order\n",
    "        self.graph=sorted(self.graph,key = lambda x:x[2])\n",
    "        parent=[]\n",
    "        rank=[]\n",
    "        for i in range(self.vertices):\n",
    "            parent.append(i)\n",
    "            rank.append(0)\n",
    "        while e < (self.vertices-1):\n",
    "            s,d,w=self.graph[i]\n",
    "            i+=1\n",
    "            \n",
    "            x= self.find_subtree(parent,s)\n",
    "            y= self.find_subtree(parent,d)\n",
    "             \n",
    "            if x != y:\n",
    "                e+=1\n",
    "                result.append([s,d,w])\n",
    "                self.connect_subtrees(parent,rank,x,y)\n",
    "        min_cost=0\n",
    "        for s,d,w, in result:\n",
    "            print(f'{s} ---> {d} : {w}')\n",
    "            min_cost+=w\n",
    "        print('Minimum spanning tree Minimum cost :',min_cost)\n",
    "    \n",
    "                \n",
    "            \n",
    "   "
   ]
  },
  {
   "cell_type": "code",
   "execution_count": 77,
   "id": "e091223d-ad66-40a8-a773-90b6277cc7f2",
   "metadata": {},
   "outputs": [
    {
     "ename": "IndexError",
     "evalue": "list index out of range",
     "output_type": "error",
     "traceback": [
      "\u001b[0;31m---------------------------------------------------------------------------\u001b[0m",
      "\u001b[0;31mIndexError\u001b[0m                                Traceback (most recent call last)",
      "Cell \u001b[0;32mIn [77], line 7\u001b[0m\n\u001b[1;32m      5\u001b[0m g\u001b[38;5;241m.\u001b[39maddEdge(\u001b[38;5;241m1\u001b[39m, \u001b[38;5;241m3\u001b[39m, \u001b[38;5;241m15\u001b[39m)\n\u001b[1;32m      6\u001b[0m g\u001b[38;5;241m.\u001b[39maddEdge(\u001b[38;5;241m2\u001b[39m, \u001b[38;5;241m3\u001b[39m, \u001b[38;5;241m4\u001b[39m)\n\u001b[0;32m----> 7\u001b[0m \u001b[43mg\u001b[49m\u001b[38;5;241;43m.\u001b[39;49m\u001b[43mkruskals\u001b[49m\u001b[43m(\u001b[49m\u001b[43m)\u001b[49m\n",
      "Cell \u001b[0;32mIn [76], line 39\u001b[0m, in \u001b[0;36mGraph.kruskals\u001b[0;34m(self)\u001b[0m\n\u001b[1;32m     37\u001b[0m     rank\u001b[38;5;241m.\u001b[39mappend(\u001b[38;5;241m0\u001b[39m)\n\u001b[1;32m     38\u001b[0m \u001b[38;5;28;01mwhile\u001b[39;00m e \u001b[38;5;241m<\u001b[39m (\u001b[38;5;28mself\u001b[39m\u001b[38;5;241m.\u001b[39mvertices\u001b[38;5;241m-\u001b[39m\u001b[38;5;241m1\u001b[39m):\n\u001b[0;32m---> 39\u001b[0m     s,d,w\u001b[38;5;241m=\u001b[39m\u001b[38;5;28;43mself\u001b[39;49m\u001b[38;5;241;43m.\u001b[39;49m\u001b[43mgraph\u001b[49m\u001b[43m[\u001b[49m\u001b[43mi\u001b[49m\u001b[43m]\u001b[49m\n\u001b[1;32m     40\u001b[0m     i\u001b[38;5;241m+\u001b[39m\u001b[38;5;241m=\u001b[39m\u001b[38;5;241m1\u001b[39m\n\u001b[1;32m     42\u001b[0m     x\u001b[38;5;241m=\u001b[39m \u001b[38;5;28mself\u001b[39m\u001b[38;5;241m.\u001b[39mfind_subtree(parent,s)\n",
      "\u001b[0;31mIndexError\u001b[0m: list index out of range"
     ]
    }
   ],
   "source": [
    "g = Graph(4)\n",
    "g.addEdge(0, 1, 10)\n",
    "g.addEdge(0, 2, 6)\n",
    "g.addEdge(0, 3, 5)\n",
    "g.addEdge(1, 3, 15)\n",
    "g.addEdge(2, 3, 4)\n",
    "g.kruskals()"
   ]
  },
  {
   "cell_type": "code",
   "execution_count": 78,
   "id": "5d4fb77c-cae2-45b0-ad25-50cd9de6d85a",
   "metadata": {},
   "outputs": [],
   "source": [
    " \n",
    "n.addedge(0, 1, 4)\n",
    "n.addedge(0, 2, 7)\n",
    "n.addedge(1, 2, 11)\n",
    "n.addedge(1, 3, 9)\n",
    "n.addedge(1, 5, 20)\n",
    "n.addedge(2, 5, 1)\n",
    "n.addedge(3, 6, 6)\n",
    "n.addedge(3, 4, 2)\n",
    "n.addedge(4, 6, 10)\n",
    "n.addedge(4, 8, 15)\n",
    "n.addedge(4, 7, 5)\n",
    "n.addedge(4, 5, 1)\n",
    "n.addedge(5, 7, 3)\n",
    "n.addedge(6, 8, 5)\n",
    "n.addedge(7, 8, 12)"
   ]
  },
  {
   "cell_type": "code",
   "execution_count": 70,
   "id": "f68736b5-5e46-45d2-8ace-4c22543defee",
   "metadata": {},
   "outputs": [
    {
     "ename": "IndexError",
     "evalue": "list index out of range",
     "output_type": "error",
     "traceback": [
      "\u001b[0;31m---------------------------------------------------------------------------\u001b[0m",
      "\u001b[0;31mIndexError\u001b[0m                                Traceback (most recent call last)",
      "Cell \u001b[0;32mIn [70], line 1\u001b[0m\n\u001b[0;32m----> 1\u001b[0m \u001b[43mn\u001b[49m\u001b[38;5;241;43m.\u001b[39;49m\u001b[43mkruskals\u001b[49m\u001b[43m(\u001b[49m\u001b[43m)\u001b[49m\n",
      "Cell \u001b[0;32mIn [67], line 39\u001b[0m, in \u001b[0;36mNode.kruskals\u001b[0;34m(self)\u001b[0m\n\u001b[1;32m     37\u001b[0m     rank\u001b[38;5;241m.\u001b[39mappend(\u001b[38;5;241m0\u001b[39m)\n\u001b[1;32m     38\u001b[0m \u001b[38;5;28;01mwhile\u001b[39;00m e \u001b[38;5;241m<\u001b[39m \u001b[38;5;28mself\u001b[39m\u001b[38;5;241m.\u001b[39mvertices\u001b[38;5;241m-\u001b[39m\u001b[38;5;241m1\u001b[39m:\n\u001b[0;32m---> 39\u001b[0m     s,d,w\u001b[38;5;241m=\u001b[39m\u001b[38;5;28;43mself\u001b[39;49m\u001b[38;5;241;43m.\u001b[39;49m\u001b[43mgraph\u001b[49m\u001b[43m[\u001b[49m\u001b[43mi\u001b[49m\u001b[43m]\u001b[49m\n\u001b[1;32m     40\u001b[0m     i\u001b[38;5;241m+\u001b[39m\u001b[38;5;241m=\u001b[39m\u001b[38;5;241m1\u001b[39m\n\u001b[1;32m     42\u001b[0m     x\u001b[38;5;241m=\u001b[39m \u001b[38;5;28mself\u001b[39m\u001b[38;5;241m.\u001b[39mfind_subtree(parent,s)\n",
      "\u001b[0;31mIndexError\u001b[0m: list index out of range"
     ]
    }
   ],
   "source": [
    "n.kruskals()\n"
   ]
  },
  {
   "cell_type": "code",
   "execution_count": null,
   "id": "8dc7b137-fa5d-4781-8d05-ea9f97bd4108",
   "metadata": {},
   "outputs": [],
   "source": []
  },
  {
   "cell_type": "markdown",
   "id": "c21804d1-2687-4905-96cc-0e749f2e544d",
   "metadata": {},
   "source": [
    "### Minimum Spanning Tree - Prim's Algorithm "
   ]
  },
  {
   "cell_type": "code",
   "execution_count": 6,
   "id": "6a7226c3-5ebf-46f2-ab28-c678bcd7a6fc",
   "metadata": {},
   "outputs": [
    {
     "name": "stdout",
     "output_type": "stream",
     "text": [
      "Edge : Weight\n",
      "\n",
      "0-1:9\n",
      "1-3:19\n",
      "3-4:31\n",
      "3-2:51\n",
      "110\n"
     ]
    }
   ],
   "source": [
    "# Prim's Algorithm in Python\n",
    "\n",
    "\n",
    "INF = 9999999\n",
    "# number of vertices in graph\n",
    "V = 5\n",
    "# create a 2d array of size 5x5\n",
    "# for adjacency matrix to represent graph\n",
    "G = [[0, 9, 75, 0, 0],\n",
    "     [9, 0, 95, 19, 42],\n",
    "     [75, 95, 0, 51, 66],\n",
    "     [0, 19, 51, 0, 31],\n",
    "     [0, 42, 66, 31, 0]]\n",
    "# create a array to track selected vertex\n",
    "# selected will become true otherwise false\n",
    "selected = [0, 0, 0, 0, 0]\n",
    "# set number of edge to 0\n",
    "no_edge = 0\n",
    "# the number of egde in minimum spanning tree will be\n",
    "# always less than(V - 1), where V is number of vertices in\n",
    "# graph\n",
    "# choose 0th vertex and make it true\n",
    "selected[0] = True\n",
    "# print for edge and weight\n",
    "print(\"Edge : Weight\\n\")\n",
    "min_cost=0\n",
    "while (no_edge < V - 1):\n",
    "    # For every vertex in the set S, find the all adjacent vertices\n",
    "    #, calculate the distance from the vertex selected at step 1.\n",
    "    # if the vertex is already in the set S, discard it otherwise\n",
    "    # choose another vertex nearest to selected vertex  at step 1.\n",
    "    minimum = INF\n",
    "    x = 0\n",
    "    y = 0\n",
    "    \n",
    "    for i in range(V):\n",
    "        if selected[i]:\n",
    "            for j in range(V):\n",
    "                if ((not selected[j]) and G[i][j]):  \n",
    "                    # not in selected and there is an edge\n",
    "                    if minimum > G[i][j]:\n",
    "                        minimum = G[i][j]\n",
    "                        \n",
    "                        x = i\n",
    "                        y = j\n",
    "    print(str(x) + \"-\" + str(y) + \":\" + str(G[x][y]))\n",
    "    selected[y] = True\n",
    "    min_cost=min_cost+G[x][y]\n",
    "    no_edge += 1\n",
    "print(min_cost)"
   ]
  },
  {
   "cell_type": "markdown",
   "id": "f0d49158-c459-47bb-8d21-e7b7f13904f8",
   "metadata": {},
   "source": [
    "### Huff Man Coding "
   ]
  },
  {
   "cell_type": "code",
   "execution_count": 3,
   "id": "a8ee287c-15ab-4a07-b22e-51aafa7c6cc7",
   "metadata": {},
   "outputs": [
    {
     "name": "stdout",
     "output_type": "stream",
     "text": [
      "f -> 0\n",
      "c -> 100\n",
      "d -> 101\n",
      "a -> 1100\n",
      "b -> 1101\n",
      "e -> 111\n"
     ]
    }
   ],
   "source": [
    "# A Huffman Tree Node\n",
    "import heapq\n",
    "\n",
    "class node:\n",
    "    def __init__(self, freq, symbol, left=None, right=None):\n",
    "    # frequency of symbol\n",
    "        self.freq = freq\n",
    "\n",
    "    # symbol name (character)\n",
    "        self.symbol = symbol\n",
    "\n",
    "    # node left of current node\n",
    "        self.left = left\n",
    "\n",
    "    # node right of current node\n",
    "        self.right = right\n",
    "\n",
    "    # tree direction (0/1)\n",
    "        self.huff = ''\n",
    "    \n",
    "    def __lt__(self, nxt):\n",
    "        return self.freq < nxt.freq\n",
    "\n",
    "\n",
    "# utility function to print huffman\n",
    "# codes for all symbols in the newly\n",
    "# created Huffman tree\n",
    "def printNodes(node, val=''):\n",
    "    # huffman code for current node\n",
    "    newVal = val + str(node.huff)\n",
    "\n",
    "    # if node is not an edge node\n",
    "    # then traverse inside it\n",
    "    if(node.left):\n",
    "        printNodes(node.left, newVal)\n",
    "    if(node.right):\n",
    "        printNodes(node.right, newVal)\n",
    "\n",
    "    # if node is edge node then\n",
    "    # display its huffman code\n",
    "    if(not node.left and not node.right):\n",
    "        print(f\"{node.symbol} -> {newVal}\")\n",
    "\n",
    "\n",
    "\n",
    "## Driver code\n",
    "## characters for the huffman tree\n",
    "chars = ['a', 'b', 'c', 'd', 'e', 'f']\n",
    "\n",
    "# frequency of characters\n",
    "freq = [5, 9, 12, 13, 16, 45]\n",
    "\n",
    "# list containing unused nodes\n",
    "nodes = []\n",
    "\n",
    "# converting characters and frequencies\n",
    "# into huffman tree nodes\n",
    "for x in range(len(chars)):\n",
    "    heapq.heappush(nodes, node(freq[x], chars[x]))\n",
    "\n",
    "while len(nodes) > 1:\n",
    "    # sort all the nodes in ascending order\n",
    "    # based on their frequency\n",
    "    left = heapq.heappop(nodes)\n",
    "    right = heapq.heappop(nodes)\n",
    "\n",
    "    # assign value to these nodes in the huffman tree\n",
    "    left.huff = 0\n",
    "    right.huff = 1\n",
    "\n",
    "    # combine the 2 smallest nodes to create\n",
    "    # new node as their parent\n",
    "    newNode = node(left.freq+right.freq, left.symbol+right.symbol, left, right)\n",
    "\n",
    "    heapq.heappush(nodes, newNode)\n",
    "\n",
    "# Huffman Tree is ready!\n",
    "printNodes(nodes[0])"
   ]
  },
  {
   "cell_type": "code",
   "execution_count": 10,
   "id": "23ad18b5-fbac-4cca-ac01-117310849e24",
   "metadata": {},
   "outputs": [],
   "source": [
    "class graph:\n",
    " \n",
    "    def __init__(self, vertices):\n",
    "        self.V = vertices\n",
    "        self.graph = []\n",
    " \n",
    "    # Function to add an edge to graph\n",
    "    def addEdge(self, u, v, w):\n",
    "        self.graph.append([u, v, w])\n",
    "        \n",
    "        \n"
   ]
  },
  {
   "cell_type": "code",
   "execution_count": 11,
   "id": "a7683426-a2c3-426f-a3ec-dd7f619721c5",
   "metadata": {},
   "outputs": [],
   "source": [
    "g=graph(5)"
   ]
  },
  {
   "cell_type": "code",
   "execution_count": 14,
   "id": "91cf26fc-9416-434d-8d32-d6c0ce0ed1b8",
   "metadata": {},
   "outputs": [],
   "source": [
    "g.addEdge(0,1,5)\n",
    "g.addEdge(0,2,4)\n",
    "g.addEdge(1,2,20)\n",
    "g.addEdge(1,3,15)\n",
    "g.addEdge(2,4,25)\n",
    "g.addEdge(3,5,30)\n",
    "g.addEdge(3,4,10)\n",
    "g.addEdge(4,5,8)"
   ]
  },
  {
   "cell_type": "code",
   "execution_count": 17,
   "id": "2ba67247-c28a-42f1-a5dd-1a767170842e",
   "metadata": {},
   "outputs": [],
   "source": [
    "k=g.graph"
   ]
  },
  {
   "cell_type": "code",
   "execution_count": 18,
   "id": "3c8dd5ae-e143-4480-835e-dc53fc92b9be",
   "metadata": {},
   "outputs": [
    {
     "data": {
      "text/plain": [
       "[[0, 1, 5],\n",
       " [0, 1, 5],\n",
       " [0, 1, 5],\n",
       " [0, 1, 5],\n",
       " [0, 1, 5],\n",
       " [0, 1, 5],\n",
       " [0, 1, 5],\n",
       " [0, 1, 5],\n",
       " [0, 1, 5],\n",
       " [0, 1, 5],\n",
       " [0, 1, 5],\n",
       " [0, 2, 4],\n",
       " [1, 2, 20],\n",
       " [1, 3, 15],\n",
       " [2, 4, 25],\n",
       " [3, 5, 30],\n",
       " [3, 4, 10],\n",
       " [4, 5, 8]]"
      ]
     },
     "execution_count": 18,
     "metadata": {},
     "output_type": "execute_result"
    }
   ],
   "source": [
    "k"
   ]
  },
  {
   "cell_type": "code",
   "execution_count": 32,
   "id": "dc6af8f8-2ec3-4aa4-b6ea-9c727320d08e",
   "metadata": {},
   "outputs": [
    {
     "data": {
      "text/plain": [
       "{0: (2, 4), 1: (3, 15), 2: (4, 25), 3: (4, 10), 4: (5, 8)}"
      ]
     },
     "execution_count": 32,
     "metadata": {},
     "output_type": "execute_result"
    }
   ],
   "source": [
    "i=0\n",
    "v=5\n",
    "dic={}\n",
    "for s,d,w in k:\n",
    "    dic[s]=(d,w)\n",
    "dic\n",
    "        \n",
    "        "
   ]
  },
  {
   "cell_type": "code",
   "execution_count": 33,
   "id": "f9548143-20bc-42bf-bbf0-28147bc5c287",
   "metadata": {},
   "outputs": [
    {
     "ename": "TypeError",
     "evalue": "dict expected at most 1 argument, got 2",
     "output_type": "error",
     "traceback": [
      "\u001b[0;31m---------------------------------------------------------------------------\u001b[0m",
      "\u001b[0;31mTypeError\u001b[0m                                 Traceback (most recent call last)",
      "Cell \u001b[0;32mIn [33], line 2\u001b[0m\n\u001b[1;32m      1\u001b[0m d\u001b[38;5;241m=\u001b[39m{\u001b[38;5;241m1\u001b[39m:\u001b[38;5;241m2\u001b[39m,\u001b[38;5;241m2\u001b[39m:\u001b[38;5;241m3\u001b[39m}\n\u001b[0;32m----> 2\u001b[0m d\u001b[38;5;241m=\u001b[39md\u001b[38;5;241m+\u001b[39m\u001b[38;5;28;43mdict\u001b[39;49m\u001b[43m(\u001b[49m\u001b[38;5;241;43m4\u001b[39;49m\u001b[43m,\u001b[49m\u001b[38;5;241;43m3\u001b[39;49m\u001b[43m)\u001b[49m\n\u001b[1;32m      3\u001b[0m d\n",
      "\u001b[0;31mTypeError\u001b[0m: dict expected at most 1 argument, got 2"
     ]
    }
   ],
   "source": [
    "\n",
    ".32d={1:2,2:3}\n",
    "d=d+dict(4,3)\n",
    "d"
   ]
  },
  {
   "cell_type": "code",
   "execution_count": 23,
   "id": "8f417b51-0e9e-431e-801c-35520e84aa5b",
   "metadata": {},
   "outputs": [
    {
     "data": {
      "text/plain": [
       "['__class__',\n",
       " '__class_getitem__',\n",
       " '__contains__',\n",
       " '__delattr__',\n",
       " '__delitem__',\n",
       " '__dir__',\n",
       " '__doc__',\n",
       " '__eq__',\n",
       " '__format__',\n",
       " '__ge__',\n",
       " '__getattribute__',\n",
       " '__getitem__',\n",
       " '__gt__',\n",
       " '__hash__',\n",
       " '__init__',\n",
       " '__init_subclass__',\n",
       " '__ior__',\n",
       " '__iter__',\n",
       " '__le__',\n",
       " '__len__',\n",
       " '__lt__',\n",
       " '__ne__',\n",
       " '__new__',\n",
       " '__or__',\n",
       " '__reduce__',\n",
       " '__reduce_ex__',\n",
       " '__repr__',\n",
       " '__reversed__',\n",
       " '__ror__',\n",
       " '__setattr__',\n",
       " '__setitem__',\n",
       " '__sizeof__',\n",
       " '__str__',\n",
       " '__subclasshook__',\n",
       " 'clear',\n",
       " 'copy',\n",
       " 'fromkeys',\n",
       " 'get',\n",
       " 'items',\n",
       " 'keys',\n",
       " 'pop',\n",
       " 'popitem',\n",
       " 'setdefault',\n",
       " 'update',\n",
       " 'values']"
      ]
     },
     "execution_count": 23,
     "metadata": {},
     "output_type": "execute_result"
    }
   ],
   "source": [
    "dir(dict)"
   ]
  },
  {
   "cell_type": "markdown",
   "id": "e1a4fec3-c78e-4fba-900b-345b47fbb6b8",
   "metadata": {},
   "source": [
    "### Optimal Merge Patteren - Application of Greedy Algorithm"
   ]
  },
  {
   "cell_type": "code",
   "execution_count": 5,
   "id": "c697634b-9efe-47ff-9fb2-d487a37b3742",
   "metadata": {},
   "outputs": [
    {
     "name": "stdout",
     "output_type": "stream",
     "text": [
      "60\n"
     ]
    }
   ],
   "source": [
    "import heapq\n",
    "class node:\n",
    "    def __init__(self,value,symbol,left=None,right=None):\n",
    "        self.value=value\n",
    "        self.symbol=symbol\n",
    "        self.left=left\n",
    "        self.right=right\n",
    "     \n",
    "    \n",
    "\n",
    "chars=['x','y','z']\n",
    "values=[50,70,60]\n",
    "nodes=[]\n",
    "for x in range(len(chars)):\n",
    "    heapq.heappush(nodes, node(values[x], chars[x]))\n",
    "    left=heapq.heappop(nodes)\n",
    "    s=left.value\n",
    "while len(nodes) > 1 :\n",
    "    nod==heapq.heappop(nodes)\n",
    "    s=s+nod.value\n",
    "    \n",
    "    newnode=node(s,left.symbole+right.symbol)\n",
    "    heapq.heappush(nodes,newnode)\n",
    "    #left.value=0\n",
    "print(s)\n",
    "               "
   ]
  },
  {
   "cell_type": "code",
   "execution_count": 6,
   "id": "2ffe90a6-f13d-4b4b-a733-004b0588da9b",
   "metadata": {},
   "outputs": [],
   "source": [
    "def optimal_merge_pattern(files: list) -> float:\n",
    " \n",
    "    optimal_merge_cost = 0\n",
    "    while len(files) > 1:\n",
    "        temp = 0\n",
    "        # Consider two files with minimum cost to be merged\n",
    "        for _ in range(2):\n",
    "            min_index = files.index(min(files))\n",
    "            temp += files[min_index]\n",
    "            files.pop(min_index)\n",
    "        files.append(temp)\n",
    "        optimal_merge_cost += temp\n",
    "    return optimal_merge_cost\n"
   ]
  },
  {
   "cell_type": "code",
   "execution_count": 7,
   "id": "1cea61f3-3dd9-4752-8d0f-1e3363026a8e",
   "metadata": {},
   "outputs": [
    {
     "data": {
      "text/plain": [
       "290"
      ]
     },
     "execution_count": 7,
     "metadata": {},
     "output_type": "execute_result"
    }
   ],
   "source": [
    "optimal_merge_pattern([50,60,70])"
   ]
  },
  {
   "cell_type": "markdown",
   "id": "2f2203f7-271c-4433-8656-23a9ca447961",
   "metadata": {},
   "source": [
    "### Job Sequencing - Application of Greedy Algorithm"
   ]
  },
  {
   "cell_type": "code",
   "execution_count": 5,
   "id": "b1b97283-ceb7-4804-819f-864204eab743",
   "metadata": {},
   "outputs": [
    {
     "data": {
      "text/plain": [
       "['j2', 'j5', 'j4', 'j7', 'j8', -1, 'j3']"
      ]
     },
     "execution_count": 5,
     "metadata": {},
     "output_type": "execute_result"
    }
   ],
   "source": [
    "## Function defination\n",
    "def job_place(k,i,j,job):\n",
    "    #j=arr[i][2]\n",
    "    if j==0: \n",
    "        return \n",
    "    elif job[j]==-1:\n",
    "        job[j]=k\n",
    "    else:\n",
    "        job_place(k,i,j-1,job)\n",
    "    \n",
    "    \n",
    "def job_sequencing(arr,max_deadline):\n",
    "    arr.sort(key= lambda x:x[1],reverse=True)\n",
    "     \n",
    "    job=[-1]*(max_deadline+1)\n",
    "        \n",
    "    for i in range(len(arr)):\n",
    "        k=arr[i][0]\n",
    "        j=arr[i][2]\n",
    "         \n",
    "        if job[j]== -1:\n",
    "            job[j]=k\n",
    "        else:\n",
    "             \n",
    "            job_place(k,i,j-1,job)\n",
    "            \n",
    "        \n",
    "        \n",
    "    return job[1:]\n",
    "\n",
    "\n",
    "\n",
    "arr=[['j1',55,5],\n",
    "     ['j2',65,2],\n",
    "     ['j3',75,7],\n",
    "     ['j4',60,3],\n",
    "     ['j5',70,2],\n",
    "     ['j6',50,1],\n",
    "     ['j7',85,4],\n",
    "     ['j8',68,5],\n",
    "     ['j9',45,3]]\n",
    "max_deadline=7\n",
    "job_sequencing(arr,max_deadline)\n",
    "    "
   ]
  },
  {
   "cell_type": "code",
   "execution_count": 6,
   "id": "6b191729-e32c-42db-b9b1-da6901cde4fa",
   "metadata": {},
   "outputs": [
    {
     "data": {
      "text/plain": [
       "['c', 'a', 'e']"
      ]
     },
     "execution_count": 6,
     "metadata": {},
     "output_type": "execute_result"
    }
   ],
   "source": [
    "arr = [['a', 100, 2], ['b', 40, 1], ['c', 80, 2], ['d', 20, 1], ['e', 60,3]]\n",
    "job_sequencing(arr,3)"
   ]
  },
  {
   "cell_type": "code",
   "execution_count": null,
   "id": "82e8a43c-e9e8-4c49-a6fa-683275f4b340",
   "metadata": {},
   "outputs": [],
   "source": []
  }
 ],
 "metadata": {
  "kernelspec": {
   "display_name": "Python 3 (ipykernel)",
   "language": "python",
   "name": "python3"
  },
  "language_info": {
   "codemirror_mode": {
    "name": "ipython",
    "version": 3
   },
   "file_extension": ".py",
   "mimetype": "text/x-python",
   "name": "python",
   "nbconvert_exporter": "python",
   "pygments_lexer": "ipython3",
   "version": "3.10.6"
  }
 },
 "nbformat": 4,
 "nbformat_minor": 5
}
