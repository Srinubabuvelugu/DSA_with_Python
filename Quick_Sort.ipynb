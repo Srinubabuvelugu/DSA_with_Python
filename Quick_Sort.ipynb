{
 "cells": [
  {
   "cell_type": "markdown",
   "id": "f298f339-aa8f-44fb-8353-4333528a1dec",
   "metadata": {},
   "source": [
    "### Quick sort\n"
   ]
  },
  {
   "cell_type": "code",
   "execution_count": 8,
   "id": "476374f4-e386-4a98-9789-79575d5f473c",
   "metadata": {},
   "outputs": [],
   "source": [
    "def partition(arr,p,q):\n",
    "    \n",
    "    i=p\n",
    "    pivot=arr[p]\n",
    "   \n",
    "    for j in range(i+1,len(arr)):\n",
    "        if arr[j] < pivot:\n",
    "            i+=1\n",
    "            arr[j],arr[i] = arr[i],arr[j]\n",
    "    arr[p],arr[i] = arr[i],arr[p]\n",
    "    return i\n",
    "def quicksort(arr,p,q):\n",
    "    if p < q:\n",
    "        mid= partition(arr,p,q)\n",
    "        quicksort(arr,p,mid-1)\n",
    "        quicksort(arr,mid+1,q)\n",
    "    return arr"
   ]
  },
  {
   "cell_type": "code",
   "execution_count": 9,
   "id": "d80e5457-9e0e-4478-893f-fea3a44207ea",
   "metadata": {},
   "outputs": [
    {
     "data": {
      "text/plain": [
       "[27, 34, 47, 50, 70, 85, 99, 123, 147]"
      ]
     },
     "execution_count": 9,
     "metadata": {},
     "output_type": "execute_result"
    }
   ],
   "source": [
    "arr=[70,50,27,99,85,47,123,34,147]\n",
    "p=0\n",
    "q=len(arr)-1\n",
    "quicksort(arr,p,q)"
   ]
  },
  {
   "cell_type": "markdown",
   "id": "52706d18-c332-4d88-84c6-12d5833ab428",
   "metadata": {},
   "source": [
    "### Randomized Quick sort\n",
    "- To select the random element as a pivot element"
   ]
  },
  {
   "cell_type": "code",
   "execution_count": 5,
   "id": "1021e2f6-9632-46b6-a53b-bf553f547254",
   "metadata": {},
   "outputs": [],
   "source": [
    "import random\n",
    "def random_partition(arr,p,q):\n",
    "    random_pivot= random.randrange(p,q)\n",
    "    print(\"random pivot element:\" , arr[random_pivot])\n",
    "    arr[random_pivot],arr[p] = arr[p] , arr[random_pivot]\n",
    "    return partition(arr,p,q) \n",
    "\n",
    "def partition(arr,p,q):\n",
    "    \n",
    "    i=p\n",
    "    pivot=arr[p]\n",
    "   \n",
    "    for j in range(i+1,len(arr)):\n",
    "        if arr[j] < pivot:\n",
    "            i+=1\n",
    "            arr[j],arr[i] = arr[i],arr[j]\n",
    "    arr[p],arr[i] = arr[i],arr[p]\n",
    "    return i\n",
    "def quicksort(arr,p,q):\n",
    "    if p < q:\n",
    "        mid= random_partition(arr,p,q)\n",
    "        quicksort(arr,p,mid-1)\n",
    "        quicksort(arr,mid+1,q)\n",
    "    return arr"
   ]
  },
  {
   "cell_type": "code",
   "execution_count": 6,
   "id": "1f2fb9af-5dfa-49d5-8dbe-28ac81f6c649",
   "metadata": {},
   "outputs": [
    {
     "name": "stdout",
     "output_type": "stream",
     "text": [
      "random pivot element: 34\n",
      "random pivot element: 85\n",
      "random pivot element: 50\n",
      "random pivot element: 99\n",
      "random pivot element: 123\n"
     ]
    },
    {
     "data": {
      "text/plain": [
       "[27, 34, 47, 50, 70, 85, 99, 123, 147]"
      ]
     },
     "execution_count": 6,
     "metadata": {},
     "output_type": "execute_result"
    }
   ],
   "source": [
    "arr=[70,50,27,99,85,47,123,34,147]\n",
    "p=0\n",
    "q=len(arr)-1\n",
    "quicksort(arr,p,q)"
   ]
  },
  {
   "cell_type": "markdown",
   "id": "42d6ee67-7b0f-4aa7-8836-06dc0a20aa7e",
   "metadata": {},
   "source": [
    "### Application of Divide and conquer - K th smallest element in an array by using Quick Sort"
   ]
  },
  {
   "cell_type": "code",
   "execution_count": 15,
   "id": "7a096975-46c9-4bf9-81bf-0f562f94adca",
   "metadata": {},
   "outputs": [
    {
     "data": {
      "text/plain": [
       "34"
      ]
     },
     "execution_count": 15,
     "metadata": {},
     "output_type": "execute_result"
    }
   ],
   "source": [
    "def partition(arr,p,q):\n",
    "    \n",
    "    i=p\n",
    "    pivot=arr[p]\n",
    "   \n",
    "    for j in range(i+1,len(arr)):\n",
    "        if arr[j] < pivot:\n",
    "            i+=1\n",
    "            arr[j],arr[i] = arr[i],arr[j]\n",
    "    arr[p],arr[i] = arr[i],arr[p]\n",
    "    return i+1\n",
    "def selection_procedure(arr,p,q,k):\n",
    "    if len(arr) == 1:\n",
    "        return arr[p]\n",
    "    if p < q:\n",
    "        m=partition(arr,p,q)\n",
    "        if m == k:\n",
    "            return arr[m-1]\n",
    "        elif m < k:\n",
    "            return selection_procedure(arr,m,q,k)\n",
    "        else:\n",
    "            return selection_procedure(arr,p,m-2,k)\n",
    "arr=[70,50,27,99,85,47,123,34,147]\n",
    "p=0\n",
    "q=len(arr)-1\n",
    "k=2\n",
    "selection_procedure(arr,p,q,k)"
   ]
  },
  {
   "cell_type": "code",
   "execution_count": 12,
   "id": "691f3c88-d3aa-45f8-9bc4-96d86a51315e",
   "metadata": {},
   "outputs": [
    {
     "ename": "RecursionError",
     "evalue": "maximum recursion depth exceeded while calling a Python object",
     "output_type": "error",
     "traceback": [
      "\u001b[0;31m---------------------------------------------------------------------------\u001b[0m",
      "\u001b[0;31mRecursionError\u001b[0m                            Traceback (most recent call last)",
      "Cell \u001b[0;32mIn [12], line 5\u001b[0m\n\u001b[1;32m      3\u001b[0m q\u001b[38;5;241m=\u001b[39m\u001b[38;5;28mlen\u001b[39m(arr)\u001b[38;5;241m-\u001b[39m\u001b[38;5;241m1\u001b[39m\n\u001b[1;32m      4\u001b[0m k\u001b[38;5;241m=\u001b[39m\u001b[38;5;241m2\u001b[39m\n\u001b[0;32m----> 5\u001b[0m \u001b[43mselection_procedure\u001b[49m\u001b[43m(\u001b[49m\u001b[43marr\u001b[49m\u001b[43m,\u001b[49m\u001b[43mp\u001b[49m\u001b[43m,\u001b[49m\u001b[43mq\u001b[49m\u001b[43m,\u001b[49m\u001b[43mk\u001b[49m\u001b[43m)\u001b[49m\n",
      "Cell \u001b[0;32mIn [11], line 20\u001b[0m, in \u001b[0;36mselection_procedure\u001b[0;34m(arr, p, q, k)\u001b[0m\n\u001b[1;32m     18\u001b[0m     \u001b[38;5;28;01mreturn\u001b[39;00m selection_procedure(arr,m,q,k)\n\u001b[1;32m     19\u001b[0m \u001b[38;5;28;01melse\u001b[39;00m:\n\u001b[0;32m---> 20\u001b[0m     \u001b[38;5;28;01mreturn\u001b[39;00m \u001b[43mselection_procedure\u001b[49m\u001b[43m(\u001b[49m\u001b[43marr\u001b[49m\u001b[43m,\u001b[49m\u001b[43mp\u001b[49m\u001b[43m,\u001b[49m\u001b[43mm\u001b[49m\u001b[38;5;241;43m-\u001b[39;49m\u001b[38;5;241;43m2\u001b[39;49m\u001b[43m,\u001b[49m\u001b[43mk\u001b[49m\u001b[43m)\u001b[49m\n",
      "Cell \u001b[0;32mIn [11], line 18\u001b[0m, in \u001b[0;36mselection_procedure\u001b[0;34m(arr, p, q, k)\u001b[0m\n\u001b[1;32m     16\u001b[0m     \u001b[38;5;28;01mreturn\u001b[39;00m arr[m\u001b[38;5;241m-\u001b[39m\u001b[38;5;241m1\u001b[39m]\n\u001b[1;32m     17\u001b[0m \u001b[38;5;28;01melif\u001b[39;00m m \u001b[38;5;241m<\u001b[39m k:\n\u001b[0;32m---> 18\u001b[0m     \u001b[38;5;28;01mreturn\u001b[39;00m \u001b[43mselection_procedure\u001b[49m\u001b[43m(\u001b[49m\u001b[43marr\u001b[49m\u001b[43m,\u001b[49m\u001b[43mm\u001b[49m\u001b[43m,\u001b[49m\u001b[43mq\u001b[49m\u001b[43m,\u001b[49m\u001b[43mk\u001b[49m\u001b[43m)\u001b[49m\n\u001b[1;32m     19\u001b[0m \u001b[38;5;28;01melse\u001b[39;00m:\n\u001b[1;32m     20\u001b[0m     \u001b[38;5;28;01mreturn\u001b[39;00m selection_procedure(arr,p,m\u001b[38;5;241m-\u001b[39m\u001b[38;5;241m2\u001b[39m,k)\n",
      "Cell \u001b[0;32mIn [11], line 18\u001b[0m, in \u001b[0;36mselection_procedure\u001b[0;34m(arr, p, q, k)\u001b[0m\n\u001b[1;32m     16\u001b[0m     \u001b[38;5;28;01mreturn\u001b[39;00m arr[m\u001b[38;5;241m-\u001b[39m\u001b[38;5;241m1\u001b[39m]\n\u001b[1;32m     17\u001b[0m \u001b[38;5;28;01melif\u001b[39;00m m \u001b[38;5;241m<\u001b[39m k:\n\u001b[0;32m---> 18\u001b[0m     \u001b[38;5;28;01mreturn\u001b[39;00m \u001b[43mselection_procedure\u001b[49m\u001b[43m(\u001b[49m\u001b[43marr\u001b[49m\u001b[43m,\u001b[49m\u001b[43mm\u001b[49m\u001b[43m,\u001b[49m\u001b[43mq\u001b[49m\u001b[43m,\u001b[49m\u001b[43mk\u001b[49m\u001b[43m)\u001b[49m\n\u001b[1;32m     19\u001b[0m \u001b[38;5;28;01melse\u001b[39;00m:\n\u001b[1;32m     20\u001b[0m     \u001b[38;5;28;01mreturn\u001b[39;00m selection_procedure(arr,p,m\u001b[38;5;241m-\u001b[39m\u001b[38;5;241m2\u001b[39m,k)\n",
      "    \u001b[0;31m[... skipping similar frames: selection_procedure at line 18 (2967 times)]\u001b[0m\n",
      "Cell \u001b[0;32mIn [11], line 18\u001b[0m, in \u001b[0;36mselection_procedure\u001b[0;34m(arr, p, q, k)\u001b[0m\n\u001b[1;32m     16\u001b[0m     \u001b[38;5;28;01mreturn\u001b[39;00m arr[m\u001b[38;5;241m-\u001b[39m\u001b[38;5;241m1\u001b[39m]\n\u001b[1;32m     17\u001b[0m \u001b[38;5;28;01melif\u001b[39;00m m \u001b[38;5;241m<\u001b[39m k:\n\u001b[0;32m---> 18\u001b[0m     \u001b[38;5;28;01mreturn\u001b[39;00m \u001b[43mselection_procedure\u001b[49m\u001b[43m(\u001b[49m\u001b[43marr\u001b[49m\u001b[43m,\u001b[49m\u001b[43mm\u001b[49m\u001b[43m,\u001b[49m\u001b[43mq\u001b[49m\u001b[43m,\u001b[49m\u001b[43mk\u001b[49m\u001b[43m)\u001b[49m\n\u001b[1;32m     19\u001b[0m \u001b[38;5;28;01melse\u001b[39;00m:\n\u001b[1;32m     20\u001b[0m     \u001b[38;5;28;01mreturn\u001b[39;00m selection_procedure(arr,p,m\u001b[38;5;241m-\u001b[39m\u001b[38;5;241m2\u001b[39m,k)\n",
      "Cell \u001b[0;32mIn [11], line 14\u001b[0m, in \u001b[0;36mselection_procedure\u001b[0;34m(arr, p, q, k)\u001b[0m\n\u001b[1;32m     12\u001b[0m \u001b[38;5;28;01mdef\u001b[39;00m \u001b[38;5;21mselection_procedure\u001b[39m(arr,p,q,k):\n\u001b[1;32m     13\u001b[0m     \u001b[38;5;28;01mif\u001b[39;00m p \u001b[38;5;241m<\u001b[39m q:\n\u001b[0;32m---> 14\u001b[0m         m\u001b[38;5;241m=\u001b[39m\u001b[43mpartition\u001b[49m\u001b[43m(\u001b[49m\u001b[43marr\u001b[49m\u001b[43m,\u001b[49m\u001b[43mp\u001b[49m\u001b[43m,\u001b[49m\u001b[43mq\u001b[49m\u001b[43m)\u001b[49m\n\u001b[1;32m     15\u001b[0m         \u001b[38;5;28;01mif\u001b[39;00m m \u001b[38;5;241m==\u001b[39m k:\n\u001b[1;32m     16\u001b[0m             \u001b[38;5;28;01mreturn\u001b[39;00m arr[m\u001b[38;5;241m-\u001b[39m\u001b[38;5;241m1\u001b[39m]\n",
      "Cell \u001b[0;32mIn [11], line 6\u001b[0m, in \u001b[0;36mpartition\u001b[0;34m(arr, p, q)\u001b[0m\n\u001b[1;32m      3\u001b[0m i\u001b[38;5;241m=\u001b[39mp\n\u001b[1;32m      4\u001b[0m pivot\u001b[38;5;241m=\u001b[39marr[p]\n\u001b[0;32m----> 6\u001b[0m \u001b[38;5;28;01mfor\u001b[39;00m j \u001b[38;5;129;01min\u001b[39;00m \u001b[38;5;28mrange\u001b[39m(i\u001b[38;5;241m+\u001b[39m\u001b[38;5;241m1\u001b[39m,\u001b[38;5;28;43mlen\u001b[39;49m\u001b[43m(\u001b[49m\u001b[43marr\u001b[49m\u001b[43m)\u001b[49m):\n\u001b[1;32m      7\u001b[0m     \u001b[38;5;28;01mif\u001b[39;00m arr[j] \u001b[38;5;241m<\u001b[39m pivot:\n\u001b[1;32m      8\u001b[0m         i\u001b[38;5;241m+\u001b[39m\u001b[38;5;241m=\u001b[39m\u001b[38;5;241m1\u001b[39m\n",
      "\u001b[0;31mRecursionError\u001b[0m: maximum recursion depth exceeded while calling a Python object"
     ]
    }
   ],
   "source": [
    "arr=[70,50,27,99,85,47,123,34,147]\n",
    "p=0\n",
    "q=len(arr)-1\n",
    "k=2\n",
    "selection_procedure(arr,p,q,k)"
   ]
  },
  {
   "cell_type": "code",
   "execution_count": null,
   "id": "47272b51-8fde-422e-bf41-cc0c3b7b8930",
   "metadata": {},
   "outputs": [],
   "source": []
  }
 ],
 "metadata": {
  "kernelspec": {
   "display_name": "Python 3 (ipykernel)",
   "language": "python",
   "name": "python3"
  },
  "language_info": {
   "codemirror_mode": {
    "name": "ipython",
    "version": 3
   },
   "file_extension": ".py",
   "mimetype": "text/x-python",
   "name": "python",
   "nbconvert_exporter": "python",
   "pygments_lexer": "ipython3",
   "version": "3.10.6"
  }
 },
 "nbformat": 4,
 "nbformat_minor": 5
}
