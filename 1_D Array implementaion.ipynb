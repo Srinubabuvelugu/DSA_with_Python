{
 "cells": [
  {
   "cell_type": "code",
   "execution_count": 1,
   "id": "3d41fffc-1ba6-4029-ac9d-c532b015597b",
   "metadata": {},
   "outputs": [
    {
     "data": {
      "text/plain": [
       "45"
      ]
     },
     "execution_count": 1,
     "metadata": {},
     "output_type": "execute_result"
    }
   ],
   "source": [
    "# Random access\n",
    "l=[1, 2, 3, 5, 8, 45, 79, 488, 99]\n",
    "l[5]"
   ]
  },
  {
   "cell_type": "code",
   "execution_count": 2,
   "id": "250f7642-1ee9-4be5-a6ae-3cf266691184",
   "metadata": {},
   "outputs": [
    {
     "data": {
      "text/plain": [
       "9"
      ]
     },
     "execution_count": 2,
     "metadata": {},
     "output_type": "execute_result"
    }
   ],
   "source": [
    "len(l)"
   ]
  },
  {
   "cell_type": "code",
   "execution_count": 6,
   "id": "e6c4ae47-b2a3-4cfb-936b-3b67bc6885e8",
   "metadata": {},
   "outputs": [
    {
     "name": "stdout",
     "output_type": "stream",
     "text": [
      "100 is present in list of the index: -1\n"
     ]
    }
   ],
   "source": [
    "# linear Search\n",
    "# time complexity is O(n)\n",
    "l=[1, 2, 3, 5, 8, 45, 79, 488, 99]\n",
    "\n",
    "def linear_search(l,x):\n",
    "    for i in range(len(l)):\n",
    "        if l[i]==x:\n",
    "            return i\n",
    "    else:\n",
    "        return -1\n",
    "x=100\n",
    "print(f'{x} is present in list of the index:', linear_search(l,x))"
   ]
  },
  {
   "cell_type": "code",
   "execution_count": 8,
   "id": "699c6ed5-df33-450c-9833-2a3756e35cca",
   "metadata": {},
   "outputs": [
    {
     "data": {
      "text/plain": [
       "[1, 2, 100, 3, 5, 8, 45, 79, 488, 99]"
      ]
     },
     "execution_count": 8,
     "metadata": {},
     "output_type": "execute_result"
    }
   ],
   "source": [
    "#insertion of an element  100 at index 2 into list\n",
    "# Time Complexity is O(n)\n",
    "l=[1, 2, 3, 5, 8, 45, 79, 488, 99]\n",
    "l.insert(2,100)\n",
    "l"
   ]
  },
  {
   "cell_type": "code",
   "execution_count": 9,
   "id": "281ce214-a3b5-43f5-9d6b-8a794947b872",
   "metadata": {},
   "outputs": [
    {
     "data": {
      "text/plain": [
       "[1, 2, 3, 5, 8, 45, 79, 99, 100, 488]"
      ]
     },
     "execution_count": 9,
     "metadata": {},
     "output_type": "execute_result"
    }
   ],
   "source": [
    "# Sorting the list \n",
    "l.sort()\n",
    "l"
   ]
  },
  {
   "cell_type": "code",
   "execution_count": 11,
   "id": "152da0d2-77c4-4c24-990a-0b54ca43ad08",
   "metadata": {},
   "outputs": [
    {
     "data": {
      "text/plain": [
       "[1, 2, 3, 5, 8, 45, 79, 99, 100, 488, 10, 20, 30]"
      ]
     },
     "execution_count": 11,
     "metadata": {},
     "output_type": "execute_result"
    }
   ],
   "source": [
    "# To extand the original list by\n",
    "l.extend([10, 20, 30])\n",
    "l"
   ]
  },
  {
   "cell_type": "code",
   "execution_count": 12,
   "id": "f35fb2c3-ab72-4a1b-bff5-c85049347e93",
   "metadata": {},
   "outputs": [],
   "source": [
    "l.reverse()"
   ]
  },
  {
   "cell_type": "code",
   "execution_count": 13,
   "id": "b54704aa-5536-4dc6-9376-63af139565ee",
   "metadata": {},
   "outputs": [
    {
     "data": {
      "text/plain": [
       "[30, 20, 10, 488, 100, 99, 79, 45, 8, 5, 3, 2, 1]"
      ]
     },
     "execution_count": 13,
     "metadata": {},
     "output_type": "execute_result"
    }
   ],
   "source": [
    "l\n"
   ]
  },
  {
   "cell_type": "code",
   "execution_count": null,
   "id": "4d645857-c747-463f-b15f-de7f464f52a5",
   "metadata": {},
   "outputs": [],
   "source": []
  }
 ],
 "metadata": {
  "kernelspec": {
   "display_name": "Python 3 (ipykernel)",
   "language": "python",
   "name": "python3"
  },
  "language_info": {
   "codemirror_mode": {
    "name": "ipython",
    "version": 3
   },
   "file_extension": ".py",
   "mimetype": "text/x-python",
   "name": "python",
   "nbconvert_exporter": "python",
   "pygments_lexer": "ipython3",
   "version": "3.10.6"
  }
 },
 "nbformat": 4,
 "nbformat_minor": 5
}
