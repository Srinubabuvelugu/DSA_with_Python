{
 "cells": [
  {
   "cell_type": "markdown",
   "id": "2112cfaa-c24d-465e-b404-2ee90851f9b4",
   "metadata": {},
   "source": [
    "## Inserion Sort"
   ]
  },
  {
   "cell_type": "code",
   "execution_count": 36,
   "id": "9ea2dd58-00a4-453e-a410-3f922b53dc01",
   "metadata": {},
   "outputs": [],
   "source": [
    "def insertion_sort(lst):\n",
    "    for i in range(1,len(lst)):\n",
    "        key=lst[i]\n",
    "        j=i-1\n",
    "        while j >= 0 and lst[j] > key:\n",
    "            lst[j+1]=lst[j]\n",
    "            j=j-1\n",
    "        lst[j+1]=key\n",
    "    return lst\n"
   ]
  },
  {
   "cell_type": "code",
   "execution_count": 37,
   "id": "6541eba1-b329-419e-8cb8-0a6bb322f7c9",
   "metadata": {},
   "outputs": [
    {
     "data": {
      "text/plain": [
       "[50, 50, 50, 50, 50, 90, 100]"
      ]
     },
     "execution_count": 37,
     "metadata": {},
     "output_type": "execute_result"
    }
   ],
   "source": [
    "l=[50,40,30,20,10,90,100]\n",
    "insertion_sort(l)"
   ]
  },
  {
   "cell_type": "code",
   "execution_count": 45,
   "id": "04af9509-6332-4d36-b880-852c3bcea857",
   "metadata": {},
   "outputs": [
    {
     "name": "stdout",
     "output_type": "stream",
     "text": [
      "[40, 50, 30, 20, 10, 90, 100]\n",
      "[30, 40, 50, 20, 10, 90, 100]\n",
      "[20, 30, 40, 50, 10, 90, 100]\n",
      "[10, 20, 30, 40, 50, 90, 100]\n",
      "[10, 20, 30, 40, 50, 90, 100]\n",
      "[10, 20, 30, 40, 50, 90, 100]\n"
     ]
    },
    {
     "data": {
      "text/plain": [
       "[10, 20, 30, 40, 50, 90, 100]"
      ]
     },
     "execution_count": 45,
     "metadata": {},
     "output_type": "execute_result"
    }
   ],
   "source": [
    "lst=[50,40,30,20,10,90,100]\n",
    "def insertion_sort(lst):\n",
    "    for i in range(1,len(lst)):\n",
    "        key=lst[i]\n",
    "        j=i-1\n",
    "        while j >= 0 and lst[j] > key:\n",
    "            lst[j+1]=lst[j]\n",
    "            j=j-1\n",
    "        lst[j+1]=key\n",
    "        print(lst)\n",
    "    return lst\n",
    "insertion_sort(lst)\n"
   ]
  },
  {
   "cell_type": "code",
   "execution_count": null,
   "id": "c734f2c0-bb54-473d-a39f-6929f0dc66a7",
   "metadata": {},
   "outputs": [],
   "source": []
  }
 ],
 "metadata": {
  "kernelspec": {
   "display_name": "Python 3 (ipykernel)",
   "language": "python",
   "name": "python3"
  },
  "language_info": {
   "codemirror_mode": {
    "name": "ipython",
    "version": 3
   },
   "file_extension": ".py",
   "mimetype": "text/x-python",
   "name": "python",
   "nbconvert_exporter": "python",
   "pygments_lexer": "ipython3",
   "version": "3.10.6"
  }
 },
 "nbformat": 4,
 "nbformat_minor": 5
}
