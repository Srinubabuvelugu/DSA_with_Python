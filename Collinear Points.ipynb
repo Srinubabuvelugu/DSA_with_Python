{
 "cells": [
  {
   "cell_type": "code",
   "execution_count": 1,
   "id": "976be2cf-995b-465e-91f6-0340ad8ec03c",
   "metadata": {},
   "outputs": [],
   "source": [
    "def collinear_points(x1, x2, x3, y1, y2, y3):\n",
    "    if ((y2-y1) * (x3 - x2)) == ((y3 - y2) * (x2 -x1)):\n",
    "        return 'points are colinear'\n",
    "    else:\n",
    "        return ' Points are not collinear'\n"
   ]
  },
  {
   "cell_type": "code",
   "execution_count": 2,
   "id": "fde33745-8ba2-47b4-bcee-e2b51d6858ef",
   "metadata": {},
   "outputs": [
    {
     "data": {
      "text/plain": [
       "'points are colinear'"
      ]
     },
     "execution_count": 2,
     "metadata": {},
     "output_type": "execute_result"
    }
   ],
   "source": [
    "collinear_points(1,1,1,6,0,9)"
   ]
  },
  {
   "cell_type": "code",
   "execution_count": 4,
   "id": "d9dba639-92e9-4dee-808a-7b01a5d6153b",
   "metadata": {},
   "outputs": [
    {
     "data": {
      "text/plain": [
       "' Points are not collinear'"
      ]
     },
     "execution_count": 4,
     "metadata": {},
     "output_type": "execute_result"
    }
   ],
   "source": [
    "collinear_points(1,1,2,6,5,9)"
   ]
  },
  {
   "cell_type": "code",
   "execution_count": null,
   "id": "a87f474d-d3b1-4d83-81b7-e67d88fad906",
   "metadata": {},
   "outputs": [],
   "source": []
  }
 ],
 "metadata": {
  "kernelspec": {
   "display_name": "Python 3 (ipykernel)",
   "language": "python",
   "name": "python3"
  },
  "language_info": {
   "codemirror_mode": {
    "name": "ipython",
    "version": 3
   },
   "file_extension": ".py",
   "mimetype": "text/x-python",
   "name": "python",
   "nbconvert_exporter": "python",
   "pygments_lexer": "ipython3",
   "version": "3.10.6"
  }
 },
 "nbformat": 4,
 "nbformat_minor": 5
}
