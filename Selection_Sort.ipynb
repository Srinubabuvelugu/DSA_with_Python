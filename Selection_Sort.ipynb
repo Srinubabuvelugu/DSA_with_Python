{
 "cells": [
  {
   "cell_type": "markdown",
   "id": "61856a29-e436-4ccf-a504-dd9724e9c2a0",
   "metadata": {},
   "source": [
    "## Selection Sort\n",
    "- No swaps required O(N)\n",
    "- No of comparisions required is O(N^2)\n",
    "- Time complexity is O(N^2)"
   ]
  },
  {
   "cell_type": "code",
   "execution_count": 41,
   "id": "5fff3e2c-ddaa-4b50-9b28-e56bfe65ae3b",
   "metadata": {},
   "outputs": [],
   "source": [
    "def selection_sort(lst):\n",
    "    for i in range(len(lst)):\n",
    "        min_index=i\n",
    "        for j in range(i+1,len(lst)):\n",
    "            if lst[min_index] > lst[j]:\n",
    "                min_index=j\n",
    "        lst[i],lst[min_index]=lst[min_index],lst[i]\n",
    "    return lst\n"
   ]
  },
  {
   "cell_type": "code",
   "execution_count": 42,
   "id": "f1f83e1d-4d7f-44f8-99e7-e80e46e6d622",
   "metadata": {},
   "outputs": [
    {
     "data": {
      "text/plain": [
       "[15, 25, 42, 50, 64, 68, 70]"
      ]
     },
     "execution_count": 42,
     "metadata": {},
     "output_type": "execute_result"
    }
   ],
   "source": [
    "l=[70, 50, 42, 64, 15, 68, 25]\n",
    "selection_sort(l)"
   ]
  },
  {
   "cell_type": "code",
   "execution_count": 44,
   "id": "b6448fab-fab7-400c-8ee3-16ebf167f612",
   "metadata": {},
   "outputs": [
    {
     "data": {
      "text/plain": [
       "[15, 15, 25, 42, 50, 64, 68, 70, 70]"
      ]
     },
     "execution_count": 44,
     "metadata": {},
     "output_type": "execute_result"
    }
   ],
   "source": [
    "l=[70, 50, 42, 64, 15, 15,70, 68, 25]\n",
    "selection_sort(l)"
   ]
  },
  {
   "cell_type": "code",
   "execution_count": 40,
   "id": "20e988c9-be7d-4c6e-9c42-82af984683a8",
   "metadata": {},
   "outputs": [
    {
     "name": "stdout",
     "output_type": "stream",
     "text": [
      "[15, 50, 42, 64, 70, 68, 25]\n",
      "[15, 25, 42, 64, 70, 68, 50]\n",
      "[15, 25, 42, 64, 70, 68, 50]\n",
      "[15, 25, 42, 50, 70, 68, 64]\n",
      "[15, 25, 42, 50, 64, 68, 70]\n",
      "[15, 25, 42, 50, 64, 68, 70]\n",
      "[15, 25, 42, 50, 64, 68, 70]\n"
     ]
    }
   ],
   "source": [
    "lst=[70, 50, 42, 64, 15, 68, 25]\n",
    "for i in range(len(lst)):\n",
    "    min_index=i\n",
    "    for j in range(i+1,len(lst)):\n",
    "        if lst[min_index] > lst[j]:\n",
    "            min_index=j\n",
    "    lst[i],lst[min_index]=lst[min_index],lst[i]\n",
    "    print(lst)"
   ]
  },
  {
   "cell_type": "markdown",
   "id": "f8356abf-93a2-4497-be1f-dbb23c30b89c",
   "metadata": {},
   "source": [
    "## Selection sort in reverse order"
   ]
  },
  {
   "cell_type": "code",
   "execution_count": 38,
   "id": "6e91f158-d56c-4d60-8322-cd2158c502d4",
   "metadata": {},
   "outputs": [
    {
     "name": "stdout",
     "output_type": "stream",
     "text": [
      "[70, 68, 64, 50, 42, 25, 15]\n"
     ]
    }
   ],
   "source": [
    "lst=[70, 50, 42, 64, 15, 68, 25]\n",
    "for i in range(len(lst)):\n",
    "    min_index=i\n",
    "    for j in range(i,len(lst)):\n",
    "        if lst[min_index] < lst[j]:\n",
    "            min_index=j\n",
    "    lst[i],lst[min_index]=lst[min_index],lst[i]\n",
    "print(lst)"
   ]
  },
  {
   "cell_type": "code",
   "execution_count": 39,
   "id": "c697ade2-e93c-4515-8b4e-dc2e6184e84f",
   "metadata": {},
   "outputs": [
    {
     "name": "stdout",
     "output_type": "stream",
     "text": [
      "[70, 50, 42, 64, 15, 68, 25]\n",
      "[70, 68, 42, 64, 15, 50, 25]\n",
      "[70, 68, 64, 42, 15, 50, 25]\n",
      "[70, 68, 64, 50, 15, 42, 25]\n",
      "[70, 68, 64, 50, 42, 15, 25]\n",
      "[70, 68, 64, 50, 42, 25, 15]\n",
      "[70, 68, 64, 50, 42, 25, 15]\n"
     ]
    }
   ],
   "source": [
    "lst=[70, 50, 42, 64, 15, 68, 25]\n",
    "for i in range(len(lst)):\n",
    "    min_index=i\n",
    "    for j in range(i,len(lst)):\n",
    "        if lst[min_index] < lst[j]:\n",
    "            min_index=j\n",
    "    lst[i],lst[min_index]=lst[min_index],lst[i]\n",
    "    print(lst)"
   ]
  },
  {
   "cell_type": "code",
   "execution_count": null,
   "id": "30fec473-2419-4f84-8aaf-a33dd649dfaf",
   "metadata": {},
   "outputs": [],
   "source": []
  }
 ],
 "metadata": {
  "kernelspec": {
   "display_name": "Python 3 (ipykernel)",
   "language": "python",
   "name": "python3"
  },
  "language_info": {
   "codemirror_mode": {
    "name": "ipython",
    "version": 3
   },
   "file_extension": ".py",
   "mimetype": "text/x-python",
   "name": "python",
   "nbconvert_exporter": "python",
   "pygments_lexer": "ipython3",
   "version": "3.10.6"
  }
 },
 "nbformat": 4,
 "nbformat_minor": 5
}
