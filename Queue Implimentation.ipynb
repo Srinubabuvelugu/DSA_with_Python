{
 "cells": [
  {
   "cell_type": "markdown",
   "id": "125da85d-4805-4f82-89e8-990dfbccd87b",
   "metadata": {},
   "source": [
    "### Queue implimentation\n",
    "- Enqueue and dequeue operations  using array"
   ]
  },
  {
   "cell_type": "code",
   "execution_count": 1,
   "id": "c85f34fb-e847-4fb2-993b-e850ca7dbe05",
   "metadata": {},
   "outputs": [],
   "source": [
    "queue=[]\n",
    "queue.insert(0,100)\n",
    "queue.insert(0,90)\n",
    "queue.insert(0,80)"
   ]
  },
  {
   "cell_type": "code",
   "execution_count": 2,
   "id": "e36b51b5-2e77-48b1-9ace-278ce881f161",
   "metadata": {},
   "outputs": [
    {
     "data": {
      "text/plain": [
       "[80, 90, 100]"
      ]
     },
     "execution_count": 2,
     "metadata": {},
     "output_type": "execute_result"
    }
   ],
   "source": [
    "queue"
   ]
  },
  {
   "cell_type": "code",
   "execution_count": 3,
   "id": "2789675e-2b77-46a1-820f-f6b11c78271f",
   "metadata": {},
   "outputs": [
    {
     "data": {
      "text/plain": [
       "100"
      ]
     },
     "execution_count": 3,
     "metadata": {},
     "output_type": "execute_result"
    }
   ],
   "source": [
    "queue.pop()"
   ]
  },
  {
   "cell_type": "code",
   "execution_count": 4,
   "id": "06053513-fbb7-42fa-87f9-0a908397cf85",
   "metadata": {},
   "outputs": [
    {
     "data": {
      "text/plain": [
       "90"
      ]
     },
     "execution_count": 4,
     "metadata": {},
     "output_type": "execute_result"
    }
   ],
   "source": [
    "queue.pop()"
   ]
  },
  {
   "cell_type": "code",
   "execution_count": 5,
   "id": "fe10ea25-7d1a-44fd-a953-cef19a3b569f",
   "metadata": {},
   "outputs": [
    {
     "data": {
      "text/plain": [
       "80"
      ]
     },
     "execution_count": 5,
     "metadata": {},
     "output_type": "execute_result"
    }
   ],
   "source": [
    "queue.pop()"
   ]
  },
  {
   "cell_type": "code",
   "execution_count": 6,
   "id": "c91fc992-25a1-4e0e-9cb6-b60b31707141",
   "metadata": {},
   "outputs": [
    {
     "ename": "IndexError",
     "evalue": "pop from empty list",
     "output_type": "error",
     "traceback": [
      "\u001b[0;31m---------------------------------------------------------------------------\u001b[0m",
      "\u001b[0;31mIndexError\u001b[0m                                Traceback (most recent call last)",
      "Cell \u001b[0;32mIn [6], line 1\u001b[0m\n\u001b[0;32m----> 1\u001b[0m \u001b[43mqueue\u001b[49m\u001b[38;5;241;43m.\u001b[39;49m\u001b[43mpop\u001b[49m\u001b[43m(\u001b[49m\u001b[43m)\u001b[49m\n",
      "\u001b[0;31mIndexError\u001b[0m: pop from empty list"
     ]
    }
   ],
   "source": [
    "queue.pop()"
   ]
  },
  {
   "cell_type": "markdown",
   "id": "50332369-95da-4c58-9bf6-a3f0a8f3dbc1",
   "metadata": {},
   "source": [
    "### Enqueue operation in queue data structure by using the linked list"
   ]
  },
  {
   "cell_type": "code",
   "execution_count": 12,
   "id": "53f391c6-2c9a-49f0-9dc0-4afe44ca7707",
   "metadata": {},
   "outputs": [],
   "source": [
    "from collections import deque\n",
    "q=deque()"
   ]
  },
  {
   "cell_type": "code",
   "execution_count": 13,
   "id": "df0f0629-0c9c-4b54-86a4-04264da64246",
   "metadata": {},
   "outputs": [
    {
     "data": {
      "text/plain": [
       "['__add__',\n",
       " '__bool__',\n",
       " '__class__',\n",
       " '__class_getitem__',\n",
       " '__contains__',\n",
       " '__copy__',\n",
       " '__delattr__',\n",
       " '__delitem__',\n",
       " '__dir__',\n",
       " '__doc__',\n",
       " '__eq__',\n",
       " '__format__',\n",
       " '__ge__',\n",
       " '__getattribute__',\n",
       " '__getitem__',\n",
       " '__gt__',\n",
       " '__hash__',\n",
       " '__iadd__',\n",
       " '__imul__',\n",
       " '__init__',\n",
       " '__init_subclass__',\n",
       " '__iter__',\n",
       " '__le__',\n",
       " '__len__',\n",
       " '__lt__',\n",
       " '__mul__',\n",
       " '__ne__',\n",
       " '__new__',\n",
       " '__reduce__',\n",
       " '__reduce_ex__',\n",
       " '__repr__',\n",
       " '__reversed__',\n",
       " '__rmul__',\n",
       " '__setattr__',\n",
       " '__setitem__',\n",
       " '__sizeof__',\n",
       " '__str__',\n",
       " '__subclasshook__',\n",
       " 'append',\n",
       " 'appendleft',\n",
       " 'clear',\n",
       " 'copy',\n",
       " 'count',\n",
       " 'extend',\n",
       " 'extendleft',\n",
       " 'index',\n",
       " 'insert',\n",
       " 'maxlen',\n",
       " 'pop',\n",
       " 'popleft',\n",
       " 'remove',\n",
       " 'reverse',\n",
       " 'rotate']"
      ]
     },
     "execution_count": 13,
     "metadata": {},
     "output_type": "execute_result"
    }
   ],
   "source": [
    "dir(q)"
   ]
  },
  {
   "cell_type": "code",
   "execution_count": 14,
   "id": "fc026e42-02ca-48aa-804c-317f8e85a169",
   "metadata": {},
   "outputs": [
    {
     "data": {
      "text/plain": [
       "deque([514, 88, 22, 100, 50])"
      ]
     },
     "execution_count": 14,
     "metadata": {},
     "output_type": "execute_result"
    }
   ],
   "source": [
    "q.appendleft(50)\n",
    "q.appendleft(100)\n",
    "q.appendleft(22)\n",
    "q.appendleft(88)\n",
    "q.appendleft(514)\n",
    "q"
   ]
  },
  {
   "cell_type": "code",
   "execution_count": 15,
   "id": "d20deadf-9905-4e2a-bc5d-9b810773ebb9",
   "metadata": {},
   "outputs": [
    {
     "data": {
      "text/plain": [
       "50"
      ]
     },
     "execution_count": 15,
     "metadata": {},
     "output_type": "execute_result"
    }
   ],
   "source": [
    "q.pop()"
   ]
  },
  {
   "cell_type": "code",
   "execution_count": 16,
   "id": "5007a022-ad8a-434b-88bf-eedf4ee4329a",
   "metadata": {},
   "outputs": [
    {
     "data": {
      "text/plain": [
       "deque([514, 88, 22, 100])"
      ]
     },
     "execution_count": 16,
     "metadata": {},
     "output_type": "execute_result"
    }
   ],
   "source": [
    "q\n"
   ]
  },
  {
   "cell_type": "code",
   "execution_count": 19,
   "id": "4c1150e3-b6f2-441a-98c8-98a42df426dd",
   "metadata": {},
   "outputs": [],
   "source": [
    "q.reverse()"
   ]
  },
  {
   "cell_type": "code",
   "execution_count": 20,
   "id": "3e9c64e4-fbf0-4921-9194-733ae83d0eb0",
   "metadata": {},
   "outputs": [
    {
     "data": {
      "text/plain": [
       "514"
      ]
     },
     "execution_count": 20,
     "metadata": {},
     "output_type": "execute_result"
    }
   ],
   "source": [
    "q.popleft()"
   ]
  },
  {
   "cell_type": "code",
   "execution_count": 22,
   "id": "cfdec633-8bae-4cbd-a8e9-a73ae9fb0b6f",
   "metadata": {},
   "outputs": [],
   "source": [
    "q.remove(88)"
   ]
  },
  {
   "cell_type": "code",
   "execution_count": 23,
   "id": "b3368651-17a2-49d1-b2ba-5318562960d1",
   "metadata": {},
   "outputs": [
    {
     "data": {
      "text/plain": [
       "deque([22, 100])"
      ]
     },
     "execution_count": 23,
     "metadata": {},
     "output_type": "execute_result"
    }
   ],
   "source": [
    "q"
   ]
  },
  {
   "cell_type": "code",
   "execution_count": 24,
   "id": "0f33bcb2-5bba-481a-a2b3-1840a3737204",
   "metadata": {},
   "outputs": [],
   "source": [
    "q.rotate()"
   ]
  },
  {
   "cell_type": "code",
   "execution_count": 25,
   "id": "6b2818c0-264a-46ea-b1be-cefe42cf8f80",
   "metadata": {},
   "outputs": [
    {
     "data": {
      "text/plain": [
       "deque([100, 22])"
      ]
     },
     "execution_count": 25,
     "metadata": {},
     "output_type": "execute_result"
    }
   ],
   "source": [
    "q"
   ]
  },
  {
   "cell_type": "code",
   "execution_count": 26,
   "id": "9a077b58-d061-474f-baa8-35aa03830638",
   "metadata": {},
   "outputs": [],
   "source": [
    "q.reverse()"
   ]
  },
  {
   "cell_type": "code",
   "execution_count": 27,
   "id": "e4282036-96fd-4b04-8656-dab8dcef6795",
   "metadata": {},
   "outputs": [
    {
     "data": {
      "text/plain": [
       "deque([22, 100])"
      ]
     },
     "execution_count": 27,
     "metadata": {},
     "output_type": "execute_result"
    }
   ],
   "source": [
    "q"
   ]
  },
  {
   "cell_type": "code",
   "execution_count": 29,
   "id": "19108558-a6b7-4c2e-ae10-670edc21d3b7",
   "metadata": {},
   "outputs": [],
   "source": [
    "class queue:\n",
    "    def __init__(self):\n",
    "        self.data=deque()\n",
    "    def enqueue(self,data):\n",
    "        self.data.appendleft(data)\n",
    "        \n",
    "    def size(self):\n",
    "        return len(self.data)\n",
    "    \n",
    "    def dequeue(self):\n",
    "        return self.data.pop()\n",
    "        "
   ]
  },
  {
   "cell_type": "code",
   "execution_count": 30,
   "id": "d11bc479-3d32-40c8-abd0-40ad6800213d",
   "metadata": {},
   "outputs": [],
   "source": [
    "q=queue()"
   ]
  },
  {
   "cell_type": "code",
   "execution_count": 32,
   "id": "fe8647cb-6cb3-4589-9a86-e688c796f762",
   "metadata": {},
   "outputs": [],
   "source": [
    "q.enqueue(50)\n",
    "q.enqueue(40)\n",
    "q.enqueue (30)\n",
    "q.enqueue(20)\n",
    "q.enqueue(100)"
   ]
  },
  {
   "cell_type": "code",
   "execution_count": 33,
   "id": "9de221ad-a31f-4204-a296-8032f7443af3",
   "metadata": {},
   "outputs": [
    {
     "data": {
      "text/plain": [
       "5"
      ]
     },
     "execution_count": 33,
     "metadata": {},
     "output_type": "execute_result"
    }
   ],
   "source": [
    "q.size()"
   ]
  },
  {
   "cell_type": "code",
   "execution_count": 34,
   "id": "f1779287-7407-4a17-9ec5-d75a25af4bbc",
   "metadata": {},
   "outputs": [
    {
     "data": {
      "text/plain": [
       "deque([100, 20, 30, 40, 50])"
      ]
     },
     "execution_count": 34,
     "metadata": {},
     "output_type": "execute_result"
    }
   ],
   "source": [
    "q.data"
   ]
  },
  {
   "cell_type": "code",
   "execution_count": 35,
   "id": "d0394d01-ce96-405b-8b41-a6ae2dc9b3dd",
   "metadata": {},
   "outputs": [
    {
     "data": {
      "text/plain": [
       "50"
      ]
     },
     "execution_count": 35,
     "metadata": {},
     "output_type": "execute_result"
    }
   ],
   "source": [
    "q.dequeue()"
   ]
  },
  {
   "cell_type": "code",
   "execution_count": null,
   "id": "0c96913a-4f1a-477d-bcb8-671e5af71757",
   "metadata": {},
   "outputs": [],
   "source": []
  }
 ],
 "metadata": {
  "kernelspec": {
   "display_name": "Python 3 (ipykernel)",
   "language": "python",
   "name": "python3"
  },
  "language_info": {
   "codemirror_mode": {
    "name": "ipython",
    "version": 3
   },
   "file_extension": ".py",
   "mimetype": "text/x-python",
   "name": "python",
   "nbconvert_exporter": "python",
   "pygments_lexer": "ipython3",
   "version": "3.10.6"
  }
 },
 "nbformat": 4,
 "nbformat_minor": 5
}
