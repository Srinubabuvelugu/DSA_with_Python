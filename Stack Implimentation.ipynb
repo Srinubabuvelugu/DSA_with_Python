{
 "cells": [
  {
   "cell_type": "markdown",
   "id": "77606fe1-ba50-4cd2-bf61-0b5adda0e707",
   "metadata": {},
   "source": [
    "### Implimentation of Stack by using the arrays\n",
    "- push  and pop oreations"
   ]
  },
  {
   "cell_type": "code",
   "execution_count": null,
   "id": "c44d2ffd-e33e-44e7-880b-03d99d82aebb",
   "metadata": {},
   "outputs": [],
   "source": []
  },
  {
   "cell_type": "code",
   "execution_count": 20,
   "id": "f1e11310-3edb-4454-9950-c50087b9c65b",
   "metadata": {},
   "outputs": [],
   "source": [
    "stack=[]\n",
    "stack.append(50)\n",
    "stack.append(40)\n",
    "stack.append(30)\n",
    "stack.append(20)\n",
    "stack.append(9)"
   ]
  },
  {
   "cell_type": "code",
   "execution_count": 21,
   "id": "7c2229bc-6448-403e-9d97-78901a64ccfd",
   "metadata": {},
   "outputs": [
    {
     "data": {
      "text/plain": [
       "[50, 40, 30, 20, 9]"
      ]
     },
     "execution_count": 21,
     "metadata": {},
     "output_type": "execute_result"
    }
   ],
   "source": [
    "stack"
   ]
  },
  {
   "cell_type": "code",
   "execution_count": 22,
   "id": "c7ba44ec-f50d-4b37-86b9-0824ff45ade1",
   "metadata": {},
   "outputs": [
    {
     "data": {
      "text/plain": [
       "9"
      ]
     },
     "execution_count": 22,
     "metadata": {},
     "output_type": "execute_result"
    }
   ],
   "source": [
    "stack.pop()"
   ]
  },
  {
   "cell_type": "code",
   "execution_count": 23,
   "id": "3244bf48-3fed-4488-a0cc-19e9b27b3da4",
   "metadata": {},
   "outputs": [
    {
     "data": {
      "text/plain": [
       "[50, 40, 30, 20]"
      ]
     },
     "execution_count": 23,
     "metadata": {},
     "output_type": "execute_result"
    }
   ],
   "source": [
    "stack"
   ]
  },
  {
   "cell_type": "code",
   "execution_count": null,
   "id": "3c36cca3-6c93-40a8-a0e0-bfaa3de5d0e6",
   "metadata": {},
   "outputs": [],
   "source": []
  },
  {
   "cell_type": "code",
   "execution_count": 24,
   "id": "39e0160b-d6bf-466b-93d9-813adfdac3b6",
   "metadata": {},
   "outputs": [
    {
     "data": {
      "text/plain": [
       "30"
      ]
     },
     "execution_count": 24,
     "metadata": {},
     "output_type": "execute_result"
    }
   ],
   "source": [
    "stack.pop(2)"
   ]
  },
  {
   "cell_type": "code",
   "execution_count": 25,
   "id": "3adb1d97-1f18-4a3e-a04c-d863ec2cdc46",
   "metadata": {},
   "outputs": [
    {
     "data": {
      "text/plain": [
       "[50, 40, 20]"
      ]
     },
     "execution_count": 25,
     "metadata": {},
     "output_type": "execute_result"
    }
   ],
   "source": [
    "stack"
   ]
  },
  {
   "cell_type": "markdown",
   "id": "99d61792-3fba-4519-a142-1da6879aa9fa",
   "metadata": {},
   "source": [
    "### Stack Implimentation by using Linked List\n",
    "- Push(append) and pop operations"
   ]
  },
  {
   "cell_type": "code",
   "execution_count": 40,
   "id": "3a916f93-6b60-4fca-b588-81e9af927750",
   "metadata": {},
   "outputs": [],
   "source": [
    "\n",
    "from collections import deque\n",
    "class Stack:\n",
    "    def __init__(self):\n",
    "        self.data=deque()\n",
    "    def push(self,data):\n",
    "        self.data.append(data)\n",
    "        \n",
    "    def pop(self):\n",
    "        return self.data.pop()\n",
    "        \n",
    "    def peek(self):\n",
    "        return self.data[-1]\n",
    "    \n",
    "    def size(self):\n",
    "        return len(self.data)\n",
    "    \n",
    "    def isEmpty(self):\n",
    "        return len(self.data) == 0"
   ]
  },
  {
   "cell_type": "code",
   "execution_count": 41,
   "id": "d79b4518-bac1-4b74-b039-fa9211abe163",
   "metadata": {},
   "outputs": [],
   "source": [
    "s=Stack()"
   ]
  },
  {
   "cell_type": "code",
   "execution_count": 42,
   "id": "af5bf30d-41d0-4ef2-93ce-f453883938d2",
   "metadata": {},
   "outputs": [],
   "source": [
    "s.push(50)\n",
    "s.push(40)\n",
    "s.push(30)\n",
    "s.push(20)\n",
    "s.push(10)"
   ]
  },
  {
   "cell_type": "code",
   "execution_count": 43,
   "id": "0b3961d8-01a0-4dc2-8205-0d9f24bce8e1",
   "metadata": {},
   "outputs": [
    {
     "data": {
      "text/plain": [
       "10"
      ]
     },
     "execution_count": 43,
     "metadata": {},
     "output_type": "execute_result"
    }
   ],
   "source": [
    "s.peek()"
   ]
  },
  {
   "cell_type": "code",
   "execution_count": 44,
   "id": "70cf25ac-0109-4877-bb41-2b4a2f63520c",
   "metadata": {},
   "outputs": [
    {
     "data": {
      "text/plain": [
       "5"
      ]
     },
     "execution_count": 44,
     "metadata": {},
     "output_type": "execute_result"
    }
   ],
   "source": [
    "s.size()"
   ]
  },
  {
   "cell_type": "code",
   "execution_count": 45,
   "id": "c85e9451-759e-4268-8650-34bc89208ef7",
   "metadata": {},
   "outputs": [
    {
     "data": {
      "text/plain": [
       "False"
      ]
     },
     "execution_count": 45,
     "metadata": {},
     "output_type": "execute_result"
    }
   ],
   "source": [
    "s.isEmpty()"
   ]
  },
  {
   "cell_type": "code",
   "execution_count": 46,
   "id": "179c18b9-cae7-413e-a62f-b468490a0445",
   "metadata": {},
   "outputs": [
    {
     "data": {
      "text/plain": [
       "10"
      ]
     },
     "execution_count": 46,
     "metadata": {},
     "output_type": "execute_result"
    }
   ],
   "source": [
    "s.pop()"
   ]
  },
  {
   "cell_type": "code",
   "execution_count": 47,
   "id": "2f1a0a4a-da9b-4cff-8ce0-ee3f94481e6f",
   "metadata": {},
   "outputs": [
    {
     "data": {
      "text/plain": [
       "20"
      ]
     },
     "execution_count": 47,
     "metadata": {},
     "output_type": "execute_result"
    }
   ],
   "source": [
    "s.pop()\n"
   ]
  },
  {
   "cell_type": "code",
   "execution_count": 48,
   "id": "8477f973-f23c-4b6b-8669-2f2071940a23",
   "metadata": {},
   "outputs": [
    {
     "data": {
      "text/plain": [
       "30"
      ]
     },
     "execution_count": 48,
     "metadata": {},
     "output_type": "execute_result"
    }
   ],
   "source": [
    "s.pop()"
   ]
  },
  {
   "cell_type": "code",
   "execution_count": 49,
   "id": "94f95585-687f-4e35-abf2-39747908c0e1",
   "metadata": {},
   "outputs": [
    {
     "data": {
      "text/plain": [
       "['__class__',\n",
       " '__delattr__',\n",
       " '__dict__',\n",
       " '__dir__',\n",
       " '__doc__',\n",
       " '__eq__',\n",
       " '__format__',\n",
       " '__ge__',\n",
       " '__getattribute__',\n",
       " '__gt__',\n",
       " '__hash__',\n",
       " '__init__',\n",
       " '__init_subclass__',\n",
       " '__le__',\n",
       " '__lt__',\n",
       " '__module__',\n",
       " '__ne__',\n",
       " '__new__',\n",
       " '__reduce__',\n",
       " '__reduce_ex__',\n",
       " '__repr__',\n",
       " '__setattr__',\n",
       " '__sizeof__',\n",
       " '__str__',\n",
       " '__subclasshook__',\n",
       " '__weakref__',\n",
       " 'isEmpty',\n",
       " 'pop',\n",
       " 'push',\n",
       " 'seek',\n",
       " 'size']"
      ]
     },
     "execution_count": 49,
     "metadata": {},
     "output_type": "execute_result"
    }
   ],
   "source": [
    "dir(stack)"
   ]
  },
  {
   "cell_type": "code",
   "execution_count": null,
   "id": "25912889-9658-45cc-9cb1-421b6b1ac655",
   "metadata": {},
   "outputs": [],
   "source": []
  },
  {
   "cell_type": "code",
   "execution_count": null,
   "id": "de4f8a9e-f0f4-41e5-b96b-eb169be02cdf",
   "metadata": {},
   "outputs": [],
   "source": []
  },
  {
   "cell_type": "markdown",
   "id": "058ea8ab-140f-4a8e-9397-da9507749471",
   "metadata": {},
   "source": [
    "### Check Valid Parenthesis "
   ]
  },
  {
   "cell_type": "code",
   "execution_count": 11,
   "id": "0f7086c9-a2ce-4df8-9533-417d1567bb9a",
   "metadata": {},
   "outputs": [
    {
     "data": {
      "text/plain": [
       "'valid parenthesis'"
      ]
     },
     "execution_count": 11,
     "metadata": {},
     "output_type": "execute_result"
    }
   ],
   "source": [
    "opening=['[','{','(']\n",
    "closing=[']','{',')']\n",
    "from collections import deque\n",
    "q=deque()\n",
    "s='{[()]}'\n",
    "def valid_parenthesis(string):\n",
    "    stack=[]\n",
    "    opening=['[','{','(']\n",
    "    closing=[']','{',')']\n",
    "    dic={'{':'}','[':']','(':')'}\n",
    "    \n",
    "    for i in  string:\n",
    "        if  i in opening:\n",
    "            stack.append(i)\n",
    "        elif stack and dic[stack[-1]] == i :\n",
    "            stack.pop()\n",
    "        else:\n",
    "            return 'Invalid parenthesis'\n",
    "             \n",
    "    if stack== []:\n",
    "        return 'valid parenthesis'\n",
    "    else:\n",
    "        return 'Invalid parenthesis'\n",
    "valid_parenthesis(s) "
   ]
  },
  {
   "cell_type": "code",
   "execution_count": 12,
   "id": "d38fb2e2-a539-4e9e-85ea-d4905bfd9c40",
   "metadata": {},
   "outputs": [
    {
     "data": {
      "text/plain": [
       "'Invalid parenthesis'"
      ]
     },
     "execution_count": 12,
     "metadata": {},
     "output_type": "execute_result"
    }
   ],
   "source": [
    "valid_parenthesis('{[[]))')"
   ]
  },
  {
   "cell_type": "code",
   "execution_count": 13,
   "id": "c2c6066a-3187-4618-b456-a402ce21ac47",
   "metadata": {},
   "outputs": [
    {
     "data": {
      "text/plain": [
       "'valid parenthesis'"
      ]
     },
     "execution_count": 13,
     "metadata": {},
     "output_type": "execute_result"
    }
   ],
   "source": [
    "valid_parenthesis('{[]()}')"
   ]
  },
  {
   "cell_type": "code",
   "execution_count": null,
   "id": "e4b6fd4f-7938-4fe6-b368-6c0b1c197b13",
   "metadata": {},
   "outputs": [],
   "source": []
  }
 ],
 "metadata": {
  "kernelspec": {
   "display_name": "Python 3 (ipykernel)",
   "language": "python",
   "name": "python3"
  },
  "language_info": {
   "codemirror_mode": {
    "name": "ipython",
    "version": 3
   },
   "file_extension": ".py",
   "mimetype": "text/x-python",
   "name": "python",
   "nbconvert_exporter": "python",
   "pygments_lexer": "ipython3",
   "version": "3.10.6"
  }
 },
 "nbformat": 4,
 "nbformat_minor": 5
}
